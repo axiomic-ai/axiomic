{
 "cells": [
  {
   "cell_type": "markdown",
   "id": "425be521-8c7a-4c65-82d8-5280b0650ffa",
   "metadata": {},
   "source": [
    "# Models \n",
    "\n",
    "Want to use your favorite model? Your perfect tempreature? Me too."
   ]
  },
  {
   "cell_type": "code",
   "execution_count": 1,
   "id": "b7fdecf3-bf62-438f-9d6a-d76e6f7379bb",
   "metadata": {},
   "outputs": [
    {
     "data": {
      "text/html": [
       "<pre style=\"white-space:pre;overflow-x:auto;line-height:normal;font-family:Menlo,'DejaVu Sans Mono',consolas,'Courier New',monospace\"><span style=\"color: #7f7f7f; text-decoration-color: #7f7f7f; font-weight: bold\">(</span><span style=\"color: #7f7f7f; text-decoration-color: #7f7f7f\">axiomic</span><span style=\"color: #7f7f7f; text-decoration-color: #7f7f7f; font-weight: bold\">)</span><span style=\"color: #7f7f7f; text-decoration-color: #7f7f7f\"> weave in helpful console mode </span><span style=\"color: #7f7f7f; text-decoration-color: #7f7f7f; font-weight: bold\">(</span><span style=\"color: #7f7f7f; text-decoration-color: #7f7f7f\">export </span><span style=\"color: #bfbf7f; text-decoration-color: #bfbf7f\">AXIOMIC_CONSOLE_ENABLE</span><span style=\"color: #7f7f7f; text-decoration-color: #7f7f7f\">=</span><span style=\"color: #ff7f7f; text-decoration-color: #ff7f7f; font-style: italic\">False</span><span style=\"color: #7f7f7f; text-decoration-color: #7f7f7f\"> to disable</span><span style=\"color: #7f7f7f; text-decoration-color: #7f7f7f; font-weight: bold\">)</span><span style=\"color: #7f7f7f; text-decoration-color: #7f7f7f\">.</span>\n",
       "</pre>\n"
      ],
      "text/plain": [
       "\u001b[1;2m(\u001b[0m\u001b[2maxiomic\u001b[0m\u001b[1;2m)\u001b[0m\u001b[2m weave in helpful console mode \u001b[0m\u001b[1;2m(\u001b[0m\u001b[2mexport \u001b[0m\u001b[2;33mAXIOMIC_CONSOLE_ENABLE\u001b[0m\u001b[2m=\u001b[0m\u001b[2;3;91mFalse\u001b[0m\u001b[2m to disable\u001b[0m\u001b[1;2m)\u001b[0m\u001b[2m.\u001b[0m\n"
      ]
     },
     "metadata": {},
     "output_type": "display_data"
    },
    {
     "data": {
      "text/html": [
       "<pre style=\"white-space:pre;overflow-x:auto;line-height:normal;font-family:Menlo,'DejaVu Sans Mono',consolas,'Courier New',monospace\"><span style=\"color: #7f7f7f; text-decoration-color: #7f7f7f; font-weight: bold\">(</span><span style=\"color: #7f7f7f; text-decoration-color: #7f7f7f\">axiomic</span><span style=\"color: #7f7f7f; text-decoration-color: #7f7f7f; font-weight: bold\">)</span><span style=\"color: #7f7f7f; text-decoration-color: #7f7f7f\"> discovered OPENAI_API_KEY, models available under models.OpenAI</span>\n",
       "</pre>\n"
      ],
      "text/plain": [
       "\u001b[1;2m(\u001b[0m\u001b[2maxiomic\u001b[0m\u001b[1;2m)\u001b[0m\u001b[2m discovered OPENAI_API_KEY, models available under models.OpenAI\u001b[0m\n"
      ]
     },
     "metadata": {},
     "output_type": "display_data"
    },
    {
     "data": {
      "text/html": [
       "<pre style=\"white-space:pre;overflow-x:auto;line-height:normal;font-family:Menlo,'DejaVu Sans Mono',consolas,'Courier New',monospace\"><span style=\"color: #7f7f7f; text-decoration-color: #7f7f7f; font-weight: bold\">(</span><span style=\"color: #7f7f7f; text-decoration-color: #7f7f7f\">axiomic</span><span style=\"color: #7f7f7f; text-decoration-color: #7f7f7f; font-weight: bold\">)</span><span style=\"color: #7f7f7f; text-decoration-color: #7f7f7f\"> discovered ANTHROPIC_API_KEY, models available under models.Anthropic</span>\n",
       "</pre>\n"
      ],
      "text/plain": [
       "\u001b[1;2m(\u001b[0m\u001b[2maxiomic\u001b[0m\u001b[1;2m)\u001b[0m\u001b[2m discovered ANTHROPIC_API_KEY, models available under models.Anthropic\u001b[0m\n"
      ]
     },
     "metadata": {},
     "output_type": "display_data"
    },
    {
     "data": {
      "text/html": [
       "<pre style=\"white-space:pre;overflow-x:auto;line-height:normal;font-family:Menlo,'DejaVu Sans Mono',consolas,'Courier New',monospace\"><span style=\"color: #7f7f7f; text-decoration-color: #7f7f7f; font-weight: bold\">(</span><span style=\"color: #7f7f7f; text-decoration-color: #7f7f7f\">axiomic</span><span style=\"color: #7f7f7f; text-decoration-color: #7f7f7f; font-weight: bold\">)</span><span style=\"color: #7f7f7f; text-decoration-color: #7f7f7f\"> discovered TOGETHER_API_KEY, models available under models.Together</span>\n",
       "</pre>\n"
      ],
      "text/plain": [
       "\u001b[1;2m(\u001b[0m\u001b[2maxiomic\u001b[0m\u001b[1;2m)\u001b[0m\u001b[2m discovered TOGETHER_API_KEY, models available under models.Together\u001b[0m\n"
      ]
     },
     "metadata": {},
     "output_type": "display_data"
    },
    {
     "data": {
      "application/vnd.jupyter.widget-view+json": {
       "model_id": "",
       "version_major": 2,
       "version_minor": 0
      },
      "text/plain": [
       "Output()"
      ]
     },
     "metadata": {},
     "output_type": "display_data"
    },
    {
     "data": {
      "text/html": [
       "<pre style=\"white-space:pre;overflow-x:auto;line-height:normal;font-family:Menlo,'DejaVu Sans Mono',consolas,'Courier New',monospace\"></pre>\n"
      ],
      "text/plain": []
     },
     "metadata": {},
     "output_type": "display_data"
    },
    {
     "data": {
      "text/html": [
       "<pre style=\"white-space:pre;overflow-x:auto;line-height:normal;font-family:Menlo,'DejaVu Sans Mono',consolas,'Courier New',monospace\"><span style=\"color: #000080; text-decoration-color: #000080; font-weight: bold\">together_text: </span><span style=\"color: #000080; text-decoration-color: #000080; font-weight: bold\">32</span><span style=\"color: #000080; text-decoration-color: #000080; font-weight: bold\"> toks -&gt; meta-llama/Llama-</span><span style=\"color: #000080; text-decoration-color: #000080; font-weight: bold\">3</span><span style=\"color: #000080; text-decoration-color: #000080; font-weight: bold\">-70b-chat-hf -&gt; </span><span style=\"color: #000080; text-decoration-color: #000080; font-weight: bold\">26</span><span style=\"color: #000080; text-decoration-color: #000080; font-weight: bold\"> toks (in </span><span style=\"color: #000080; text-decoration-color: #000080; font-weight: bold\">3.</span><span style=\"color: #000080; text-decoration-color: #000080; font-weight: bold\">29s)</span>\n",
       "</pre>\n"
      ],
      "text/plain": [
       "\u001b[1;34mtogether_text: \u001b[0m\u001b[1;34m32\u001b[0m\u001b[1;34m toks -> meta-llama/Llama-\u001b[0m\u001b[1;34m3\u001b[0m\u001b[1;34m-70b-chat-hf -> \u001b[0m\u001b[1;34m26\u001b[0m\u001b[1;34m toks \u001b[0m\u001b[1;34m(\u001b[0m\u001b[1;34min \u001b[0m\u001b[1;34m3.\u001b[0m\u001b[1;34m29s\u001b[0m\u001b[1;34m)\u001b[0m\n"
      ]
     },
     "metadata": {},
     "output_type": "display_data"
    }
   ],
   "source": [
    "import os\n",
    "import axiomic as ax\n",
    "\n",
    "with ax.models.Generic.Text.Large & ax.models.VerboseText:\n",
    "    response = ax.infer('How much wood would a woodchuck chuck?', system_prompt='Respond in only 1 sentence.').value()"
   ]
  },
  {
   "cell_type": "markdown",
   "id": "ed1b060e-d8e5-4d9b-9ea2-f1db91ace550",
   "metadata": {},
   "source": [
    "## Generic Models\n",
    "\n",
    "Generic models will choose a reasonable model for you, based on which API keys are available in the environment. Using generic models means your code is sharable and will run for anyone else using axiomic.\n",
    "\n",
    "The global default text model is `Generic.Text.Medium`. You can change the default to large, or a specific model such as GPT-4o or Llama or Claude. "
   ]
  },
  {
   "cell_type": "code",
   "execution_count": 2,
   "id": "a9ab6e17-c6e9-45d9-bf6a-dfffbfea6338",
   "metadata": {},
   "outputs": [
    {
     "data": {
      "application/vnd.jupyter.widget-view+json": {
       "model_id": "",
       "version_major": 2,
       "version_minor": 0
      },
      "text/plain": [
       "Output()"
      ]
     },
     "metadata": {},
     "output_type": "display_data"
    },
    {
     "data": {
      "text/html": [
       "<pre style=\"white-space:pre;overflow-x:auto;line-height:normal;font-family:Menlo,'DejaVu Sans Mono',consolas,'Courier New',monospace\"></pre>\n"
      ],
      "text/plain": []
     },
     "metadata": {},
     "output_type": "display_data"
    },
    {
     "data": {
      "text/html": [
       "<pre style=\"white-space:pre;overflow-x:auto;line-height:normal;font-family:Menlo,'DejaVu Sans Mono',consolas,'Courier New',monospace\"><span style=\"color: #000080; text-decoration-color: #000080; font-weight: bold\">together_text: </span><span style=\"color: #000080; text-decoration-color: #000080; font-weight: bold\">27</span><span style=\"color: #000080; text-decoration-color: #000080; font-weight: bold\"> toks -&gt; meta-llama/Llama-</span><span style=\"color: #000080; text-decoration-color: #000080; font-weight: bold\">3</span><span style=\"color: #000080; text-decoration-color: #000080; font-weight: bold\">-70b-chat-hf -&gt; </span><span style=\"color: #000080; text-decoration-color: #000080; font-weight: bold\">7</span><span style=\"color: #000080; text-decoration-color: #000080; font-weight: bold\"> toks (in </span><span style=\"color: #000080; text-decoration-color: #000080; font-weight: bold\">2.</span><span style=\"color: #000080; text-decoration-color: #000080; font-weight: bold\">59s)</span>\n",
       "</pre>\n"
      ],
      "text/plain": [
       "\u001b[1;34mtogether_text: \u001b[0m\u001b[1;34m27\u001b[0m\u001b[1;34m toks -> meta-llama/Llama-\u001b[0m\u001b[1;34m3\u001b[0m\u001b[1;34m-70b-chat-hf -> \u001b[0m\u001b[1;34m7\u001b[0m\u001b[1;34m toks \u001b[0m\u001b[1;34m(\u001b[0m\u001b[1;34min \u001b[0m\u001b[1;34m2.\u001b[0m\u001b[1;34m59s\u001b[0m\u001b[1;34m)\u001b[0m\n"
      ]
     },
     "metadata": {},
     "output_type": "display_data"
    },
    {
     "data": {
      "text/html": [
       "<pre style=\"white-space:pre;overflow-x:auto;line-height:normal;font-family:Menlo,'DejaVu Sans Mono',consolas,'Courier New',monospace\"><span style=\"color: #808080; text-decoration-color: #808080\">/var/folders/m0/21rq1gt53f9b88p14y6q8pfm0000gn/T/ipykernel_69440/1326174865.py:</span><span style=\"color: #808080; text-decoration-color: #808080; font-weight: bold\">2</span><span style=\"color: #808080; text-decoration-color: #808080\"> </span><span style=\"color: #808080; text-decoration-color: #808080; font-weight: bold\">(</span><span style=\"color: #808080; text-decoration-color: #808080\">printed</span><span style=\"color: #808080; text-decoration-color: #808080; font-weight: bold\">)</span>\n",
       "</pre>\n"
      ],
      "text/plain": [
       "\u001b[38;5;244m/var/folders/m0/21rq1gt53f9b88p14y6q8pfm0000gn/T/ipykernel_69440/\u001b[0m\u001b[38;5;244m1326174865.py\u001b[0m\u001b[38;5;244m:\u001b[0m\u001b[1;38;5;244m2\u001b[0m\u001b[38;5;244m \u001b[0m\u001b[1;38;5;244m(\u001b[0m\u001b[38;5;244mprinted\u001b[0m\u001b[1;38;5;244m)\u001b[0m\n"
      ]
     },
     "metadata": {},
     "output_type": "display_data"
    },
    {
     "data": {
      "text/html": [
       "<pre style=\"white-space:pre;overflow-x:auto;line-height:normal;font-family:Menlo,'DejaVu Sans Mono',consolas,'Courier New',monospace\"><span style=\"color: #808080; text-decoration-color: #808080\">╭─ Text ───────────╮</span>\n",
       "<span style=\"color: #808080; text-decoration-color: #808080\">│ The answer is 4. │</span>\n",
       "<span style=\"color: #808080; text-decoration-color: #808080\">╰──────────────────╯</span>\n",
       "</pre>\n"
      ],
      "text/plain": [
       "\u001b[38;5;244m╭─\u001b[0m\u001b[38;5;244m Text \u001b[0m\u001b[38;5;244m──────────\u001b[0m\u001b[38;5;244m─╮\u001b[0m\n",
       "\u001b[38;5;244m│\u001b[0m\u001b[38;5;244m \u001b[0m\u001b[38;5;244mThe answer is 4.\u001b[0m\u001b[38;5;244m \u001b[0m\u001b[38;5;244m│\u001b[0m\n",
       "\u001b[38;5;244m╰──────────────────╯\u001b[0m\n"
      ]
     },
     "metadata": {},
     "output_type": "display_data"
    },
    {
     "data": {
      "text/plain": [
       "Text(_history_complete6)"
      ]
     },
     "execution_count": 2,
     "metadata": {},
     "output_type": "execute_result"
    }
   ],
   "source": [
    "ax.models.global_default(ax.models.Generic.Text.Large & ax.models.VerboseText)\n",
    "ax.infer('What is 2 + 2?', system_prompt='Respond a number.').print()"
   ]
  },
  {
   "cell_type": "markdown",
   "id": "799cd090-22c1-4114-a6d2-c55a7319d5aa",
   "metadata": {},
   "source": [
    "## Together Example\n",
    "\n",
    "We can use some together models specifically."
   ]
  },
  {
   "cell_type": "code",
   "execution_count": 3,
   "id": "2523836a-eeea-41f4-a1ea-30df09761678",
   "metadata": {},
   "outputs": [
    {
     "data": {
      "application/vnd.jupyter.widget-view+json": {
       "model_id": "",
       "version_major": 2,
       "version_minor": 0
      },
      "text/plain": [
       "Output()"
      ]
     },
     "metadata": {},
     "output_type": "display_data"
    },
    {
     "data": {
      "text/html": [
       "<pre style=\"white-space:pre;overflow-x:auto;line-height:normal;font-family:Menlo,'DejaVu Sans Mono',consolas,'Courier New',monospace\"></pre>\n"
      ],
      "text/plain": []
     },
     "metadata": {},
     "output_type": "display_data"
    },
    {
     "data": {
      "text/html": [
       "<pre style=\"white-space:pre;overflow-x:auto;line-height:normal;font-family:Menlo,'DejaVu Sans Mono',consolas,'Courier New',monospace\"><span style=\"color: #000080; text-decoration-color: #000080; font-weight: bold\">together_text: </span><span style=\"color: #000080; text-decoration-color: #000080; font-weight: bold\">16</span><span style=\"color: #000080; text-decoration-color: #000080; font-weight: bold\"> toks -&gt; meta-llama/Llama-</span><span style=\"color: #000080; text-decoration-color: #000080; font-weight: bold\">3</span><span style=\"color: #000080; text-decoration-color: #000080; font-weight: bold\">-70b-chat-hf -&gt; </span><span style=\"color: #000080; text-decoration-color: #000080; font-weight: bold\">65</span><span style=\"color: #000080; text-decoration-color: #000080; font-weight: bold\"> toks (in </span><span style=\"color: #000080; text-decoration-color: #000080; font-weight: bold\">1.</span><span style=\"color: #000080; text-decoration-color: #000080; font-weight: bold\">11s)</span>\n",
       "</pre>\n"
      ],
      "text/plain": [
       "\u001b[1;34mtogether_text: \u001b[0m\u001b[1;34m16\u001b[0m\u001b[1;34m toks -> meta-llama/Llama-\u001b[0m\u001b[1;34m3\u001b[0m\u001b[1;34m-70b-chat-hf -> \u001b[0m\u001b[1;34m65\u001b[0m\u001b[1;34m toks \u001b[0m\u001b[1;34m(\u001b[0m\u001b[1;34min \u001b[0m\u001b[1;34m1.\u001b[0m\u001b[1;34m11s\u001b[0m\u001b[1;34m)\u001b[0m\n"
      ]
     },
     "metadata": {},
     "output_type": "display_data"
    },
    {
     "data": {
      "text/html": [
       "<pre style=\"white-space:pre;overflow-x:auto;line-height:normal;font-family:Menlo,'DejaVu Sans Mono',consolas,'Courier New',monospace\"><span style=\"color: #808080; text-decoration-color: #808080\">/var/folders/m0/21rq1gt53f9b88p14y6q8pfm0000gn/T/ipykernel_69440/2539479150.py:</span><span style=\"color: #808080; text-decoration-color: #808080; font-weight: bold\">3</span><span style=\"color: #808080; text-decoration-color: #808080\"> </span><span style=\"color: #808080; text-decoration-color: #808080; font-weight: bold\">(</span><span style=\"color: #808080; text-decoration-color: #808080\">printed</span><span style=\"color: #808080; text-decoration-color: #808080; font-weight: bold\">)</span>\n",
       "</pre>\n"
      ],
      "text/plain": [
       "\u001b[38;5;244m/var/folders/m0/21rq1gt53f9b88p14y6q8pfm0000gn/T/ipykernel_69440/\u001b[0m\u001b[38;5;244m2539479150.py\u001b[0m\u001b[38;5;244m:\u001b[0m\u001b[1;38;5;244m3\u001b[0m\u001b[38;5;244m \u001b[0m\u001b[1;38;5;244m(\u001b[0m\u001b[38;5;244mprinted\u001b[0m\u001b[1;38;5;244m)\u001b[0m\n"
      ]
     },
     "metadata": {},
     "output_type": "display_data"
    },
    {
     "data": {
      "text/html": [
       "<pre style=\"white-space:pre;overflow-x:auto;line-height:normal;font-family:Menlo,'DejaVu Sans Mono',consolas,'Courier New',monospace\"><span style=\"color: #808080; text-decoration-color: #808080\">╭─ Text ──────────────────────────────────────────────────────────────────────────────────────────────────────────╮</span>\n",
       "<span style=\"color: #808080; text-decoration-color: #808080\">│ I'm just an AI, I don't have personal preferences, including favorite colors. I am programmed to provide        │</span>\n",
       "<span style=\"color: #808080; text-decoration-color: #808080\">│ information and assist with tasks, but I don't have personal opinions or feelings. However, I can tell you      │</span>\n",
       "<span style=\"color: #808080; text-decoration-color: #808080\">│ about the different meanings and associations that various colors have in different cultures and contexts if    │</span>\n",
       "<span style=\"color: #808080; text-decoration-color: #808080\">│ you're interested!                                                                                              │</span>\n",
       "<span style=\"color: #808080; text-decoration-color: #808080\">╰─────────────────────────────────────────────────────────────────────────────────────────────────────────────────╯</span>\n",
       "</pre>\n"
      ],
      "text/plain": [
       "\u001b[38;5;244m╭─\u001b[0m\u001b[38;5;244m Text \u001b[0m\u001b[38;5;244m─────────────────────────────────────────────────────────────────────────────────────────────────────────\u001b[0m\u001b[38;5;244m─╮\u001b[0m\n",
       "\u001b[38;5;244m│\u001b[0m\u001b[38;5;244m \u001b[0m\u001b[38;5;244mI'm just an AI, I don't have personal preferences, including favorite colors. I am programmed to provide \u001b[0m\u001b[38;5;244m      \u001b[0m\u001b[38;5;244m \u001b[0m\u001b[38;5;244m│\u001b[0m\n",
       "\u001b[38;5;244m│\u001b[0m\u001b[38;5;244m \u001b[0m\u001b[38;5;244minformation and assist with tasks, but I don't have personal opinions or feelings. However, I can tell you \u001b[0m\u001b[38;5;244m    \u001b[0m\u001b[38;5;244m \u001b[0m\u001b[38;5;244m│\u001b[0m\n",
       "\u001b[38;5;244m│\u001b[0m\u001b[38;5;244m \u001b[0m\u001b[38;5;244mabout the different meanings and associations that various colors have in different cultures and contexts if \u001b[0m\u001b[38;5;244m  \u001b[0m\u001b[38;5;244m \u001b[0m\u001b[38;5;244m│\u001b[0m\n",
       "\u001b[38;5;244m│\u001b[0m\u001b[38;5;244m \u001b[0m\u001b[38;5;244myou're interested!\u001b[0m\u001b[38;5;244m                                                                                             \u001b[0m\u001b[38;5;244m \u001b[0m\u001b[38;5;244m│\u001b[0m\n",
       "\u001b[38;5;244m╰─────────────────────────────────────────────────────────────────────────────────────────────────────────────────╯\u001b[0m\n"
      ]
     },
     "metadata": {},
     "output_type": "display_data"
    }
   ],
   "source": [
    "if 'TOGETHER_API_KEY' in os.environ:\n",
    "    with ax.models.Together.Text.Llama3.llama_3_70b_chat_hf & ax.models.MaxTokens1024 & ax.models.Temperature0_9:\n",
    "        ax.infer('What is your favorite color?').print()"
   ]
  },
  {
   "cell_type": "markdown",
   "id": "f53cd746-e812-44c9-8510-f5731ed5c42e",
   "metadata": {},
   "source": [
    "## OpenAI Example\n",
    "\n",
    "This will only work if you `export OPENAI_API_KEY=sk-...`. "
   ]
  },
  {
   "cell_type": "code",
   "execution_count": 4,
   "id": "4affd054-a18a-4203-8673-f97fa444b97e",
   "metadata": {},
   "outputs": [
    {
     "data": {
      "application/vnd.jupyter.widget-view+json": {
       "model_id": "",
       "version_major": 2,
       "version_minor": 0
      },
      "text/plain": [
       "Output()"
      ]
     },
     "metadata": {},
     "output_type": "display_data"
    },
    {
     "data": {
      "text/html": [
       "<pre style=\"white-space:pre;overflow-x:auto;line-height:normal;font-family:Menlo,'DejaVu Sans Mono',consolas,'Courier New',monospace\"></pre>\n"
      ],
      "text/plain": []
     },
     "metadata": {},
     "output_type": "display_data"
    },
    {
     "data": {
      "text/html": [
       "<pre style=\"white-space:pre;overflow-x:auto;line-height:normal;font-family:Menlo,'DejaVu Sans Mono',consolas,'Courier New',monospace\"><span style=\"color: #000080; text-decoration-color: #000080; font-weight: bold\">openai_text: </span><span style=\"color: #000080; text-decoration-color: #000080; font-weight: bold\">12</span><span style=\"color: #000080; text-decoration-color: #000080; font-weight: bold\"> toks -&gt; gpt-4o -&gt; </span><span style=\"color: #000080; text-decoration-color: #000080; font-weight: bold\">7</span><span style=\"color: #000080; text-decoration-color: #000080; font-weight: bold\"> toks (in </span><span style=\"color: #000080; text-decoration-color: #000080; font-weight: bold\">1.</span><span style=\"color: #000080; text-decoration-color: #000080; font-weight: bold\">06s)</span>\n",
       "</pre>\n"
      ],
      "text/plain": [
       "\u001b[1;34mopenai_text: \u001b[0m\u001b[1;34m12\u001b[0m\u001b[1;34m toks -> gpt-4o -> \u001b[0m\u001b[1;34m7\u001b[0m\u001b[1;34m toks \u001b[0m\u001b[1;34m(\u001b[0m\u001b[1;34min \u001b[0m\u001b[1;34m1.\u001b[0m\u001b[1;34m06s\u001b[0m\u001b[1;34m)\u001b[0m\n"
      ]
     },
     "metadata": {},
     "output_type": "display_data"
    },
    {
     "data": {
      "text/html": [
       "<pre style=\"white-space:pre;overflow-x:auto;line-height:normal;font-family:Menlo,'DejaVu Sans Mono',consolas,'Courier New',monospace\"><span style=\"color: #808080; text-decoration-color: #808080\">/var/folders/m0/21rq1gt53f9b88p14y6q8pfm0000gn/T/ipykernel_69440/2094992855.py:</span><span style=\"color: #808080; text-decoration-color: #808080; font-weight: bold\">4</span><span style=\"color: #808080; text-decoration-color: #808080\"> </span><span style=\"color: #808080; text-decoration-color: #808080; font-weight: bold\">(</span><span style=\"color: #808080; text-decoration-color: #808080\">printed</span><span style=\"color: #808080; text-decoration-color: #808080; font-weight: bold\">)</span>\n",
       "</pre>\n"
      ],
      "text/plain": [
       "\u001b[38;5;244m/var/folders/m0/21rq1gt53f9b88p14y6q8pfm0000gn/T/ipykernel_69440/\u001b[0m\u001b[38;5;244m2094992855.py\u001b[0m\u001b[38;5;244m:\u001b[0m\u001b[1;38;5;244m4\u001b[0m\u001b[38;5;244m \u001b[0m\u001b[1;38;5;244m(\u001b[0m\u001b[38;5;244mprinted\u001b[0m\u001b[1;38;5;244m)\u001b[0m\n"
      ]
     },
     "metadata": {},
     "output_type": "display_data"
    },
    {
     "data": {
      "text/html": [
       "<pre style=\"white-space:pre;overflow-x:auto;line-height:normal;font-family:Menlo,'DejaVu Sans Mono',consolas,'Courier New',monospace\"><span style=\"color: #808080; text-decoration-color: #808080\">╭─ Text ────╮</span>\n",
       "<span style=\"color: #808080; text-decoration-color: #808080\">│ 1 + 1 = 2 │</span>\n",
       "<span style=\"color: #808080; text-decoration-color: #808080\">╰───────────╯</span>\n",
       "</pre>\n"
      ],
      "text/plain": [
       "\u001b[38;5;244m╭─\u001b[0m\u001b[38;5;244m Text \u001b[0m\u001b[38;5;244m───\u001b[0m\u001b[38;5;244m─╮\u001b[0m\n",
       "\u001b[38;5;244m│\u001b[0m\u001b[38;5;244m \u001b[0m\u001b[38;5;244m1 + 1 = 2\u001b[0m\u001b[38;5;244m \u001b[0m\u001b[38;5;244m│\u001b[0m\n",
       "\u001b[38;5;244m╰───────────╯\u001b[0m\n"
      ]
     },
     "metadata": {},
     "output_type": "display_data"
    }
   ],
   "source": [
    "if 'OPENAI_API_KEY' in os.environ:\n",
    "    GPT4 = ax.models.OpenAI.MultiModal.GPT4o & ax.models.Temperature0_8 & ax.models.MaxTokens128\n",
    "    with GPT4:\n",
    "        response = ax.infer('1 + 1 =').print()"
   ]
  },
  {
   "cell_type": "markdown",
   "id": "25294b5e-8331-45d0-948a-6ee81a4a3820",
   "metadata": {},
   "source": [
    "## Model Context\n",
    "\n",
    "These contexts will properly shadow to give you fine grain control. You can always inspect your current context to understand the detailed behavior.\n",
    "\n",
    "Here, notice the model is `RUNTIME:small_text_model` meaning it will be dynamically resolved at runtime, and can vary each time the program is run. This means that as you change your environment variables and as Axiomic updates the default models (such as when a new model is released), your agents will automatically adjust."
   ]
  },
  {
   "cell_type": "code",
   "execution_count": 5,
   "id": "06e6a111-18a6-46ac-b8fb-3ce536480248",
   "metadata": {},
   "outputs": [
    {
     "data": {
      "text/html": [
       "<pre style=\"white-space:pre;overflow-x:auto;line-height:normal;font-family:Menlo,'DejaVu Sans Mono',consolas,'Courier New',monospace\"><span style=\"color: #7f7f7f; text-decoration-color: #7f7f7f\">╭───────────────────────────────────────────────── Context Stack ─────────────────────────────────────────────────╮</span>\n",
       "<span style=\"color: #7f7f7f; text-decoration-color: #7f7f7f\">│ ╭────────────────────────────────────────────── Global Context ───────────────────────────────────────────────╮ │</span>\n",
       "<span style=\"color: #7f7f7f; text-decoration-color: #7f7f7f\">│ │ llm_provider_name: RUNTIME:large_text_provider                                                              │ │</span>\n",
       "<span style=\"color: #7f7f7f; text-decoration-color: #7f7f7f\">│ │ llm_model_name: RUNTIME:large_text_model                                                                    │ │</span>\n",
       "<span style=\"color: #7f7f7f; text-decoration-color: #7f7f7f\">│ │ llm_temperature: 0.5                                                                                        │ │</span>\n",
       "<span style=\"color: #7f7f7f; text-decoration-color: #7f7f7f\">│ │ llm_max_tokens: 1024                                                                                        │ │</span>\n",
       "<span style=\"color: #7f7f7f; text-decoration-color: #7f7f7f\">│ │ verbose_llm: True                                                                                           │ │</span>\n",
       "<span style=\"color: #7f7f7f; text-decoration-color: #7f7f7f\">│ │ image_provider_name: together_img                                                                           │ │</span>\n",
       "<span style=\"color: #7f7f7f; text-decoration-color: #7f7f7f\">│ │ image_model_name: stabilityai/stable-diffusion-2-1                                                          │ │</span>\n",
       "<span style=\"color: #7f7f7f; text-decoration-color: #7f7f7f\">│ │ image_width: 1024                                                                                           │ │</span>\n",
       "<span style=\"color: #7f7f7f; text-decoration-color: #7f7f7f\">│ │ image_height: 1024                                                                                          │ │</span>\n",
       "<span style=\"color: #7f7f7f; text-decoration-color: #7f7f7f\">│ │ embedding_provider_name: openai_embed                                                                       │ │</span>\n",
       "<span style=\"color: #7f7f7f; text-decoration-color: #7f7f7f\">│ │ embedding_model_name: text-embedding-3-small                                                                │ │</span>\n",
       "<span style=\"color: #7f7f7f; text-decoration-color: #7f7f7f\">│ ╰─────────────────────────────────────────────────────────────────────────────────────────────────────────────╯ │</span>\n",
       "<span style=\"color: #7f7f7f; text-decoration-color: #7f7f7f\">│ ╭──────────────────────────────────── Generic.Text.Small &amp; Temperature0_1 ────────────────────────────────────╮ │</span>\n",
       "<span style=\"color: #7f7f7f; text-decoration-color: #7f7f7f\">│ │ llm_provider_name: RUNTIME:small_text_provider                                                              │ │</span>\n",
       "<span style=\"color: #7f7f7f; text-decoration-color: #7f7f7f\">│ │ llm_model_name: RUNTIME:small_text_model                                                                    │ │</span>\n",
       "<span style=\"color: #7f7f7f; text-decoration-color: #7f7f7f\">│ │ llm_temperature: 0.1                                                                                        │ │</span>\n",
       "<span style=\"color: #7f7f7f; text-decoration-color: #7f7f7f\">│ │ llm_max_tokens: 1024                                                                                        │ │</span>\n",
       "<span style=\"color: #7f7f7f; text-decoration-color: #7f7f7f\">│ ╰─────────────────────────────────────────────────────────────────────────────────────────────────────────────╯ │</span>\n",
       "<span style=\"color: #7f7f7f; text-decoration-color: #7f7f7f\">│ ╭─────────────────────────────────────────────── MaxTokens4096 ───────────────────────────────────────────────╮ │</span>\n",
       "<span style=\"color: #7f7f7f; text-decoration-color: #7f7f7f\">│ │ llm_max_tokens: 4096                                                                                        │ │</span>\n",
       "<span style=\"color: #7f7f7f; text-decoration-color: #7f7f7f\">│ ╰─────────────────────────────────────────────────────────────────────────────────────────────────────────────╯ │</span>\n",
       "<span style=\"color: #7f7f7f; text-decoration-color: #7f7f7f\">╰─────────────────────────────────────────────────────────────────────────────────────────────────────────────────╯</span>\n",
       "</pre>\n"
      ],
      "text/plain": [
       "\u001b[2m╭─\u001b[0m\u001b[2m────────────────────────────────────────────────\u001b[0m\u001b[2m Context Stack \u001b[0m\u001b[2m────────────────────────────────────────────────\u001b[0m\u001b[2m─╮\u001b[0m\n",
       "\u001b[2m│\u001b[0m\u001b[2m \u001b[0m\u001b[2m╭─\u001b[0m\u001b[2m─────────────────────────────────────────────\u001b[0m\u001b[2m Global Context \u001b[0m\u001b[2m──────────────────────────────────────────────\u001b[0m\u001b[2m─╮\u001b[0m\u001b[2m \u001b[0m\u001b[2m│\u001b[0m\n",
       "\u001b[2m│\u001b[0m\u001b[2m \u001b[0m\u001b[2m│\u001b[0m\u001b[2m \u001b[0m\u001b[2mllm_provider_name: RUNTIME:large_text_provider\u001b[0m\u001b[2m                                                             \u001b[0m\u001b[2m \u001b[0m\u001b[2m│\u001b[0m\u001b[2m \u001b[0m\u001b[2m│\u001b[0m\n",
       "\u001b[2m│\u001b[0m\u001b[2m \u001b[0m\u001b[2m│\u001b[0m\u001b[2m \u001b[0m\u001b[2mllm_model_name: RUNTIME:large_text_model\u001b[0m\u001b[2m                                                                   \u001b[0m\u001b[2m \u001b[0m\u001b[2m│\u001b[0m\u001b[2m \u001b[0m\u001b[2m│\u001b[0m\n",
       "\u001b[2m│\u001b[0m\u001b[2m \u001b[0m\u001b[2m│\u001b[0m\u001b[2m \u001b[0m\u001b[2mllm_temperature: 0.5\u001b[0m\u001b[2m                                                                                       \u001b[0m\u001b[2m \u001b[0m\u001b[2m│\u001b[0m\u001b[2m \u001b[0m\u001b[2m│\u001b[0m\n",
       "\u001b[2m│\u001b[0m\u001b[2m \u001b[0m\u001b[2m│\u001b[0m\u001b[2m \u001b[0m\u001b[2mllm_max_tokens: 1024\u001b[0m\u001b[2m                                                                                       \u001b[0m\u001b[2m \u001b[0m\u001b[2m│\u001b[0m\u001b[2m \u001b[0m\u001b[2m│\u001b[0m\n",
       "\u001b[2m│\u001b[0m\u001b[2m \u001b[0m\u001b[2m│\u001b[0m\u001b[2m \u001b[0m\u001b[2mverbose_llm: True\u001b[0m\u001b[2m                                                                                          \u001b[0m\u001b[2m \u001b[0m\u001b[2m│\u001b[0m\u001b[2m \u001b[0m\u001b[2m│\u001b[0m\n",
       "\u001b[2m│\u001b[0m\u001b[2m \u001b[0m\u001b[2m│\u001b[0m\u001b[2m \u001b[0m\u001b[2mimage_provider_name: together_img\u001b[0m\u001b[2m                                                                          \u001b[0m\u001b[2m \u001b[0m\u001b[2m│\u001b[0m\u001b[2m \u001b[0m\u001b[2m│\u001b[0m\n",
       "\u001b[2m│\u001b[0m\u001b[2m \u001b[0m\u001b[2m│\u001b[0m\u001b[2m \u001b[0m\u001b[2mimage_model_name: stabilityai/stable-diffusion-2-1\u001b[0m\u001b[2m                                                         \u001b[0m\u001b[2m \u001b[0m\u001b[2m│\u001b[0m\u001b[2m \u001b[0m\u001b[2m│\u001b[0m\n",
       "\u001b[2m│\u001b[0m\u001b[2m \u001b[0m\u001b[2m│\u001b[0m\u001b[2m \u001b[0m\u001b[2mimage_width: 1024\u001b[0m\u001b[2m                                                                                          \u001b[0m\u001b[2m \u001b[0m\u001b[2m│\u001b[0m\u001b[2m \u001b[0m\u001b[2m│\u001b[0m\n",
       "\u001b[2m│\u001b[0m\u001b[2m \u001b[0m\u001b[2m│\u001b[0m\u001b[2m \u001b[0m\u001b[2mimage_height: 1024\u001b[0m\u001b[2m                                                                                         \u001b[0m\u001b[2m \u001b[0m\u001b[2m│\u001b[0m\u001b[2m \u001b[0m\u001b[2m│\u001b[0m\n",
       "\u001b[2m│\u001b[0m\u001b[2m \u001b[0m\u001b[2m│\u001b[0m\u001b[2m \u001b[0m\u001b[2membedding_provider_name: openai_embed\u001b[0m\u001b[2m                                                                      \u001b[0m\u001b[2m \u001b[0m\u001b[2m│\u001b[0m\u001b[2m \u001b[0m\u001b[2m│\u001b[0m\n",
       "\u001b[2m│\u001b[0m\u001b[2m \u001b[0m\u001b[2m│\u001b[0m\u001b[2m \u001b[0m\u001b[2membedding_model_name: text-embedding-3-small\u001b[0m\u001b[2m                                                               \u001b[0m\u001b[2m \u001b[0m\u001b[2m│\u001b[0m\u001b[2m \u001b[0m\u001b[2m│\u001b[0m\n",
       "\u001b[2m│\u001b[0m\u001b[2m \u001b[0m\u001b[2m╰─────────────────────────────────────────────────────────────────────────────────────────────────────────────╯\u001b[0m\u001b[2m \u001b[0m\u001b[2m│\u001b[0m\n",
       "\u001b[2m│\u001b[0m\u001b[2m \u001b[0m\u001b[2m╭─\u001b[0m\u001b[2m───────────────────────────────────\u001b[0m\u001b[2m Generic.Text.Small & Temperature0_1 \u001b[0m\u001b[2m───────────────────────────────────\u001b[0m\u001b[2m─╮\u001b[0m\u001b[2m \u001b[0m\u001b[2m│\u001b[0m\n",
       "\u001b[2m│\u001b[0m\u001b[2m \u001b[0m\u001b[2m│\u001b[0m\u001b[2m \u001b[0m\u001b[2mllm_provider_name: RUNTIME:small_text_provider\u001b[0m\u001b[2m                                                             \u001b[0m\u001b[2m \u001b[0m\u001b[2m│\u001b[0m\u001b[2m \u001b[0m\u001b[2m│\u001b[0m\n",
       "\u001b[2m│\u001b[0m\u001b[2m \u001b[0m\u001b[2m│\u001b[0m\u001b[2m \u001b[0m\u001b[2mllm_model_name: RUNTIME:small_text_model\u001b[0m\u001b[2m                                                                   \u001b[0m\u001b[2m \u001b[0m\u001b[2m│\u001b[0m\u001b[2m \u001b[0m\u001b[2m│\u001b[0m\n",
       "\u001b[2m│\u001b[0m\u001b[2m \u001b[0m\u001b[2m│\u001b[0m\u001b[2m \u001b[0m\u001b[2mllm_temperature: 0.1\u001b[0m\u001b[2m                                                                                       \u001b[0m\u001b[2m \u001b[0m\u001b[2m│\u001b[0m\u001b[2m \u001b[0m\u001b[2m│\u001b[0m\n",
       "\u001b[2m│\u001b[0m\u001b[2m \u001b[0m\u001b[2m│\u001b[0m\u001b[2m \u001b[0m\u001b[2mllm_max_tokens: 1024\u001b[0m\u001b[2m                                                                                       \u001b[0m\u001b[2m \u001b[0m\u001b[2m│\u001b[0m\u001b[2m \u001b[0m\u001b[2m│\u001b[0m\n",
       "\u001b[2m│\u001b[0m\u001b[2m \u001b[0m\u001b[2m╰─────────────────────────────────────────────────────────────────────────────────────────────────────────────╯\u001b[0m\u001b[2m \u001b[0m\u001b[2m│\u001b[0m\n",
       "\u001b[2m│\u001b[0m\u001b[2m \u001b[0m\u001b[2m╭─\u001b[0m\u001b[2m──────────────────────────────────────────────\u001b[0m\u001b[2m MaxTokens4096 \u001b[0m\u001b[2m──────────────────────────────────────────────\u001b[0m\u001b[2m─╮\u001b[0m\u001b[2m \u001b[0m\u001b[2m│\u001b[0m\n",
       "\u001b[2m│\u001b[0m\u001b[2m \u001b[0m\u001b[2m│\u001b[0m\u001b[2m \u001b[0m\u001b[2mllm_max_tokens: 4096\u001b[0m\u001b[2m                                                                                       \u001b[0m\u001b[2m \u001b[0m\u001b[2m│\u001b[0m\u001b[2m \u001b[0m\u001b[2m│\u001b[0m\n",
       "\u001b[2m│\u001b[0m\u001b[2m \u001b[0m\u001b[2m╰─────────────────────────────────────────────────────────────────────────────────────────────────────────────╯\u001b[0m\u001b[2m \u001b[0m\u001b[2m│\u001b[0m\n",
       "\u001b[2m╰─────────────────────────────────────────────────────────────────────────────────────────────────────────────────╯\u001b[0m\n"
      ]
     },
     "metadata": {},
     "output_type": "display_data"
    }
   ],
   "source": [
    "with ax.models.Generic.Text.Small & ax.models.Temperature0_1:\n",
    "    with ax.models.MaxTokens4096:\n",
    "        ax.models.print_context()"
   ]
  },
  {
   "cell_type": "markdown",
   "id": "cad25fe1-6863-47c5-b8b0-b98320fcadfa",
   "metadata": {},
   "source": [
    "## Custom Context\n",
    "\n",
    "If you want to create a custom context, you can. Custom contexts are currently a prototype feature, but you can experiment with them.\n",
    "\n",
    "You'll need to be careful, as it is very easy to make an invalid configuration context without reading the provider's documentation."
   ]
  },
  {
   "cell_type": "code",
   "execution_count": 6,
   "id": "8e4d5974-d9d8-4b94-b588-8c4260e6cf8f",
   "metadata": {},
   "outputs": [
    {
     "data": {
      "text/html": [
       "<pre style=\"white-space:pre;overflow-x:auto;line-height:normal;font-family:Menlo,'DejaVu Sans Mono',consolas,'Courier New',monospace\"><span style=\"color: #7f7f7f; text-decoration-color: #7f7f7f\">╭───────────────────────────────────────────────── Context Stack ─────────────────────────────────────────────────╮</span>\n",
       "<span style=\"color: #7f7f7f; text-decoration-color: #7f7f7f\">│ ╭────────────────────────────────────────────── Global Context ───────────────────────────────────────────────╮ │</span>\n",
       "<span style=\"color: #7f7f7f; text-decoration-color: #7f7f7f\">│ │ llm_provider_name: RUNTIME:large_text_provider                                                              │ │</span>\n",
       "<span style=\"color: #7f7f7f; text-decoration-color: #7f7f7f\">│ │ llm_model_name: RUNTIME:large_text_model                                                                    │ │</span>\n",
       "<span style=\"color: #7f7f7f; text-decoration-color: #7f7f7f\">│ │ llm_temperature: 0.5                                                                                        │ │</span>\n",
       "<span style=\"color: #7f7f7f; text-decoration-color: #7f7f7f\">│ │ llm_max_tokens: 1024                                                                                        │ │</span>\n",
       "<span style=\"color: #7f7f7f; text-decoration-color: #7f7f7f\">│ │ verbose_llm: True                                                                                           │ │</span>\n",
       "<span style=\"color: #7f7f7f; text-decoration-color: #7f7f7f\">│ │ image_provider_name: together_img                                                                           │ │</span>\n",
       "<span style=\"color: #7f7f7f; text-decoration-color: #7f7f7f\">│ │ image_model_name: stabilityai/stable-diffusion-2-1                                                          │ │</span>\n",
       "<span style=\"color: #7f7f7f; text-decoration-color: #7f7f7f\">│ │ image_width: 1024                                                                                           │ │</span>\n",
       "<span style=\"color: #7f7f7f; text-decoration-color: #7f7f7f\">│ │ image_height: 1024                                                                                          │ │</span>\n",
       "<span style=\"color: #7f7f7f; text-decoration-color: #7f7f7f\">│ │ embedding_provider_name: openai_embed                                                                       │ │</span>\n",
       "<span style=\"color: #7f7f7f; text-decoration-color: #7f7f7f\">│ │ embedding_model_name: text-embedding-3-small                                                                │ │</span>\n",
       "<span style=\"color: #7f7f7f; text-decoration-color: #7f7f7f\">│ ╰─────────────────────────────────────────────────────────────────────────────────────────────────────────────╯ │</span>\n",
       "<span style=\"color: #7f7f7f; text-decoration-color: #7f7f7f\">│ ╭───────────────────────────────────────────── Perfect Settings ──────────────────────────────────────────────╮ │</span>\n",
       "<span style=\"color: #7f7f7f; text-decoration-color: #7f7f7f\">│ │ llm_temperature: 0.15                                                                                       │ │</span>\n",
       "<span style=\"color: #7f7f7f; text-decoration-color: #7f7f7f\">│ │ llm_max_tokens: 77                                                                                          │ │</span>\n",
       "<span style=\"color: #7f7f7f; text-decoration-color: #7f7f7f\">│ ╰─────────────────────────────────────────────────────────────────────────────────────────────────────────────╯ │</span>\n",
       "<span style=\"color: #7f7f7f; text-decoration-color: #7f7f7f\">╰─────────────────────────────────────────────────────────────────────────────────────────────────────────────────╯</span>\n",
       "</pre>\n"
      ],
      "text/plain": [
       "\u001b[2m╭─\u001b[0m\u001b[2m────────────────────────────────────────────────\u001b[0m\u001b[2m Context Stack \u001b[0m\u001b[2m────────────────────────────────────────────────\u001b[0m\u001b[2m─╮\u001b[0m\n",
       "\u001b[2m│\u001b[0m\u001b[2m \u001b[0m\u001b[2m╭─\u001b[0m\u001b[2m─────────────────────────────────────────────\u001b[0m\u001b[2m Global Context \u001b[0m\u001b[2m──────────────────────────────────────────────\u001b[0m\u001b[2m─╮\u001b[0m\u001b[2m \u001b[0m\u001b[2m│\u001b[0m\n",
       "\u001b[2m│\u001b[0m\u001b[2m \u001b[0m\u001b[2m│\u001b[0m\u001b[2m \u001b[0m\u001b[2mllm_provider_name: RUNTIME:large_text_provider\u001b[0m\u001b[2m                                                             \u001b[0m\u001b[2m \u001b[0m\u001b[2m│\u001b[0m\u001b[2m \u001b[0m\u001b[2m│\u001b[0m\n",
       "\u001b[2m│\u001b[0m\u001b[2m \u001b[0m\u001b[2m│\u001b[0m\u001b[2m \u001b[0m\u001b[2mllm_model_name: RUNTIME:large_text_model\u001b[0m\u001b[2m                                                                   \u001b[0m\u001b[2m \u001b[0m\u001b[2m│\u001b[0m\u001b[2m \u001b[0m\u001b[2m│\u001b[0m\n",
       "\u001b[2m│\u001b[0m\u001b[2m \u001b[0m\u001b[2m│\u001b[0m\u001b[2m \u001b[0m\u001b[2mllm_temperature: 0.5\u001b[0m\u001b[2m                                                                                       \u001b[0m\u001b[2m \u001b[0m\u001b[2m│\u001b[0m\u001b[2m \u001b[0m\u001b[2m│\u001b[0m\n",
       "\u001b[2m│\u001b[0m\u001b[2m \u001b[0m\u001b[2m│\u001b[0m\u001b[2m \u001b[0m\u001b[2mllm_max_tokens: 1024\u001b[0m\u001b[2m                                                                                       \u001b[0m\u001b[2m \u001b[0m\u001b[2m│\u001b[0m\u001b[2m \u001b[0m\u001b[2m│\u001b[0m\n",
       "\u001b[2m│\u001b[0m\u001b[2m \u001b[0m\u001b[2m│\u001b[0m\u001b[2m \u001b[0m\u001b[2mverbose_llm: True\u001b[0m\u001b[2m                                                                                          \u001b[0m\u001b[2m \u001b[0m\u001b[2m│\u001b[0m\u001b[2m \u001b[0m\u001b[2m│\u001b[0m\n",
       "\u001b[2m│\u001b[0m\u001b[2m \u001b[0m\u001b[2m│\u001b[0m\u001b[2m \u001b[0m\u001b[2mimage_provider_name: together_img\u001b[0m\u001b[2m                                                                          \u001b[0m\u001b[2m \u001b[0m\u001b[2m│\u001b[0m\u001b[2m \u001b[0m\u001b[2m│\u001b[0m\n",
       "\u001b[2m│\u001b[0m\u001b[2m \u001b[0m\u001b[2m│\u001b[0m\u001b[2m \u001b[0m\u001b[2mimage_model_name: stabilityai/stable-diffusion-2-1\u001b[0m\u001b[2m                                                         \u001b[0m\u001b[2m \u001b[0m\u001b[2m│\u001b[0m\u001b[2m \u001b[0m\u001b[2m│\u001b[0m\n",
       "\u001b[2m│\u001b[0m\u001b[2m \u001b[0m\u001b[2m│\u001b[0m\u001b[2m \u001b[0m\u001b[2mimage_width: 1024\u001b[0m\u001b[2m                                                                                          \u001b[0m\u001b[2m \u001b[0m\u001b[2m│\u001b[0m\u001b[2m \u001b[0m\u001b[2m│\u001b[0m\n",
       "\u001b[2m│\u001b[0m\u001b[2m \u001b[0m\u001b[2m│\u001b[0m\u001b[2m \u001b[0m\u001b[2mimage_height: 1024\u001b[0m\u001b[2m                                                                                         \u001b[0m\u001b[2m \u001b[0m\u001b[2m│\u001b[0m\u001b[2m \u001b[0m\u001b[2m│\u001b[0m\n",
       "\u001b[2m│\u001b[0m\u001b[2m \u001b[0m\u001b[2m│\u001b[0m\u001b[2m \u001b[0m\u001b[2membedding_provider_name: openai_embed\u001b[0m\u001b[2m                                                                      \u001b[0m\u001b[2m \u001b[0m\u001b[2m│\u001b[0m\u001b[2m \u001b[0m\u001b[2m│\u001b[0m\n",
       "\u001b[2m│\u001b[0m\u001b[2m \u001b[0m\u001b[2m│\u001b[0m\u001b[2m \u001b[0m\u001b[2membedding_model_name: text-embedding-3-small\u001b[0m\u001b[2m                                                               \u001b[0m\u001b[2m \u001b[0m\u001b[2m│\u001b[0m\u001b[2m \u001b[0m\u001b[2m│\u001b[0m\n",
       "\u001b[2m│\u001b[0m\u001b[2m \u001b[0m\u001b[2m╰─────────────────────────────────────────────────────────────────────────────────────────────────────────────╯\u001b[0m\u001b[2m \u001b[0m\u001b[2m│\u001b[0m\n",
       "\u001b[2m│\u001b[0m\u001b[2m \u001b[0m\u001b[2m╭─\u001b[0m\u001b[2m────────────────────────────────────────────\u001b[0m\u001b[2m Perfect Settings \u001b[0m\u001b[2m─────────────────────────────────────────────\u001b[0m\u001b[2m─╮\u001b[0m\u001b[2m \u001b[0m\u001b[2m│\u001b[0m\n",
       "\u001b[2m│\u001b[0m\u001b[2m \u001b[0m\u001b[2m│\u001b[0m\u001b[2m \u001b[0m\u001b[2mllm_temperature: 0.15\u001b[0m\u001b[2m                                                                                      \u001b[0m\u001b[2m \u001b[0m\u001b[2m│\u001b[0m\u001b[2m \u001b[0m\u001b[2m│\u001b[0m\n",
       "\u001b[2m│\u001b[0m\u001b[2m \u001b[0m\u001b[2m│\u001b[0m\u001b[2m \u001b[0m\u001b[2mllm_max_tokens: 77\u001b[0m\u001b[2m                                                                                         \u001b[0m\u001b[2m \u001b[0m\u001b[2m│\u001b[0m\u001b[2m \u001b[0m\u001b[2m│\u001b[0m\n",
       "\u001b[2m│\u001b[0m\u001b[2m \u001b[0m\u001b[2m╰─────────────────────────────────────────────────────────────────────────────────────────────────────────────╯\u001b[0m\u001b[2m \u001b[0m\u001b[2m│\u001b[0m\n",
       "\u001b[2m╰─────────────────────────────────────────────────────────────────────────────────────────────────────────────────╯\u001b[0m\n"
      ]
     },
     "metadata": {},
     "output_type": "display_data"
    }
   ],
   "source": [
    "MyModel = ax.models.Config(llm_temperature=0.15, llm_max_tokens=77, _context_name=\"Perfect Settings\")\n",
    "with MyModel:\n",
    "    ax.models.print_context()"
   ]
  }
 ],
 "metadata": {
  "kernelspec": {
   "display_name": "Python 3 (ipykernel)",
   "language": "python",
   "name": "python3"
  },
  "language_info": {
   "codemirror_mode": {
    "name": "ipython",
    "version": 3
   },
   "file_extension": ".py",
   "mimetype": "text/x-python",
   "name": "python",
   "nbconvert_exporter": "python",
   "pygments_lexer": "ipython3",
   "version": "3.12.3"
  },
  "widgets": {
   "application/vnd.jupyter.widget-state+json": {
    "state": {
     "2e0cf787b38b4135b48a2ad6faa731bd": {
      "model_module": "@jupyter-widgets/base",
      "model_module_version": "2.0.0",
      "model_name": "LayoutModel",
      "state": {
       "_model_module": "@jupyter-widgets/base",
       "_model_module_version": "2.0.0",
       "_model_name": "LayoutModel",
       "_view_count": null,
       "_view_module": "@jupyter-widgets/base",
       "_view_module_version": "2.0.0",
       "_view_name": "LayoutView",
       "align_content": null,
       "align_items": null,
       "align_self": null,
       "border_bottom": null,
       "border_left": null,
       "border_right": null,
       "border_top": null,
       "bottom": null,
       "display": null,
       "flex": null,
       "flex_flow": null,
       "grid_area": null,
       "grid_auto_columns": null,
       "grid_auto_flow": null,
       "grid_auto_rows": null,
       "grid_column": null,
       "grid_gap": null,
       "grid_row": null,
       "grid_template_areas": null,
       "grid_template_columns": null,
       "grid_template_rows": null,
       "height": null,
       "justify_content": null,
       "justify_items": null,
       "left": null,
       "margin": null,
       "max_height": null,
       "max_width": null,
       "min_height": null,
       "min_width": null,
       "object_fit": null,
       "object_position": null,
       "order": null,
       "overflow": null,
       "padding": null,
       "right": null,
       "top": null,
       "visibility": null,
       "width": null
      }
     },
     "97fd9e9c20c54906ad1555527d01222d": {
      "model_module": "@jupyter-widgets/base",
      "model_module_version": "2.0.0",
      "model_name": "LayoutModel",
      "state": {
       "_model_module": "@jupyter-widgets/base",
       "_model_module_version": "2.0.0",
       "_model_name": "LayoutModel",
       "_view_count": null,
       "_view_module": "@jupyter-widgets/base",
       "_view_module_version": "2.0.0",
       "_view_name": "LayoutView",
       "align_content": null,
       "align_items": null,
       "align_self": null,
       "border_bottom": null,
       "border_left": null,
       "border_right": null,
       "border_top": null,
       "bottom": null,
       "display": null,
       "flex": null,
       "flex_flow": null,
       "grid_area": null,
       "grid_auto_columns": null,
       "grid_auto_flow": null,
       "grid_auto_rows": null,
       "grid_column": null,
       "grid_gap": null,
       "grid_row": null,
       "grid_template_areas": null,
       "grid_template_columns": null,
       "grid_template_rows": null,
       "height": null,
       "justify_content": null,
       "justify_items": null,
       "left": null,
       "margin": null,
       "max_height": null,
       "max_width": null,
       "min_height": null,
       "min_width": null,
       "object_fit": null,
       "object_position": null,
       "order": null,
       "overflow": null,
       "padding": null,
       "right": null,
       "top": null,
       "visibility": null,
       "width": null
      }
     },
     "a0a1f43c5262481e836cfcdc3b0867d4": {
      "model_module": "@jupyter-widgets/output",
      "model_module_version": "1.0.0",
      "model_name": "OutputModel",
      "state": {
       "_dom_classes": [],
       "_model_module": "@jupyter-widgets/output",
       "_model_module_version": "1.0.0",
       "_model_name": "OutputModel",
       "_view_count": null,
       "_view_module": "@jupyter-widgets/output",
       "_view_module_version": "1.0.0",
       "_view_name": "OutputView",
       "layout": "IPY_MODEL_c6aa8548ed3f4ecbb4b87e1f287cbfd3",
       "msg_id": "",
       "outputs": [
        {
         "data": {
          "text/html": "<pre style=\"white-space:pre;overflow-x:auto;line-height:normal;font-family:Menlo,'DejaVu Sans Mono',consolas,'Courier New',monospace\"><span style=\"color: #008000; text-decoration-color: #008000\">▰▰▱▱▱▱▱</span> LLM Inference: together_llm Qwen/Qwen1.5-32B-Chat\n</pre>\n",
          "text/plain": "\u001b[32m▰▰▱▱▱▱▱\u001b[0m LLM Inference: together_llm Qwen/Qwen1.5-32B-Chat\n"
         },
         "metadata": {},
         "output_type": "display_data"
        }
       ],
       "tabbable": null,
       "tooltip": null
      }
     },
     "c6aa8548ed3f4ecbb4b87e1f287cbfd3": {
      "model_module": "@jupyter-widgets/base",
      "model_module_version": "2.0.0",
      "model_name": "LayoutModel",
      "state": {
       "_model_module": "@jupyter-widgets/base",
       "_model_module_version": "2.0.0",
       "_model_name": "LayoutModel",
       "_view_count": null,
       "_view_module": "@jupyter-widgets/base",
       "_view_module_version": "2.0.0",
       "_view_name": "LayoutView",
       "align_content": null,
       "align_items": null,
       "align_self": null,
       "border_bottom": null,
       "border_left": null,
       "border_right": null,
       "border_top": null,
       "bottom": null,
       "display": null,
       "flex": null,
       "flex_flow": null,
       "grid_area": null,
       "grid_auto_columns": null,
       "grid_auto_flow": null,
       "grid_auto_rows": null,
       "grid_column": null,
       "grid_gap": null,
       "grid_row": null,
       "grid_template_areas": null,
       "grid_template_columns": null,
       "grid_template_rows": null,
       "height": null,
       "justify_content": null,
       "justify_items": null,
       "left": null,
       "margin": null,
       "max_height": null,
       "max_width": null,
       "min_height": null,
       "min_width": null,
       "object_fit": null,
       "object_position": null,
       "order": null,
       "overflow": null,
       "padding": null,
       "right": null,
       "top": null,
       "visibility": null,
       "width": null
      }
     },
     "cc1fe60dca584f77b46ddf20e2c624cc": {
      "model_module": "@jupyter-widgets/output",
      "model_module_version": "1.0.0",
      "model_name": "OutputModel",
      "state": {
       "_dom_classes": [],
       "_model_module": "@jupyter-widgets/output",
       "_model_module_version": "1.0.0",
       "_model_name": "OutputModel",
       "_view_count": null,
       "_view_module": "@jupyter-widgets/output",
       "_view_module_version": "1.0.0",
       "_view_name": "OutputView",
       "layout": "IPY_MODEL_97fd9e9c20c54906ad1555527d01222d",
       "msg_id": "",
       "outputs": [
        {
         "data": {
          "text/html": "<pre style=\"white-space:pre;overflow-x:auto;line-height:normal;font-family:Menlo,'DejaVu Sans Mono',consolas,'Courier New',monospace\"><span style=\"color: #008000; text-decoration-color: #008000\">▰▰▰▰▰▱▱</span> LLM Inference: openai_llm gpt-4\n</pre>\n",
          "text/plain": "\u001b[32m▰▰▰▰▰▱▱\u001b[0m LLM Inference: openai_llm gpt-4\n"
         },
         "metadata": {},
         "output_type": "display_data"
        }
       ],
       "tabbable": null,
       "tooltip": null
      }
     },
     "fe26213061a441ccb3d4795ac739877e": {
      "model_module": "@jupyter-widgets/output",
      "model_module_version": "1.0.0",
      "model_name": "OutputModel",
      "state": {
       "_dom_classes": [],
       "_model_module": "@jupyter-widgets/output",
       "_model_module_version": "1.0.0",
       "_model_name": "OutputModel",
       "_view_count": null,
       "_view_module": "@jupyter-widgets/output",
       "_view_module_version": "1.0.0",
       "_view_name": "OutputView",
       "layout": "IPY_MODEL_2e0cf787b38b4135b48a2ad6faa731bd",
       "msg_id": "",
       "outputs": [
        {
         "data": {
          "text/html": "<pre style=\"white-space:pre;overflow-x:auto;line-height:normal;font-family:Menlo,'DejaVu Sans Mono',consolas,'Courier New',monospace\"><span style=\"color: #008000; text-decoration-color: #008000\">▰▰▰▰▰▰▱</span> LLM Inference: together_llm meta-llama/Llama-3-8b-chat-hf\n</pre>\n",
          "text/plain": "\u001b[32m▰▰▰▰▰▰▱\u001b[0m LLM Inference: together_llm meta-llama/Llama-3-8b-chat-hf\n"
         },
         "metadata": {},
         "output_type": "display_data"
        }
       ],
       "tabbable": null,
       "tooltip": null
      }
     }
    },
    "version_major": 2,
    "version_minor": 0
   }
  }
 },
 "nbformat": 4,
 "nbformat_minor": 5
}
