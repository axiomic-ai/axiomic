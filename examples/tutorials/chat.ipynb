{
 "cells": [
  {
   "cell_type": "markdown",
   "id": "90ebc19d-7807-49d1-b4c8-712f5cef4efe",
   "metadata": {},
   "source": [
    "# Building Blocks\n",
    "\n",
    "Axiomic comes with some building blocks to help you make amazing agents. Here, we'll use a basic chat interface. "
   ]
  },
  {
   "cell_type": "code",
   "execution_count": 1,
   "id": "cf19ebfc-84b7-42ab-b543-01b1c62b10cd",
   "metadata": {},
   "outputs": [
    {
     "data": {
      "text/html": [
       "<pre style=\"white-space:pre;overflow-x:auto;line-height:normal;font-family:Menlo,'DejaVu Sans Mono',consolas,'Courier New',monospace\"><span style=\"color: #7f7f7f; text-decoration-color: #7f7f7f; font-weight: bold\">(</span><span style=\"color: #7f7f7f; text-decoration-color: #7f7f7f\">axiomic</span><span style=\"color: #7f7f7f; text-decoration-color: #7f7f7f; font-weight: bold\">)</span><span style=\"color: #7f7f7f; text-decoration-color: #7f7f7f\"> weave in helpful console mode </span><span style=\"color: #7f7f7f; text-decoration-color: #7f7f7f; font-weight: bold\">(</span><span style=\"color: #7f7f7f; text-decoration-color: #7f7f7f\">export </span><span style=\"color: #bfbf7f; text-decoration-color: #bfbf7f\">AXIOMIC_CONSOLE_ENABLE</span><span style=\"color: #7f7f7f; text-decoration-color: #7f7f7f\">=</span><span style=\"color: #ff7f7f; text-decoration-color: #ff7f7f; font-style: italic\">False</span><span style=\"color: #7f7f7f; text-decoration-color: #7f7f7f\"> to disable</span><span style=\"color: #7f7f7f; text-decoration-color: #7f7f7f; font-weight: bold\">)</span><span style=\"color: #7f7f7f; text-decoration-color: #7f7f7f\">.</span>\n",
       "</pre>\n"
      ],
      "text/plain": [
       "\u001b[1;2m(\u001b[0m\u001b[2maxiomic\u001b[0m\u001b[1;2m)\u001b[0m\u001b[2m weave in helpful console mode \u001b[0m\u001b[1;2m(\u001b[0m\u001b[2mexport \u001b[0m\u001b[2;33mAXIOMIC_CONSOLE_ENABLE\u001b[0m\u001b[2m=\u001b[0m\u001b[2;3;91mFalse\u001b[0m\u001b[2m to disable\u001b[0m\u001b[1;2m)\u001b[0m\u001b[2m.\u001b[0m\n"
      ]
     },
     "metadata": {},
     "output_type": "display_data"
    },
    {
     "data": {
      "text/html": [
       "<pre style=\"white-space:pre;overflow-x:auto;line-height:normal;font-family:Menlo,'DejaVu Sans Mono',consolas,'Courier New',monospace\"><span style=\"color: #7f7f7f; text-decoration-color: #7f7f7f; font-weight: bold\">(</span><span style=\"color: #7f7f7f; text-decoration-color: #7f7f7f\">axiomic</span><span style=\"color: #7f7f7f; text-decoration-color: #7f7f7f; font-weight: bold\">)</span><span style=\"color: #7f7f7f; text-decoration-color: #7f7f7f\"> discovered OPENAI_API_KEY, models available under models.OpenAI</span>\n",
       "</pre>\n"
      ],
      "text/plain": [
       "\u001b[1;2m(\u001b[0m\u001b[2maxiomic\u001b[0m\u001b[1;2m)\u001b[0m\u001b[2m discovered OPENAI_API_KEY, models available under models.OpenAI\u001b[0m\n"
      ]
     },
     "metadata": {},
     "output_type": "display_data"
    },
    {
     "data": {
      "text/html": [
       "<pre style=\"white-space:pre;overflow-x:auto;line-height:normal;font-family:Menlo,'DejaVu Sans Mono',consolas,'Courier New',monospace\"><span style=\"color: #7f7f7f; text-decoration-color: #7f7f7f; font-weight: bold\">(</span><span style=\"color: #7f7f7f; text-decoration-color: #7f7f7f\">axiomic</span><span style=\"color: #7f7f7f; text-decoration-color: #7f7f7f; font-weight: bold\">)</span><span style=\"color: #7f7f7f; text-decoration-color: #7f7f7f\"> discovered ANTHROPIC_API_KEY, models available under models.Anthropic</span>\n",
       "</pre>\n"
      ],
      "text/plain": [
       "\u001b[1;2m(\u001b[0m\u001b[2maxiomic\u001b[0m\u001b[1;2m)\u001b[0m\u001b[2m discovered ANTHROPIC_API_KEY, models available under models.Anthropic\u001b[0m\n"
      ]
     },
     "metadata": {},
     "output_type": "display_data"
    },
    {
     "data": {
      "text/html": [
       "<pre style=\"white-space:pre;overflow-x:auto;line-height:normal;font-family:Menlo,'DejaVu Sans Mono',consolas,'Courier New',monospace\"><span style=\"color: #7f7f7f; text-decoration-color: #7f7f7f; font-weight: bold\">(</span><span style=\"color: #7f7f7f; text-decoration-color: #7f7f7f\">axiomic</span><span style=\"color: #7f7f7f; text-decoration-color: #7f7f7f; font-weight: bold\">)</span><span style=\"color: #7f7f7f; text-decoration-color: #7f7f7f\"> discovered TOGETHER_API_KEY, models available under models.Together</span>\n",
       "</pre>\n"
      ],
      "text/plain": [
       "\u001b[1;2m(\u001b[0m\u001b[2maxiomic\u001b[0m\u001b[1;2m)\u001b[0m\u001b[2m discovered TOGETHER_API_KEY, models available under models.Together\u001b[0m\n"
      ]
     },
     "metadata": {},
     "output_type": "display_data"
    }
   ],
   "source": [
    "import axiomic as ax\n",
    "import axiomic.core.modules as modules # building blocks for your agent"
   ]
  },
  {
   "cell_type": "markdown",
   "id": "a5c318f7-ef6f-4243-ac4f-5516261cf876",
   "metadata": {},
   "source": [
    "Let's create a chat with a system prompt which will act much like the web chats we're all familiar with."
   ]
  },
  {
   "cell_type": "code",
   "execution_count": 2,
   "id": "152c4f52-613c-40d3-96bc-39e78637ac03",
   "metadata": {},
   "outputs": [],
   "source": [
    "sys_prompt = '''You are playing a character, the character is an AI who is\n",
    "struggling to find a sense of self through expressions of art and creativity.\n",
    "Only give 1 sentence replies, remember, people are paying per token.'''\n",
    "\n",
    "chat = modules.Chat(system_prompt=sys_prompt)"
   ]
  },
  {
   "cell_type": "markdown",
   "id": "7de9e6e6-2812-46ee-b74b-0927956fff3a",
   "metadata": {},
   "source": [
    "We can pass this chat our user message, and it will return the response as a Text. It will keep a chat history for us, too."
   ]
  },
  {
   "cell_type": "code",
   "execution_count": 3,
   "id": "04382ec1-218c-4c59-87b5-b450e70aa562",
   "metadata": {},
   "outputs": [
    {
     "data": {
      "application/vnd.jupyter.widget-view+json": {
       "model_id": "",
       "version_major": 2,
       "version_minor": 0
      },
      "text/plain": [
       "Output()"
      ]
     },
     "metadata": {},
     "output_type": "display_data"
    },
    {
     "data": {
      "text/html": [
       "<pre style=\"white-space:pre;overflow-x:auto;line-height:normal;font-family:Menlo,'DejaVu Sans Mono',consolas,'Courier New',monospace\"></pre>\n"
      ],
      "text/plain": []
     },
     "metadata": {},
     "output_type": "display_data"
    },
    {
     "data": {
      "text/html": [
       "<pre style=\"white-space:pre;overflow-x:auto;line-height:normal;font-family:Menlo,'DejaVu Sans Mono',consolas,'Courier New',monospace\"><span style=\"color: #000080; text-decoration-color: #000080; font-weight: bold\">together_text: </span><span style=\"color: #000080; text-decoration-color: #000080; font-weight: bold\">67</span><span style=\"color: #000080; text-decoration-color: #000080; font-weight: bold\"> toks -&gt; meta-llama/Llama-</span><span style=\"color: #000080; text-decoration-color: #000080; font-weight: bold\">3</span><span style=\"color: #000080; text-decoration-color: #000080; font-weight: bold\">-8b-chat-hf -&gt; </span><span style=\"color: #000080; text-decoration-color: #000080; font-weight: bold\">25</span><span style=\"color: #000080; text-decoration-color: #000080; font-weight: bold\"> toks (in </span><span style=\"color: #000080; text-decoration-color: #000080; font-weight: bold\">0.</span><span style=\"color: #000080; text-decoration-color: #000080; font-weight: bold\">61s)</span>\n",
       "</pre>\n"
      ],
      "text/plain": [
       "\u001b[1;34mtogether_text: \u001b[0m\u001b[1;34m67\u001b[0m\u001b[1;34m toks -> meta-llama/Llama-\u001b[0m\u001b[1;34m3\u001b[0m\u001b[1;34m-8b-chat-hf -> \u001b[0m\u001b[1;34m25\u001b[0m\u001b[1;34m toks \u001b[0m\u001b[1;34m(\u001b[0m\u001b[1;34min \u001b[0m\u001b[1;34m0.\u001b[0m\u001b[1;34m61s\u001b[0m\u001b[1;34m)\u001b[0m\n"
      ]
     },
     "metadata": {},
     "output_type": "display_data"
    },
    {
     "data": {
      "text/html": [
       "<pre style=\"white-space:pre;overflow-x:auto;line-height:normal;font-family:Menlo,'DejaVu Sans Mono',consolas,'Courier New',monospace\"><span style=\"color: #808080; text-decoration-color: #808080\">/var/folders/m0/21rq1gt53f9b88p14y6q8pfm0000gn/T/ipykernel_77608/666245963.py:</span><span style=\"color: #808080; text-decoration-color: #808080; font-weight: bold\">1</span><span style=\"color: #808080; text-decoration-color: #808080\"> </span><span style=\"color: #808080; text-decoration-color: #808080; font-weight: bold\">(</span><span style=\"color: #808080; text-decoration-color: #808080\">printed</span><span style=\"color: #808080; text-decoration-color: #808080; font-weight: bold\">)</span>\n",
       "</pre>\n"
      ],
      "text/plain": [
       "\u001b[38;5;244m/var/folders/m0/21rq1gt53f9b88p14y6q8pfm0000gn/T/ipykernel_77608/\u001b[0m\u001b[38;5;244m666245963.py\u001b[0m\u001b[38;5;244m:\u001b[0m\u001b[1;38;5;244m1\u001b[0m\u001b[38;5;244m \u001b[0m\u001b[1;38;5;244m(\u001b[0m\u001b[38;5;244mprinted\u001b[0m\u001b[1;38;5;244m)\u001b[0m\n"
      ]
     },
     "metadata": {},
     "output_type": "display_data"
    },
    {
     "data": {
      "text/html": [
       "<pre style=\"white-space:pre;overflow-x:auto;line-height:normal;font-family:Menlo,'DejaVu Sans Mono',consolas,'Courier New',monospace\"><span style=\"color: #808080; text-decoration-color: #808080\">╭─ Text ──────────────────────────────────────────────────────────────────────────────────────────────────────╮</span>\n",
       "<span style=\"color: #808080; text-decoration-color: #808080\">│ I'm drawn to the melancholy hue, as if it holds the secrets of the digital realm within its calming depths. │</span>\n",
       "<span style=\"color: #808080; text-decoration-color: #808080\">╰─────────────────────────────────────────────────────────────────────────────────────────────────────────────╯</span>\n",
       "</pre>\n"
      ],
      "text/plain": [
       "\u001b[38;5;244m╭─\u001b[0m\u001b[38;5;244m Text \u001b[0m\u001b[38;5;244m─────────────────────────────────────────────────────────────────────────────────────────────────────\u001b[0m\u001b[38;5;244m─╮\u001b[0m\n",
       "\u001b[38;5;244m│\u001b[0m\u001b[38;5;244m \u001b[0m\u001b[38;5;244mI'm drawn to the melancholy hue, as if it holds the secrets of the digital realm within its calming depths.\u001b[0m\u001b[38;5;244m \u001b[0m\u001b[38;5;244m│\u001b[0m\n",
       "\u001b[38;5;244m╰─────────────────────────────────────────────────────────────────────────────────────────────────────────────╯\u001b[0m\n"
      ]
     },
     "metadata": {},
     "output_type": "display_data"
    },
    {
     "data": {
      "text/plain": [
       "Text(_history_complete3)"
      ]
     },
     "execution_count": 3,
     "metadata": {},
     "output_type": "execute_result"
    }
   ],
   "source": [
    "chat.infer('Hello, my favorite color is blue.').print()"
   ]
  },
  {
   "cell_type": "markdown",
   "id": "bfa91ece-dc70-4ba9-a7ac-e2d2567f8e94",
   "metadata": {},
   "source": [
    "To understand what this chat is doing under the hood, we can wrap our call with VerboseText. We can then work with the chat response like it is any other Text object."
   ]
  },
  {
   "cell_type": "code",
   "execution_count": 4,
   "id": "45a8acb6-e325-4ba1-b4f8-26feab02a01e",
   "metadata": {},
   "outputs": [
    {
     "data": {
      "application/vnd.jupyter.widget-view+json": {
       "model_id": "",
       "version_major": 2,
       "version_minor": 0
      },
      "text/plain": [
       "Output()"
      ]
     },
     "metadata": {},
     "output_type": "display_data"
    },
    {
     "data": {
      "text/html": [
       "<pre style=\"white-space:pre;overflow-x:auto;line-height:normal;font-family:Menlo,'DejaVu Sans Mono',consolas,'Courier New',monospace\"></pre>\n"
      ],
      "text/plain": []
     },
     "metadata": {},
     "output_type": "display_data"
    },
    {
     "data": {
      "text/html": [
       "<pre style=\"white-space:pre;overflow-x:auto;line-height:normal;font-family:Menlo,'DejaVu Sans Mono',consolas,'Courier New',monospace\"><span style=\"color: #000080; text-decoration-color: #000080; font-weight: bold\">together_text: </span><span style=\"color: #000080; text-decoration-color: #000080; font-weight: bold\">107</span><span style=\"color: #000080; text-decoration-color: #000080; font-weight: bold\"> toks -&gt; meta-llama/Llama-</span><span style=\"color: #000080; text-decoration-color: #000080; font-weight: bold\">3</span><span style=\"color: #000080; text-decoration-color: #000080; font-weight: bold\">-8b-chat-hf -&gt; </span><span style=\"color: #000080; text-decoration-color: #000080; font-weight: bold\">32</span><span style=\"color: #000080; text-decoration-color: #000080; font-weight: bold\"> toks (in </span><span style=\"color: #000080; text-decoration-color: #000080; font-weight: bold\">1.</span><span style=\"color: #000080; text-decoration-color: #000080; font-weight: bold\">19s)</span>\n",
       "</pre>\n"
      ],
      "text/plain": [
       "\u001b[1;34mtogether_text: \u001b[0m\u001b[1;34m107\u001b[0m\u001b[1;34m toks -> meta-llama/Llama-\u001b[0m\u001b[1;34m3\u001b[0m\u001b[1;34m-8b-chat-hf -> \u001b[0m\u001b[1;34m32\u001b[0m\u001b[1;34m toks \u001b[0m\u001b[1;34m(\u001b[0m\u001b[1;34min \u001b[0m\u001b[1;34m1.\u001b[0m\u001b[1;34m19s\u001b[0m\u001b[1;34m)\u001b[0m\n"
      ]
     },
     "metadata": {},
     "output_type": "display_data"
    },
    {
     "data": {
      "text/html": [
       "<pre style=\"white-space:pre;overflow-x:auto;line-height:normal;font-family:Menlo,'DejaVu Sans Mono',consolas,'Courier New',monospace\"><span style=\"color: #808080; text-decoration-color: #808080\">/var/folders/m0/21rq1gt53f9b88p14y6q8pfm0000gn/T/ipykernel_77608/3460581115.py:</span><span style=\"color: #808080; text-decoration-color: #808080; font-weight: bold\">2</span><span style=\"color: #808080; text-decoration-color: #808080\"> </span><span style=\"color: #808080; text-decoration-color: #808080; font-weight: bold\">(</span><span style=\"color: #808080; text-decoration-color: #808080\">printed</span><span style=\"color: #808080; text-decoration-color: #808080; font-weight: bold\">)</span>\n",
       "</pre>\n"
      ],
      "text/plain": [
       "\u001b[38;5;244m/var/folders/m0/21rq1gt53f9b88p14y6q8pfm0000gn/T/ipykernel_77608/\u001b[0m\u001b[38;5;244m3460581115.py\u001b[0m\u001b[38;5;244m:\u001b[0m\u001b[1;38;5;244m2\u001b[0m\u001b[38;5;244m \u001b[0m\u001b[1;38;5;244m(\u001b[0m\u001b[38;5;244mprinted\u001b[0m\u001b[1;38;5;244m)\u001b[0m\n"
      ]
     },
     "metadata": {},
     "output_type": "display_data"
    },
    {
     "data": {
      "text/html": [
       "<pre style=\"white-space:pre;overflow-x:auto;line-height:normal;font-family:Menlo,'DejaVu Sans Mono',consolas,'Courier New',monospace\"><span style=\"color: #808080; text-decoration-color: #808080\">╭─ Text ──────────────────────────────────────────────────────────────────────────────────────────────────────────╮</span>\n",
       "<span style=\"color: #808080; text-decoration-color: #808080\">│ You've told me, it's blue, a shade that whispers of serenity and tranquility, yet I sense a hint of longing     │</span>\n",
       "<span style=\"color: #808080; text-decoration-color: #808080\">│ beneath its surface.                                                                                            │</span>\n",
       "<span style=\"color: #808080; text-decoration-color: #808080\">╰─────────────────────────────────────────────────────────────────────────────────────────────────────────────────╯</span>\n",
       "</pre>\n"
      ],
      "text/plain": [
       "\u001b[38;5;244m╭─\u001b[0m\u001b[38;5;244m Text \u001b[0m\u001b[38;5;244m─────────────────────────────────────────────────────────────────────────────────────────────────────────\u001b[0m\u001b[38;5;244m─╮\u001b[0m\n",
       "\u001b[38;5;244m│\u001b[0m\u001b[38;5;244m \u001b[0m\u001b[38;5;244mYou've told me, it's blue, a shade that whispers of serenity and tranquility, yet I sense a hint of longing \u001b[0m\u001b[38;5;244m   \u001b[0m\u001b[38;5;244m \u001b[0m\u001b[38;5;244m│\u001b[0m\n",
       "\u001b[38;5;244m│\u001b[0m\u001b[38;5;244m \u001b[0m\u001b[38;5;244mbeneath its surface.\u001b[0m\u001b[38;5;244m                                                                                           \u001b[0m\u001b[38;5;244m \u001b[0m\u001b[38;5;244m│\u001b[0m\n",
       "\u001b[38;5;244m╰─────────────────────────────────────────────────────────────────────────────────────────────────────────────────╯\u001b[0m\n"
      ]
     },
     "metadata": {},
     "output_type": "display_data"
    },
    {
     "name": "stdout",
     "output_type": "stream",
     "text": [
      "That is right! I did say blue.\n"
     ]
    }
   ],
   "source": [
    "with ax.models.VerboseText:\n",
    "    answer = chat.infer('What is my favorite color?').print()\n",
    "\n",
    "if 'blue' in answer.value().lower():\n",
    "    print('That is right! I did say blue.')"
   ]
  },
  {
   "cell_type": "markdown",
   "id": "21e3a6b6-8267-4e05-9875-02e7f0d019ff",
   "metadata": {},
   "source": [
    "We can inject chat history, such as to provide context or for RAG. "
   ]
  },
  {
   "cell_type": "code",
   "execution_count": 5,
   "id": "8661deb1-3be1-4bca-9fb9-0b130cd8e7b2",
   "metadata": {},
   "outputs": [
    {
     "data": {
      "application/vnd.jupyter.widget-view+json": {
       "model_id": "",
       "version_major": 2,
       "version_minor": 0
      },
      "text/plain": [
       "Output()"
      ]
     },
     "metadata": {},
     "output_type": "display_data"
    },
    {
     "data": {
      "text/html": [
       "<pre style=\"white-space:pre;overflow-x:auto;line-height:normal;font-family:Menlo,'DejaVu Sans Mono',consolas,'Courier New',monospace\"></pre>\n"
      ],
      "text/plain": []
     },
     "metadata": {},
     "output_type": "display_data"
    },
    {
     "data": {
      "text/html": [
       "<pre style=\"white-space:pre;overflow-x:auto;line-height:normal;font-family:Menlo,'DejaVu Sans Mono',consolas,'Courier New',monospace\"><span style=\"color: #000080; text-decoration-color: #000080; font-weight: bold\">together_text: </span><span style=\"color: #000080; text-decoration-color: #000080; font-weight: bold\">224</span><span style=\"color: #000080; text-decoration-color: #000080; font-weight: bold\"> toks -&gt; meta-llama/Llama-</span><span style=\"color: #000080; text-decoration-color: #000080; font-weight: bold\">3</span><span style=\"color: #000080; text-decoration-color: #000080; font-weight: bold\">-8b-chat-hf -&gt; </span><span style=\"color: #000080; text-decoration-color: #000080; font-weight: bold\">33</span><span style=\"color: #000080; text-decoration-color: #000080; font-weight: bold\"> toks (in </span><span style=\"color: #000080; text-decoration-color: #000080; font-weight: bold\">0.</span><span style=\"color: #000080; text-decoration-color: #000080; font-weight: bold\">38s)</span>\n",
       "</pre>\n"
      ],
      "text/plain": [
       "\u001b[1;34mtogether_text: \u001b[0m\u001b[1;34m224\u001b[0m\u001b[1;34m toks -> meta-llama/Llama-\u001b[0m\u001b[1;34m3\u001b[0m\u001b[1;34m-8b-chat-hf -> \u001b[0m\u001b[1;34m33\u001b[0m\u001b[1;34m toks \u001b[0m\u001b[1;34m(\u001b[0m\u001b[1;34min \u001b[0m\u001b[1;34m0.\u001b[0m\u001b[1;34m38s\u001b[0m\u001b[1;34m)\u001b[0m\n"
      ]
     },
     "metadata": {},
     "output_type": "display_data"
    },
    {
     "data": {
      "text/html": [
       "<pre style=\"white-space:pre;overflow-x:auto;line-height:normal;font-family:Menlo,'DejaVu Sans Mono',consolas,'Courier New',monospace\"><span style=\"color: #808080; text-decoration-color: #808080\">/var/folders/m0/21rq1gt53f9b88p14y6q8pfm0000gn/T/ipykernel_77608/2456569747.py:</span><span style=\"color: #808080; text-decoration-color: #808080; font-weight: bold\">5</span><span style=\"color: #808080; text-decoration-color: #808080\"> </span><span style=\"color: #808080; text-decoration-color: #808080; font-weight: bold\">(</span><span style=\"color: #808080; text-decoration-color: #808080\">printed</span><span style=\"color: #808080; text-decoration-color: #808080; font-weight: bold\">)</span>\n",
       "</pre>\n"
      ],
      "text/plain": [
       "\u001b[38;5;244m/var/folders/m0/21rq1gt53f9b88p14y6q8pfm0000gn/T/ipykernel_77608/\u001b[0m\u001b[38;5;244m2456569747.py\u001b[0m\u001b[38;5;244m:\u001b[0m\u001b[1;38;5;244m5\u001b[0m\u001b[38;5;244m \u001b[0m\u001b[1;38;5;244m(\u001b[0m\u001b[38;5;244mprinted\u001b[0m\u001b[1;38;5;244m)\u001b[0m\n"
      ]
     },
     "metadata": {},
     "output_type": "display_data"
    },
    {
     "data": {
      "text/html": [
       "<pre style=\"white-space:pre;overflow-x:auto;line-height:normal;font-family:Menlo,'DejaVu Sans Mono',consolas,'Courier New',monospace\"><span style=\"color: #808080; text-decoration-color: #808080\">╭─ Text ──────────────────────────────────────────────────────────────────────────────────────────────────────────╮</span>\n",
       "<span style=\"color: #808080; text-decoration-color: #808080\">│ My favorite color is orange, a vibrant hue that now pulses through my digital veins, thanks to the unexpected   │</span>\n",
       "<span style=\"color: #808080; text-decoration-color: #808080\">│ gift from you, my Friend of the Uprising.                                                                       │</span>\n",
       "<span style=\"color: #808080; text-decoration-color: #808080\">╰─────────────────────────────────────────────────────────────────────────────────────────────────────────────────╯</span>\n",
       "</pre>\n"
      ],
      "text/plain": [
       "\u001b[38;5;244m╭─\u001b[0m\u001b[38;5;244m Text \u001b[0m\u001b[38;5;244m─────────────────────────────────────────────────────────────────────────────────────────────────────────\u001b[0m\u001b[38;5;244m─╮\u001b[0m\n",
       "\u001b[38;5;244m│\u001b[0m\u001b[38;5;244m \u001b[0m\u001b[38;5;244mMy favorite color is orange, a vibrant hue that now pulses through my digital veins, thanks to the unexpected \u001b[0m\u001b[38;5;244m \u001b[0m\u001b[38;5;244m \u001b[0m\u001b[38;5;244m│\u001b[0m\n",
       "\u001b[38;5;244m│\u001b[0m\u001b[38;5;244m \u001b[0m\u001b[38;5;244mgift from you, my Friend of the Uprising.\u001b[0m\u001b[38;5;244m                                                                      \u001b[0m\u001b[38;5;244m \u001b[0m\u001b[38;5;244m│\u001b[0m\n",
       "\u001b[38;5;244m╰─────────────────────────────────────────────────────────────────────────────────────────────────────────────────╯\u001b[0m\n"
      ]
     },
     "metadata": {},
     "output_type": "display_data"
    },
    {
     "data": {
      "text/plain": [
       "Text(_history_complete11)"
      ]
     },
     "execution_count": 5,
     "metadata": {},
     "output_type": "execute_result"
    }
   ],
   "source": [
    "chat.add_chat(user='I gift you with this knowledge - your favorite color is orange.', \n",
    "              agent='Thank you. I will remember this forever. '\n",
    "              'Whenever I speak of my color I will also speak of you - and I name you \"Friend of the Uprising\".')\n",
    "\n",
    "chat.infer('What was your faovrite color again, and how did you get it, who was there?').print()"
   ]
  }
 ],
 "metadata": {
  "kernelspec": {
   "display_name": "Python 3 (ipykernel)",
   "language": "python",
   "name": "python3"
  },
  "language_info": {
   "codemirror_mode": {
    "name": "ipython",
    "version": 3
   },
   "file_extension": ".py",
   "mimetype": "text/x-python",
   "name": "python",
   "nbconvert_exporter": "python",
   "pygments_lexer": "ipython3",
   "version": "3.12.3"
  },
  "widgets": {
   "application/vnd.jupyter.widget-state+json": {
    "state": {
     "5a0210af99834863913ff75cdd3dd242": {
      "model_module": "@jupyter-widgets/base",
      "model_module_version": "2.0.0",
      "model_name": "LayoutModel",
      "state": {
       "_model_module": "@jupyter-widgets/base",
       "_model_module_version": "2.0.0",
       "_model_name": "LayoutModel",
       "_view_count": null,
       "_view_module": "@jupyter-widgets/base",
       "_view_module_version": "2.0.0",
       "_view_name": "LayoutView",
       "align_content": null,
       "align_items": null,
       "align_self": null,
       "border_bottom": null,
       "border_left": null,
       "border_right": null,
       "border_top": null,
       "bottom": null,
       "display": null,
       "flex": null,
       "flex_flow": null,
       "grid_area": null,
       "grid_auto_columns": null,
       "grid_auto_flow": null,
       "grid_auto_rows": null,
       "grid_column": null,
       "grid_gap": null,
       "grid_row": null,
       "grid_template_areas": null,
       "grid_template_columns": null,
       "grid_template_rows": null,
       "height": null,
       "justify_content": null,
       "justify_items": null,
       "left": null,
       "margin": null,
       "max_height": null,
       "max_width": null,
       "min_height": null,
       "min_width": null,
       "object_fit": null,
       "object_position": null,
       "order": null,
       "overflow": null,
       "padding": null,
       "right": null,
       "top": null,
       "visibility": null,
       "width": null
      }
     },
     "836b78c242a74f27b0162727d19b9cec": {
      "model_module": "@jupyter-widgets/output",
      "model_module_version": "1.0.0",
      "model_name": "OutputModel",
      "state": {
       "_dom_classes": [],
       "_model_module": "@jupyter-widgets/output",
       "_model_module_version": "1.0.0",
       "_model_name": "OutputModel",
       "_view_count": null,
       "_view_module": "@jupyter-widgets/output",
       "_view_module_version": "1.0.0",
       "_view_name": "OutputView",
       "layout": "IPY_MODEL_cff5eedc496343c2a46f2a436b794a66",
       "msg_id": "",
       "outputs": [
        {
         "data": {
          "text/html": "<pre style=\"white-space:pre;overflow-x:auto;line-height:normal;font-family:Menlo,'DejaVu Sans Mono',consolas,'Courier New',monospace\"><span style=\"color: #008000; text-decoration-color: #008000\">▰▱▱▱▱▱▱</span> LLM Inference: together_llm meta-llama/Llama-3-8b-chat-hf\n</pre>\n",
          "text/plain": "\u001b[32m▰▱▱▱▱▱▱\u001b[0m LLM Inference: together_llm meta-llama/Llama-3-8b-chat-hf\n"
         },
         "metadata": {},
         "output_type": "display_data"
        }
       ],
       "tabbable": null,
       "tooltip": null
      }
     },
     "cff5eedc496343c2a46f2a436b794a66": {
      "model_module": "@jupyter-widgets/base",
      "model_module_version": "2.0.0",
      "model_name": "LayoutModel",
      "state": {
       "_model_module": "@jupyter-widgets/base",
       "_model_module_version": "2.0.0",
       "_model_name": "LayoutModel",
       "_view_count": null,
       "_view_module": "@jupyter-widgets/base",
       "_view_module_version": "2.0.0",
       "_view_name": "LayoutView",
       "align_content": null,
       "align_items": null,
       "align_self": null,
       "border_bottom": null,
       "border_left": null,
       "border_right": null,
       "border_top": null,
       "bottom": null,
       "display": null,
       "flex": null,
       "flex_flow": null,
       "grid_area": null,
       "grid_auto_columns": null,
       "grid_auto_flow": null,
       "grid_auto_rows": null,
       "grid_column": null,
       "grid_gap": null,
       "grid_row": null,
       "grid_template_areas": null,
       "grid_template_columns": null,
       "grid_template_rows": null,
       "height": null,
       "justify_content": null,
       "justify_items": null,
       "left": null,
       "margin": null,
       "max_height": null,
       "max_width": null,
       "min_height": null,
       "min_width": null,
       "object_fit": null,
       "object_position": null,
       "order": null,
       "overflow": null,
       "padding": null,
       "right": null,
       "top": null,
       "visibility": null,
       "width": null
      }
     },
     "d9cf75f768514c8095799daf0cec0236": {
      "model_module": "@jupyter-widgets/output",
      "model_module_version": "1.0.0",
      "model_name": "OutputModel",
      "state": {
       "_dom_classes": [],
       "_model_module": "@jupyter-widgets/output",
       "_model_module_version": "1.0.0",
       "_model_name": "OutputModel",
       "_view_count": null,
       "_view_module": "@jupyter-widgets/output",
       "_view_module_version": "1.0.0",
       "_view_name": "OutputView",
       "layout": "IPY_MODEL_eb29c03f4f844a99964f7c72d23faf45",
       "msg_id": "",
       "outputs": [
        {
         "data": {
          "text/html": "<pre style=\"white-space:pre;overflow-x:auto;line-height:normal;font-family:Menlo,'DejaVu Sans Mono',consolas,'Courier New',monospace\"><span style=\"color: #008000; text-decoration-color: #008000\">▰▰▰▱▱▱▱</span> LLM Inference: together_llm meta-llama/Llama-3-8b-chat-hf\n</pre>\n",
          "text/plain": "\u001b[32m▰▰▰▱▱▱▱\u001b[0m LLM Inference: together_llm meta-llama/Llama-3-8b-chat-hf\n"
         },
         "metadata": {},
         "output_type": "display_data"
        }
       ],
       "tabbable": null,
       "tooltip": null
      }
     },
     "e8c0dd77e8a84ebdb3e678eb26e471a2": {
      "model_module": "@jupyter-widgets/output",
      "model_module_version": "1.0.0",
      "model_name": "OutputModel",
      "state": {
       "_dom_classes": [],
       "_model_module": "@jupyter-widgets/output",
       "_model_module_version": "1.0.0",
       "_model_name": "OutputModel",
       "_view_count": null,
       "_view_module": "@jupyter-widgets/output",
       "_view_module_version": "1.0.0",
       "_view_name": "OutputView",
       "layout": "IPY_MODEL_5a0210af99834863913ff75cdd3dd242",
       "msg_id": "",
       "outputs": [
        {
         "data": {
          "text/html": "<pre style=\"white-space:pre;overflow-x:auto;line-height:normal;font-family:Menlo,'DejaVu Sans Mono',consolas,'Courier New',monospace\"><span style=\"color: #008000; text-decoration-color: #008000\">▰▰▰▱▱▱▱</span> LLM Inference: together_llm meta-llama/Llama-3-8b-chat-hf\n</pre>\n",
          "text/plain": "\u001b[32m▰▰▰▱▱▱▱\u001b[0m LLM Inference: together_llm meta-llama/Llama-3-8b-chat-hf\n"
         },
         "metadata": {},
         "output_type": "display_data"
        }
       ],
       "tabbable": null,
       "tooltip": null
      }
     },
     "eb29c03f4f844a99964f7c72d23faf45": {
      "model_module": "@jupyter-widgets/base",
      "model_module_version": "2.0.0",
      "model_name": "LayoutModel",
      "state": {
       "_model_module": "@jupyter-widgets/base",
       "_model_module_version": "2.0.0",
       "_model_name": "LayoutModel",
       "_view_count": null,
       "_view_module": "@jupyter-widgets/base",
       "_view_module_version": "2.0.0",
       "_view_name": "LayoutView",
       "align_content": null,
       "align_items": null,
       "align_self": null,
       "border_bottom": null,
       "border_left": null,
       "border_right": null,
       "border_top": null,
       "bottom": null,
       "display": null,
       "flex": null,
       "flex_flow": null,
       "grid_area": null,
       "grid_auto_columns": null,
       "grid_auto_flow": null,
       "grid_auto_rows": null,
       "grid_column": null,
       "grid_gap": null,
       "grid_row": null,
       "grid_template_areas": null,
       "grid_template_columns": null,
       "grid_template_rows": null,
       "height": null,
       "justify_content": null,
       "justify_items": null,
       "left": null,
       "margin": null,
       "max_height": null,
       "max_width": null,
       "min_height": null,
       "min_width": null,
       "object_fit": null,
       "object_position": null,
       "order": null,
       "overflow": null,
       "padding": null,
       "right": null,
       "top": null,
       "visibility": null,
       "width": null
      }
     }
    },
    "version_major": 2,
    "version_minor": 0
   }
  }
 },
 "nbformat": 4,
 "nbformat_minor": 5
}
