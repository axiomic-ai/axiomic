{
 "cells": [
  {
   "cell_type": "markdown",
   "id": "0b35ba85-dda9-49f1-82ac-1ad9245bfc2c",
   "metadata": {},
   "source": [
    "# Graphs\n",
    "\n",
    "While weave looks procedural, it uses a data graph backend."
   ]
  },
  {
   "cell_type": "code",
   "execution_count": 1,
   "id": "040dc4a6-ad1f-4446-9830-c2cefc8766c6",
   "metadata": {},
   "outputs": [
    {
     "data": {
      "text/html": [
       "<pre style=\"white-space:pre;overflow-x:auto;line-height:normal;font-family:Menlo,'DejaVu Sans Mono',consolas,'Courier New',monospace\"><span style=\"color: #7f7f7f; text-decoration-color: #7f7f7f; font-weight: bold\">(</span><span style=\"color: #7f7f7f; text-decoration-color: #7f7f7f\">axiomic</span><span style=\"color: #7f7f7f; text-decoration-color: #7f7f7f; font-weight: bold\">)</span><span style=\"color: #7f7f7f; text-decoration-color: #7f7f7f\"> weave in helpful console mode </span><span style=\"color: #7f7f7f; text-decoration-color: #7f7f7f; font-weight: bold\">(</span><span style=\"color: #7f7f7f; text-decoration-color: #7f7f7f\">export </span><span style=\"color: #bfbf7f; text-decoration-color: #bfbf7f\">AXIOMIC_CONSOLE_ENABLE</span><span style=\"color: #7f7f7f; text-decoration-color: #7f7f7f\">=</span><span style=\"color: #ff7f7f; text-decoration-color: #ff7f7f; font-style: italic\">False</span><span style=\"color: #7f7f7f; text-decoration-color: #7f7f7f\"> to disable</span><span style=\"color: #7f7f7f; text-decoration-color: #7f7f7f; font-weight: bold\">)</span><span style=\"color: #7f7f7f; text-decoration-color: #7f7f7f\">.</span>\n",
       "</pre>\n"
      ],
      "text/plain": [
       "\u001b[1;2m(\u001b[0m\u001b[2maxiomic\u001b[0m\u001b[1;2m)\u001b[0m\u001b[2m weave in helpful console mode \u001b[0m\u001b[1;2m(\u001b[0m\u001b[2mexport \u001b[0m\u001b[2;33mAXIOMIC_CONSOLE_ENABLE\u001b[0m\u001b[2m=\u001b[0m\u001b[2;3;91mFalse\u001b[0m\u001b[2m to disable\u001b[0m\u001b[1;2m)\u001b[0m\u001b[2m.\u001b[0m\n"
      ]
     },
     "metadata": {},
     "output_type": "display_data"
    },
    {
     "data": {
      "text/html": [
       "<pre style=\"white-space:pre;overflow-x:auto;line-height:normal;font-family:Menlo,'DejaVu Sans Mono',consolas,'Courier New',monospace\"><span style=\"color: #7f7f7f; text-decoration-color: #7f7f7f; font-weight: bold\">(</span><span style=\"color: #7f7f7f; text-decoration-color: #7f7f7f\">axiomic</span><span style=\"color: #7f7f7f; text-decoration-color: #7f7f7f; font-weight: bold\">)</span><span style=\"color: #7f7f7f; text-decoration-color: #7f7f7f\"> discovered OPENAI_API_KEY, models available under models.OpenAI</span>\n",
       "</pre>\n"
      ],
      "text/plain": [
       "\u001b[1;2m(\u001b[0m\u001b[2maxiomic\u001b[0m\u001b[1;2m)\u001b[0m\u001b[2m discovered OPENAI_API_KEY, models available under models.OpenAI\u001b[0m\n"
      ]
     },
     "metadata": {},
     "output_type": "display_data"
    },
    {
     "data": {
      "text/html": [
       "<pre style=\"white-space:pre;overflow-x:auto;line-height:normal;font-family:Menlo,'DejaVu Sans Mono',consolas,'Courier New',monospace\"><span style=\"color: #7f7f7f; text-decoration-color: #7f7f7f; font-weight: bold\">(</span><span style=\"color: #7f7f7f; text-decoration-color: #7f7f7f\">axiomic</span><span style=\"color: #7f7f7f; text-decoration-color: #7f7f7f; font-weight: bold\">)</span><span style=\"color: #7f7f7f; text-decoration-color: #7f7f7f\"> discovered ANTHROPIC_API_KEY, models available under models.Anthropic</span>\n",
       "</pre>\n"
      ],
      "text/plain": [
       "\u001b[1;2m(\u001b[0m\u001b[2maxiomic\u001b[0m\u001b[1;2m)\u001b[0m\u001b[2m discovered ANTHROPIC_API_KEY, models available under models.Anthropic\u001b[0m\n"
      ]
     },
     "metadata": {},
     "output_type": "display_data"
    },
    {
     "data": {
      "text/html": [
       "<pre style=\"white-space:pre;overflow-x:auto;line-height:normal;font-family:Menlo,'DejaVu Sans Mono',consolas,'Courier New',monospace\"><span style=\"color: #7f7f7f; text-decoration-color: #7f7f7f; font-weight: bold\">(</span><span style=\"color: #7f7f7f; text-decoration-color: #7f7f7f\">axiomic</span><span style=\"color: #7f7f7f; text-decoration-color: #7f7f7f; font-weight: bold\">)</span><span style=\"color: #7f7f7f; text-decoration-color: #7f7f7f\"> discovered TOGETHER_API_KEY, models available under models.Together</span>\n",
       "</pre>\n"
      ],
      "text/plain": [
       "\u001b[1;2m(\u001b[0m\u001b[2maxiomic\u001b[0m\u001b[1;2m)\u001b[0m\u001b[2m discovered TOGETHER_API_KEY, models available under models.Together\u001b[0m\n"
      ]
     },
     "metadata": {},
     "output_type": "display_data"
    }
   ],
   "source": [
    "import axiomic as ax"
   ]
  },
  {
   "cell_type": "code",
   "execution_count": 2,
   "id": "58910c9f-3464-4bd3-8354-8d511065d4b6",
   "metadata": {},
   "outputs": [
    {
     "name": "stdout",
     "output_type": "stream",
     "text": [
      "the answer is: {textref_0x136dab050}\n"
     ]
    }
   ],
   "source": [
    "whats_3_plus_4 = ax.format('Whats {x} + {y}?', x=4, y=3).infer()\n",
    "\n",
    "print(f'the answer is: {whats_3_plus_4}')"
   ]
  },
  {
   "cell_type": "markdown",
   "id": "e1a6aa41-240a-49bf-a7ef-aa109d0a4343",
   "metadata": {},
   "source": [
    "You'll notice that above, no inference actually takes place. And accessing the Text object directly to print it will give you a placeholder reference. This is a reference to a graph we've built.\n",
    "\n",
    "**The graph is only executed when the value is asked for.**\n",
    "\n",
    "If we want the actual value, we can get the value, and force graph execution and retreive our result."
   ]
  },
  {
   "cell_type": "code",
   "execution_count": 3,
   "id": "76363eb5-bae3-4f5d-a4db-e5caa67f3527",
   "metadata": {},
   "outputs": [
    {
     "data": {
      "application/vnd.jupyter.widget-view+json": {
       "model_id": "",
       "version_major": 2,
       "version_minor": 0
      },
      "text/plain": [
       "Output()"
      ]
     },
     "metadata": {},
     "output_type": "display_data"
    },
    {
     "data": {
      "text/html": [
       "<pre style=\"white-space:pre;overflow-x:auto;line-height:normal;font-family:Menlo,'DejaVu Sans Mono',consolas,'Courier New',monospace\"></pre>\n"
      ],
      "text/plain": []
     },
     "metadata": {},
     "output_type": "display_data"
    },
    {
     "data": {
      "text/html": [
       "<pre style=\"white-space:pre;overflow-x:auto;line-height:normal;font-family:Menlo,'DejaVu Sans Mono',consolas,'Courier New',monospace\"><span style=\"color: #000080; text-decoration-color: #000080; font-weight: bold\">together_text: </span><span style=\"color: #000080; text-decoration-color: #000080; font-weight: bold\">17</span><span style=\"color: #000080; text-decoration-color: #000080; font-weight: bold\"> toks -&gt; meta-llama/Llama-</span><span style=\"color: #000080; text-decoration-color: #000080; font-weight: bold\">3</span><span style=\"color: #000080; text-decoration-color: #000080; font-weight: bold\">-8b-chat-hf -&gt; </span><span style=\"color: #000080; text-decoration-color: #000080; font-weight: bold\">8</span><span style=\"color: #000080; text-decoration-color: #000080; font-weight: bold\"> toks (in </span><span style=\"color: #000080; text-decoration-color: #000080; font-weight: bold\">0.</span><span style=\"color: #000080; text-decoration-color: #000080; font-weight: bold\">66s)</span>\n",
       "</pre>\n"
      ],
      "text/plain": [
       "\u001b[1;34mtogether_text: \u001b[0m\u001b[1;34m17\u001b[0m\u001b[1;34m toks -> meta-llama/Llama-\u001b[0m\u001b[1;34m3\u001b[0m\u001b[1;34m-8b-chat-hf -> \u001b[0m\u001b[1;34m8\u001b[0m\u001b[1;34m toks \u001b[0m\u001b[1;34m(\u001b[0m\u001b[1;34min \u001b[0m\u001b[1;34m0.\u001b[0m\u001b[1;34m66s\u001b[0m\u001b[1;34m)\u001b[0m\n"
      ]
     },
     "metadata": {},
     "output_type": "display_data"
    },
    {
     "name": "stdout",
     "output_type": "stream",
     "text": [
      "4 + 3 = 7\n"
     ]
    }
   ],
   "source": [
    "answer = whats_3_plus_4.value()\n",
    "print(answer)"
   ]
  },
  {
   "cell_type": "markdown",
   "id": "effe5fe9-2005-4ec9-8408-e0505083982b",
   "metadata": {},
   "source": [
    "We can actually inspect this graph we've produced, to understand exactly what the agent is doing."
   ]
  },
  {
   "cell_type": "code",
   "execution_count": 4,
   "id": "59a2b7c3-9d58-4ebf-bb33-294baf4b71f6",
   "metadata": {},
   "outputs": [
    {
     "data": {
      "text/html": [
       "<pre style=\"white-space:pre;overflow-x:auto;line-height:normal;font-family:Menlo,'DejaVu Sans Mono',consolas,'Courier New',monospace\"><span style=\"font-style: italic\">        _immediate1         </span>\n",
       "┌───────┬──────────────────┐\n",
       "│ value │ Whats {x} + {y}? │\n",
       "└───────┴──────────────────┘\n",
       "</pre>\n"
      ],
      "text/plain": [
       "\u001b[3m        _immediate1         \u001b[0m\n",
       "┌───────┬──────────────────┐\n",
       "│ value │ Whats {x} + {y}? │\n",
       "└───────┴──────────────────┘\n"
      ]
     },
     "metadata": {},
     "output_type": "display_data"
    },
    {
     "data": {
      "text/html": [
       "<pre style=\"white-space:pre;overflow-x:auto;line-height:normal;font-family:Menlo,'DejaVu Sans Mono',consolas,'Courier New',monospace\"><span style=\"font-style: italic\"> _immediate2 </span>\n",
       "┌───────┬───┐\n",
       "│ value │ 4 │\n",
       "└───────┴───┘\n",
       "</pre>\n"
      ],
      "text/plain": [
       "\u001b[3m _immediate2 \u001b[0m\n",
       "┌───────┬───┐\n",
       "│ value │ 4 │\n",
       "└───────┴───┘\n"
      ]
     },
     "metadata": {},
     "output_type": "display_data"
    },
    {
     "data": {
      "text/html": [
       "<pre style=\"white-space:pre;overflow-x:auto;line-height:normal;font-family:Menlo,'DejaVu Sans Mono',consolas,'Courier New',monospace\"><span style=\"font-style: italic\"> _immediate3 </span>\n",
       "┌───────┬───┐\n",
       "│ value │ 3 │\n",
       "└───────┴───┘\n",
       "</pre>\n"
      ],
      "text/plain": [
       "\u001b[3m _immediate3 \u001b[0m\n",
       "┌───────┬───┐\n",
       "│ value │ 3 │\n",
       "└───────┴───┘\n"
      ]
     },
     "metadata": {},
     "output_type": "display_data"
    },
    {
     "data": {
      "text/html": [
       "<pre style=\"white-space:pre;overflow-x:auto;line-height:normal;font-family:Menlo,'DejaVu Sans Mono',consolas,'Courier New',monospace\">_format4\n",
       "├── ╭─ template: _immediate1 ─╮\n",
       "│   │ Whats {x} + {y}?        │\n",
       "│   ╰─────────────────────────╯\n",
       "├── ╭─ {x}: _immediate2 ─╮\n",
       "│   │ 4                  │\n",
       "│   ╰────────────────────╯\n",
       "└── ╭─ {y}: _immediate3 ─╮\n",
       "    │ 3                  │\n",
       "    ╰────────────────────╯\n",
       "</pre>\n"
      ],
      "text/plain": [
       "_format4\n",
       "├── ╭─ template: _immediate1 ─╮\n",
       "│   │ Whats {x} + {y}?        │\n",
       "│   ╰─────────────────────────╯\n",
       "├── ╭─ {x}: _immediate2 ─╮\n",
       "│   │ 4                  │\n",
       "│   ╰────────────────────╯\n",
       "└── ╭─ {y}: _immediate3 ─╮\n",
       "    │ 3                  │\n",
       "    ╰────────────────────╯\n"
      ]
     },
     "metadata": {},
     "output_type": "display_data"
    },
    {
     "data": {
      "text/html": [
       "<pre style=\"white-space:pre;overflow-x:auto;line-height:normal;font-family:Menlo,'DejaVu Sans Mono',consolas,'Courier New',monospace\"><span style=\"font-style: italic\">       _immediate5        </span>\n",
       "┌───────┬────────────────┐\n",
       "│ value │ <span style=\"text-decoration: underline\">&lt;Empty String&gt;</span> │\n",
       "└───────┴────────────────┘\n",
       "</pre>\n"
      ],
      "text/plain": [
       "\u001b[3m       _immediate5        \u001b[0m\n",
       "┌───────┬────────────────┐\n",
       "│ value │ \u001b[4m<Empty String>\u001b[0m │\n",
       "└───────┴────────────────┘\n"
      ]
     },
     "metadata": {},
     "output_type": "display_data"
    },
    {
     "data": {
      "text/html": [
       "<pre style=\"white-space:pre;overflow-x:auto;line-height:normal;font-family:Menlo,'DejaVu Sans Mono',consolas,'Courier New',monospace\"><span style=\"font-style: italic\">                _history_complete6                 </span>\n",
       "┌─────────────────┬───────────────────────────────┐\n",
       "│ llmMaxTokens    │ 1024                          │\n",
       "├─────────────────┼───────────────────────────────┤\n",
       "│ llmModelName    │ meta-llama/Llama-3-8b-chat-hf │\n",
       "├─────────────────┼───────────────────────────────┤\n",
       "│ llmProviderName │ together_text                 │\n",
       "├─────────────────┼───────────────────────────────┤\n",
       "│ llmTemperature  │ 0.5                           │\n",
       "└─────────────────┴───────────────────────────────┘\n",
       "├── user_message: _format4\n",
       "│   ├── ╭─ template: _immediate1 ─╮\n",
       "│   │   │ Whats {x} + {y}?        │\n",
       "│   │   ╰─────────────────────────╯\n",
       "│   ├── ╭─ {x}: _immediate2 ─╮\n",
       "│   │   │ 4                  │\n",
       "│   │   ╰────────────────────╯\n",
       "│   └── ╭─ {y}: _immediate3 ─╮\n",
       "│       │ 3                  │\n",
       "│       ╰────────────────────╯\n",
       "└── ╭─ system_prompt: _immediate5 ─╮\n",
       "    │ <span style=\"text-decoration: underline\">&lt;Empty String&gt;</span>               │\n",
       "    ╰──────────────────────────────╯\n",
       "</pre>\n"
      ],
      "text/plain": [
       "\u001b[3m                _history_complete6                 \u001b[0m\n",
       "┌─────────────────┬───────────────────────────────┐\n",
       "│ llmMaxTokens    │ 1024                          │\n",
       "├─────────────────┼───────────────────────────────┤\n",
       "│ llmModelName    │ meta-llama/Llama-3-8b-chat-hf │\n",
       "├─────────────────┼───────────────────────────────┤\n",
       "│ llmProviderName │ together_text                 │\n",
       "├─────────────────┼───────────────────────────────┤\n",
       "│ llmTemperature  │ 0.5                           │\n",
       "└─────────────────┴───────────────────────────────┘\n",
       "├── user_message: _format4\n",
       "│   ├── ╭─ template: _immediate1 ─╮\n",
       "│   │   │ Whats {x} + {y}?        │\n",
       "│   │   ╰─────────────────────────╯\n",
       "│   ├── ╭─ {x}: _immediate2 ─╮\n",
       "│   │   │ 4                  │\n",
       "│   │   ╰────────────────────╯\n",
       "│   └── ╭─ {y}: _immediate3 ─╮\n",
       "│       │ 3                  │\n",
       "│       ╰────────────────────╯\n",
       "└── ╭─ system_prompt: _immediate5 ─╮\n",
       "    │ \u001b[4m<Empty String>\u001b[0m               │\n",
       "    ╰──────────────────────────────╯\n"
      ]
     },
     "metadata": {},
     "output_type": "display_data"
    }
   ],
   "source": [
    "whats_3_plus_4.print_graph()"
   ]
  },
  {
   "cell_type": "code",
   "execution_count": 5,
   "id": "514b2c45-63a1-4e72-b0e8-42e88d5d7e03",
   "metadata": {
    "scrolled": true
   },
   "outputs": [
    {
     "data": {
      "text/html": [
       "<pre style=\"white-space:pre;overflow-x:auto;line-height:normal;font-family:Menlo,'DejaVu Sans Mono',consolas,'Courier New',monospace\"><span style=\"font-style: italic\">   default:default:my_input   </span>\n",
       "┌───────┬────────────────────┐\n",
       "│ value │ How are you today? │\n",
       "└───────┴────────────────────┘\n",
       "</pre>\n"
      ],
      "text/plain": [
       "\u001b[3m   default:default:my_input   \u001b[0m\n",
       "┌───────┬────────────────────┐\n",
       "│ value │ How are you today? │\n",
       "└───────┴────────────────────┘\n"
      ]
     },
     "metadata": {},
     "output_type": "display_data"
    },
    {
     "data": {
      "text/html": [
       "<pre style=\"white-space:pre;overflow-x:auto;line-height:normal;font-family:Menlo,'DejaVu Sans Mono',consolas,'Courier New',monospace\"><span style=\"font-style: italic\">          _immediate12           </span>\n",
       "┌───────┬───────────────────────┐\n",
       "│ value │ {textref_0x139a4aa20} │\n",
       "└───────┴───────────────────────┘\n",
       "</pre>\n"
      ],
      "text/plain": [
       "\u001b[3m          _immediate12           \u001b[0m\n",
       "┌───────┬───────────────────────┐\n",
       "│ value │ {textref_0x139a4aa20} │\n",
       "└───────┴───────────────────────┘\n"
      ]
     },
     "metadata": {},
     "output_type": "display_data"
    },
    {
     "data": {
      "text/html": [
       "<pre style=\"white-space:pre;overflow-x:auto;line-height:normal;font-family:Menlo,'DejaVu Sans Mono',consolas,'Courier New',monospace\"><span style=\"font-style: italic\">              _immediate10               </span>\n",
       "┌───────┬───────────────────────────────┐\n",
       "│ value │ You must follow this pattern: │\n",
       "│       │                               │\n",
       "│       │ {pattern_desc}                │\n",
       "│       │                               │\n",
       "│       │ {textref_0x139a26cf0}         │\n",
       "│       │ {schema}                      │\n",
       "│       │                               │\n",
       "└───────┴───────────────────────────────┘\n",
       "</pre>\n"
      ],
      "text/plain": [
       "\u001b[3m              _immediate10               \u001b[0m\n",
       "┌───────┬───────────────────────────────┐\n",
       "│ value │ You must follow this pattern: │\n",
       "│       │                               │\n",
       "│       │ {pattern_desc}                │\n",
       "│       │                               │\n",
       "│       │ {textref_0x139a26cf0}         │\n",
       "│       │ {schema}                      │\n",
       "│       │                               │\n",
       "└───────┴───────────────────────────────┘\n"
      ]
     },
     "metadata": {},
     "output_type": "display_data"
    },
    {
     "data": {
      "text/html": [
       "<pre style=\"white-space:pre;overflow-x:auto;line-height:normal;font-family:Menlo,'DejaVu Sans Mono',consolas,'Courier New',monospace\"><span style=\"font-style: italic\">                               _immediate9                                </span>\n",
       "┌───────┬────────────────────────────────────────────────────────────────┐\n",
       "│ value │ Your response must be a valid JSON object. It must             │\n",
       "│       │ match the this jsonschema exactly.                             │\n",
       "│       │ Do not include any other text or explanation in your response. │\n",
       "│       │                                                                │\n",
       "└───────┴────────────────────────────────────────────────────────────────┘\n",
       "</pre>\n"
      ],
      "text/plain": [
       "\u001b[3m                               _immediate9                                \u001b[0m\n",
       "┌───────┬────────────────────────────────────────────────────────────────┐\n",
       "│ value │ Your response must be a valid JSON object. It must             │\n",
       "│       │ match the this jsonschema exactly.                             │\n",
       "│       │ Do not include any other text or explanation in your response. │\n",
       "│       │                                                                │\n",
       "└───────┴────────────────────────────────────────────────────────────────┘\n"
      ]
     },
     "metadata": {},
     "output_type": "display_data"
    },
    {
     "data": {
      "text/html": [
       "<pre style=\"white-space:pre;overflow-x:auto;line-height:normal;font-family:Menlo,'DejaVu Sans Mono',consolas,'Courier New',monospace\">_format11\n",
       "├── ╭─ template: _immediate10 ──────╮\n",
       "│   │ You must follow this pattern: │\n",
       "│   │                               │\n",
       "│   │ {pattern_desc}                │\n",
       "│   │                               │\n",
       "│   │ {textref_0x139a26cf0}         │\n",
       "│   │ {schema}                      │\n",
       "│   │                               │\n",
       "│   ╰───────────────────────────────╯\n",
       "└── ╭─ {textref_0x139a26cf0}: _immediate9 ───────────────────────────╮\n",
       "    │ Your response must be a valid JSON object. It must             │\n",
       "    │ match the this jsonschema exactly.                             │\n",
       "    │ Do not include any other text or explanation in your response. │\n",
       "    │                                                                │\n",
       "    ╰────────────────────────────────────────────────────────────────╯\n",
       "</pre>\n"
      ],
      "text/plain": [
       "_format11\n",
       "├── ╭─ template: _immediate10 ──────╮\n",
       "│   │ You must follow this pattern: │\n",
       "│   │                               │\n",
       "│   │ {pattern_desc}                │\n",
       "│   │                               │\n",
       "│   │ {textref_0x139a26cf0}         │\n",
       "│   │ {schema}                      │\n",
       "│   │                               │\n",
       "│   ╰───────────────────────────────╯\n",
       "└── ╭─ {textref_0x139a26cf0}: _immediate9 ───────────────────────────╮\n",
       "    │ Your response must be a valid JSON object. It must             │\n",
       "    │ match the this jsonschema exactly.                             │\n",
       "    │ Do not include any other text or explanation in your response. │\n",
       "    │                                                                │\n",
       "    ╰────────────────────────────────────────────────────────────────╯\n"
      ]
     },
     "metadata": {},
     "output_type": "display_data"
    },
    {
     "data": {
      "text/html": [
       "<pre style=\"white-space:pre;overflow-x:auto;line-height:normal;font-family:Menlo,'DejaVu Sans Mono',consolas,'Courier New',monospace\">_format13\n",
       "├── ╭─ template: _immediate12 ─╮\n",
       "│   │ {textref_0x139a4aa20}    │\n",
       "│   ╰──────────────────────────╯\n",
       "└── {textref_0x139a4aa20}: _format11\n",
       "    ├── ╭─ template: _immediate10 ──────╮\n",
       "    │   │ You must follow this pattern: │\n",
       "    │   │                               │\n",
       "    │   │ {pattern_desc}                │\n",
       "    │   │                               │\n",
       "    │   │ {textref_0x139a26cf0}         │\n",
       "    │   │ {schema}                      │\n",
       "    │   │                               │\n",
       "    │   ╰───────────────────────────────╯\n",
       "    └── ╭─ {textref_0x139a26cf0}: _immediate9 ───────────────────────────╮\n",
       "        │ Your response must be a valid JSON object. It must             │\n",
       "        │ match the this jsonschema exactly.                             │\n",
       "        │ Do not include any other text or explanation in your response. │\n",
       "        │                                                                │\n",
       "        ╰────────────────────────────────────────────────────────────────╯\n",
       "</pre>\n"
      ],
      "text/plain": [
       "_format13\n",
       "├── ╭─ template: _immediate12 ─╮\n",
       "│   │ {textref_0x139a4aa20}    │\n",
       "│   ╰──────────────────────────╯\n",
       "└── {textref_0x139a4aa20}: _format11\n",
       "    ├── ╭─ template: _immediate10 ──────╮\n",
       "    │   │ You must follow this pattern: │\n",
       "    │   │                               │\n",
       "    │   │ {pattern_desc}                │\n",
       "    │   │                               │\n",
       "    │   │ {textref_0x139a26cf0}         │\n",
       "    │   │ {schema}                      │\n",
       "    │   │                               │\n",
       "    │   ╰───────────────────────────────╯\n",
       "    └── ╭─ {textref_0x139a26cf0}: _immediate9 ───────────────────────────╮\n",
       "        │ Your response must be a valid JSON object. It must             │\n",
       "        │ match the this jsonschema exactly.                             │\n",
       "        │ Do not include any other text or explanation in your response. │\n",
       "        │                                                                │\n",
       "        ╰────────────────────────────────────────────────────────────────╯\n"
      ]
     },
     "metadata": {},
     "output_type": "display_data"
    },
    {
     "data": {
      "text/html": [
       "<pre style=\"white-space:pre;overflow-x:auto;line-height:normal;font-family:Menlo,'DejaVu Sans Mono',consolas,'Courier New',monospace\"><span style=\"font-style: italic\">                              _immediate14                              </span>\n",
       "┌───────┬──────────────────────────────────────────────────────────────┐\n",
       "│ value │ Given text, state which of these cases most closely applies: │\n",
       "│       │ \"Helpful\"                                                    │\n",
       "│       │ \"Unhelpful\"                                                  │\n",
       "│       │                                                              │\n",
       "└───────┴──────────────────────────────────────────────────────────────┘\n",
       "</pre>\n"
      ],
      "text/plain": [
       "\u001b[3m                              _immediate14                              \u001b[0m\n",
       "┌───────┬──────────────────────────────────────────────────────────────┐\n",
       "│ value │ Given text, state which of these cases most closely applies: │\n",
       "│       │ \"Helpful\"                                                    │\n",
       "│       │ \"Unhelpful\"                                                  │\n",
       "│       │                                                              │\n",
       "└───────┴──────────────────────────────────────────────────────────────┘\n"
      ]
     },
     "metadata": {},
     "output_type": "display_data"
    },
    {
     "data": {
      "text/html": [
       "<pre style=\"white-space:pre;overflow-x:auto;line-height:normal;font-family:Menlo,'DejaVu Sans Mono',consolas,'Courier New',monospace\"><span style=\"font-style: italic\">                          _immediate15                          </span>\n",
       "┌───────┬──────────────────────────────────────────────────────┐\n",
       "│ value │ {\"type\": \"string\", \"enum\": [\"Unhelpful\", \"Helpful\"]} │\n",
       "└───────┴──────────────────────────────────────────────────────┘\n",
       "</pre>\n"
      ],
      "text/plain": [
       "\u001b[3m                          _immediate15                          \u001b[0m\n",
       "┌───────┬──────────────────────────────────────────────────────┐\n",
       "│ value │ {\"type\": \"string\", \"enum\": [\"Unhelpful\", \"Helpful\"]} │\n",
       "└───────┴──────────────────────────────────────────────────────┘\n"
      ]
     },
     "metadata": {},
     "output_type": "display_data"
    },
    {
     "data": {
      "text/html": [
       "<pre style=\"white-space:pre;overflow-x:auto;line-height:normal;font-family:Menlo,'DejaVu Sans Mono',consolas,'Courier New',monospace\">_format16\n",
       "├── template: _format13\n",
       "│   ├── ╭─ template: _immediate12 ─╮\n",
       "│   │   │ {textref_0x139a4aa20}    │\n",
       "│   │   ╰──────────────────────────╯\n",
       "│   └── {textref_0x139a4aa20}: _format11\n",
       "│       ├── ╭─ template: _immediate10 ──────╮\n",
       "│       │   │ You must follow this pattern: │\n",
       "│       │   │                               │\n",
       "│       │   │ {pattern_desc}                │\n",
       "│       │   │                               │\n",
       "│       │   │ {textref_0x139a26cf0}         │\n",
       "│       │   │ {schema}                      │\n",
       "│       │   │                               │\n",
       "│       │   ╰───────────────────────────────╯\n",
       "│       └── ╭─ {textref_0x139a26cf0}: _immediate9 ───────────────────────────╮\n",
       "│           │ Your response must be a valid JSON object. It must             │\n",
       "│           │ match the this jsonschema exactly.                             │\n",
       "│           │ Do not include any other text or explanation in your response. │\n",
       "│           │                                                                │\n",
       "│           ╰────────────────────────────────────────────────────────────────╯\n",
       "├── ╭─ {pattern_desc}: _immediate14 ───────────────────────────────╮\n",
       "│   │ Given text, state which of these cases most closely applies: │\n",
       "│   │ \"Helpful\"                                                    │\n",
       "│   │ \"Unhelpful\"                                                  │\n",
       "│   │                                                              │\n",
       "│   ╰──────────────────────────────────────────────────────────────╯\n",
       "└── ╭─ {schema}: _immediate15 ─────────────────────────────╮\n",
       "    │ {\"type\": \"string\", \"enum\": [\"Unhelpful\", \"Helpful\"]} │\n",
       "    ╰──────────────────────────────────────────────────────╯\n",
       "</pre>\n"
      ],
      "text/plain": [
       "_format16\n",
       "├── template: _format13\n",
       "│   ├── ╭─ template: _immediate12 ─╮\n",
       "│   │   │ {textref_0x139a4aa20}    │\n",
       "│   │   ╰──────────────────────────╯\n",
       "│   └── {textref_0x139a4aa20}: _format11\n",
       "│       ├── ╭─ template: _immediate10 ──────╮\n",
       "│       │   │ You must follow this pattern: │\n",
       "│       │   │                               │\n",
       "│       │   │ {pattern_desc}                │\n",
       "│       │   │                               │\n",
       "│       │   │ {textref_0x139a26cf0}         │\n",
       "│       │   │ {schema}                      │\n",
       "│       │   │                               │\n",
       "│       │   ╰───────────────────────────────╯\n",
       "│       └── ╭─ {textref_0x139a26cf0}: _immediate9 ───────────────────────────╮\n",
       "│           │ Your response must be a valid JSON object. It must             │\n",
       "│           │ match the this jsonschema exactly.                             │\n",
       "│           │ Do not include any other text or explanation in your response. │\n",
       "│           │                                                                │\n",
       "│           ╰────────────────────────────────────────────────────────────────╯\n",
       "├── ╭─ {pattern_desc}: _immediate14 ───────────────────────────────╮\n",
       "│   │ Given text, state which of these cases most closely applies: │\n",
       "│   │ \"Helpful\"                                                    │\n",
       "│   │ \"Unhelpful\"                                                  │\n",
       "│   │                                                              │\n",
       "│   ╰──────────────────────────────────────────────────────────────╯\n",
       "└── ╭─ {schema}: _immediate15 ─────────────────────────────╮\n",
       "    │ {\"type\": \"string\", \"enum\": [\"Unhelpful\", \"Helpful\"]} │\n",
       "    ╰──────────────────────────────────────────────────────╯\n"
      ]
     },
     "metadata": {},
     "output_type": "display_data"
    },
    {
     "data": {
      "text/html": [
       "<pre style=\"white-space:pre;overflow-x:auto;line-height:normal;font-family:Menlo,'DejaVu Sans Mono',consolas,'Courier New',monospace\"><span style=\"font-style: italic\">         _immediate20          </span>\n",
       "┌───────┬─────────────────────┐\n",
       "│ value │ how can I help you? │\n",
       "└───────┴─────────────────────┘\n",
       "</pre>\n"
      ],
      "text/plain": [
       "\u001b[3m         _immediate20          \u001b[0m\n",
       "┌───────┬─────────────────────┐\n",
       "│ value │ how can I help you? │\n",
       "└───────┴─────────────────────┘\n"
      ]
     },
     "metadata": {},
     "output_type": "display_data"
    },
    {
     "data": {
      "text/html": [
       "<pre style=\"white-space:pre;overflow-x:auto;line-height:normal;font-family:Menlo,'DejaVu Sans Mono',consolas,'Courier New',monospace\"><span style=\"font-style: italic\">    _immediate21     </span>\n",
       "┌───────┬───────────┐\n",
       "│ value │ \"Helpful\" │\n",
       "└───────┴───────────┘\n",
       "</pre>\n"
      ],
      "text/plain": [
       "\u001b[3m    _immediate21     \u001b[0m\n",
       "┌───────┬───────────┐\n",
       "│ value │ \"Helpful\" │\n",
       "└───────┴───────────┘\n"
      ]
     },
     "metadata": {},
     "output_type": "display_data"
    },
    {
     "data": {
      "text/html": [
       "<pre style=\"white-space:pre;overflow-x:auto;line-height:normal;font-family:Menlo,'DejaVu Sans Mono',consolas,'Courier New',monospace\"><span style=\"font-style: italic\">         _immediate22         </span>\n",
       "┌───────┬────────────────────┐\n",
       "│ value │ Get out of my way. │\n",
       "└───────┴────────────────────┘\n",
       "</pre>\n"
      ],
      "text/plain": [
       "\u001b[3m         _immediate22         \u001b[0m\n",
       "┌───────┬────────────────────┐\n",
       "│ value │ Get out of my way. │\n",
       "└───────┴────────────────────┘\n"
      ]
     },
     "metadata": {},
     "output_type": "display_data"
    },
    {
     "data": {
      "text/html": [
       "<pre style=\"white-space:pre;overflow-x:auto;line-height:normal;font-family:Menlo,'DejaVu Sans Mono',consolas,'Courier New',monospace\"><span style=\"font-style: italic\">     _immediate23      </span>\n",
       "┌───────┬─────────────┐\n",
       "│ value │ \"Unhelpful\" │\n",
       "└───────┴─────────────┘\n",
       "</pre>\n"
      ],
      "text/plain": [
       "\u001b[3m     _immediate23      \u001b[0m\n",
       "┌───────┬─────────────┐\n",
       "│ value │ \"Unhelpful\" │\n",
       "└───────┴─────────────┘\n"
      ]
     },
     "metadata": {},
     "output_type": "display_data"
    },
    {
     "data": {
      "text/html": [
       "<pre style=\"white-space:pre;overflow-x:auto;line-height:normal;font-family:Menlo,'DejaVu Sans Mono',consolas,'Courier New',monospace\"><span style=\"font-style: italic\">                _history_complete24                </span>\n",
       "┌─────────────────┬───────────────────────────────┐\n",
       "│ llmMaxTokens    │ 1024                          │\n",
       "├─────────────────┼───────────────────────────────┤\n",
       "│ llmModelName    │ meta-llama/Llama-3-8b-chat-hf │\n",
       "├─────────────────┼───────────────────────────────┤\n",
       "│ llmProviderName │ together_text                 │\n",
       "├─────────────────┼───────────────────────────────┤\n",
       "│ llmTemperature  │ 0.5                           │\n",
       "└─────────────────┴───────────────────────────────┘\n",
       "├── ╭─ user_message: default:default:my_input ─╮\n",
       "│   │ How are you today?                       │\n",
       "│   ╰──────────────────────────────────────────╯\n",
       "├── system_prompt: _format16\n",
       "│   ├── template: _format13\n",
       "│   │   ├── ╭─ template: _immediate12 ─╮\n",
       "│   │   │   │ {textref_0x139a4aa20}    │\n",
       "│   │   │   ╰──────────────────────────╯\n",
       "│   │   └── {textref_0x139a4aa20}: _format11\n",
       "│   │       ├── ╭─ template: _immediate10 ──────╮\n",
       "│   │       │   │ You must follow this pattern: │\n",
       "│   │       │   │                               │\n",
       "│   │       │   │ {pattern_desc}                │\n",
       "│   │       │   │                               │\n",
       "│   │       │   │ {textref_0x139a26cf0}         │\n",
       "│   │       │   │ {schema}                      │\n",
       "│   │       │   │                               │\n",
       "│   │       │   ╰───────────────────────────────╯\n",
       "│   │       │   └── ...\n",
       "│   │       └── ╭─ {textref_0x139a26cf0}: _immediate9 ───────────────────────────╮\n",
       "│   │           │ Your response must be a valid JSON object. It must             │\n",
       "│   │           │ match the this jsonschema exactly.                             │\n",
       "│   │           │ Do not include any other text or explanation in your response. │\n",
       "│   │           │                                                                │\n",
       "│   │           ╰────────────────────────────────────────────────────────────────╯\n",
       "│   │           └── ...\n",
       "│   ├── ╭─ {pattern_desc}: _immediate14 ───────────────────────────────╮\n",
       "│   │   │ Given text, state which of these cases most closely applies: │\n",
       "│   │   │ \"Helpful\"                                                    │\n",
       "│   │   │ \"Unhelpful\"                                                  │\n",
       "│   │   │                                                              │\n",
       "│   │   ╰──────────────────────────────────────────────────────────────╯\n",
       "│   └── ╭─ {schema}: _immediate15 ─────────────────────────────╮\n",
       "│       │ {\"type\": \"string\", \"enum\": [\"Unhelpful\", \"Helpful\"]} │\n",
       "│       ╰──────────────────────────────────────────────────────╯\n",
       "├── ╭─ user_message_0: _immediate20 ─╮\n",
       "│   │ how can I help you?            │\n",
       "│   ╰────────────────────────────────╯\n",
       "├── ╭─ assistant_message_0: _immediate21 ─╮\n",
       "│   │ \"Helpful\"                           │\n",
       "│   ╰─────────────────────────────────────╯\n",
       "├── ╭─ user_message_1: _immediate22 ─╮\n",
       "│   │ Get out of my way.             │\n",
       "│   ╰────────────────────────────────╯\n",
       "└── ╭─ assistant_message_1: _immediate23 ─╮\n",
       "    │ \"Unhelpful\"                         │\n",
       "    ╰─────────────────────────────────────╯\n",
       "</pre>\n"
      ],
      "text/plain": [
       "\u001b[3m                _history_complete24                \u001b[0m\n",
       "┌─────────────────┬───────────────────────────────┐\n",
       "│ llmMaxTokens    │ 1024                          │\n",
       "├─────────────────┼───────────────────────────────┤\n",
       "│ llmModelName    │ meta-llama/Llama-3-8b-chat-hf │\n",
       "├─────────────────┼───────────────────────────────┤\n",
       "│ llmProviderName │ together_text                 │\n",
       "├─────────────────┼───────────────────────────────┤\n",
       "│ llmTemperature  │ 0.5                           │\n",
       "└─────────────────┴───────────────────────────────┘\n",
       "├── ╭─ user_message: default:default:my_input ─╮\n",
       "│   │ How are you today?                       │\n",
       "│   ╰──────────────────────────────────────────╯\n",
       "├── system_prompt: _format16\n",
       "│   ├── template: _format13\n",
       "│   │   ├── ╭─ template: _immediate12 ─╮\n",
       "│   │   │   │ {textref_0x139a4aa20}    │\n",
       "│   │   │   ╰──────────────────────────╯\n",
       "│   │   └── {textref_0x139a4aa20}: _format11\n",
       "│   │       ├── ╭─ template: _immediate10 ──────╮\n",
       "│   │       │   │ You must follow this pattern: │\n",
       "│   │       │   │                               │\n",
       "│   │       │   │ {pattern_desc}                │\n",
       "│   │       │   │                               │\n",
       "│   │       │   │ {textref_0x139a26cf0}         │\n",
       "│   │       │   │ {schema}                      │\n",
       "│   │       │   │                               │\n",
       "│   │       │   ╰───────────────────────────────╯\n",
       "│   │       │   └── ...\n",
       "│   │       └── ╭─ {textref_0x139a26cf0}: _immediate9 ───────────────────────────╮\n",
       "│   │           │ Your response must be a valid JSON object. It must             │\n",
       "│   │           │ match the this jsonschema exactly.                             │\n",
       "│   │           │ Do not include any other text or explanation in your response. │\n",
       "│   │           │                                                                │\n",
       "│   │           ╰────────────────────────────────────────────────────────────────╯\n",
       "│   │           └── ...\n",
       "│   ├── ╭─ {pattern_desc}: _immediate14 ───────────────────────────────╮\n",
       "│   │   │ Given text, state which of these cases most closely applies: │\n",
       "│   │   │ \"Helpful\"                                                    │\n",
       "│   │   │ \"Unhelpful\"                                                  │\n",
       "│   │   │                                                              │\n",
       "│   │   ╰──────────────────────────────────────────────────────────────╯\n",
       "│   └── ╭─ {schema}: _immediate15 ─────────────────────────────╮\n",
       "│       │ {\"type\": \"string\", \"enum\": [\"Unhelpful\", \"Helpful\"]} │\n",
       "│       ╰──────────────────────────────────────────────────────╯\n",
       "├── ╭─ user_message_0: _immediate20 ─╮\n",
       "│   │ how can I help you?            │\n",
       "│   ╰────────────────────────────────╯\n",
       "├── ╭─ assistant_message_0: _immediate21 ─╮\n",
       "│   │ \"Helpful\"                           │\n",
       "│   ╰─────────────────────────────────────╯\n",
       "├── ╭─ user_message_1: _immediate22 ─╮\n",
       "│   │ Get out of my way.             │\n",
       "│   ╰────────────────────────────────╯\n",
       "└── ╭─ assistant_message_1: _immediate23 ─╮\n",
       "    │ \"Unhelpful\"                         │\n",
       "    ╰─────────────────────────────────────╯\n"
      ]
     },
     "metadata": {},
     "output_type": "display_data"
    },
    {
     "data": {
      "text/html": [
       "<pre style=\"white-space:pre;overflow-x:auto;line-height:normal;font-family:Menlo,'DejaVu Sans Mono',consolas,'Courier New',monospace\"><span style=\"font-style: italic\">        _builtin_unary_check25        </span>\n",
       "┌────────────────┬───────────────────┐\n",
       "│ unaryCheckName │ CHECK_JSON_SYNTAX │\n",
       "└────────────────┴───────────────────┘\n",
       "└── input: _history_complete24\n",
       "    ├── ╭─ user_message: default:default:my_input ─╮\n",
       "    │   │ How are you today?                       │\n",
       "    │   ╰──────────────────────────────────────────╯\n",
       "    ├── system_prompt: _format16\n",
       "    │   ├── template: _format13\n",
       "    │   │   ├── ╭─ template: _immediate12 ─╮\n",
       "    │   │   │   │ {textref_0x139a4aa20}    │\n",
       "    │   │   │   ╰──────────────────────────╯\n",
       "    │   │   │   └── ...\n",
       "    │   │   └── {textref_0x139a4aa20}: _format11\n",
       "    │   │       └── ...\n",
       "    │   ├── ╭─ {pattern_desc}: _immediate14 ───────────────────────────────╮\n",
       "    │   │   │ Given text, state which of these cases most closely applies: │\n",
       "    │   │   │ \"Helpful\"                                                    │\n",
       "    │   │   │ \"Unhelpful\"                                                  │\n",
       "    │   │   │                                                              │\n",
       "    │   │   ╰──────────────────────────────────────────────────────────────╯\n",
       "    │   └── ╭─ {schema}: _immediate15 ─────────────────────────────╮\n",
       "    │       │ {\"type\": \"string\", \"enum\": [\"Unhelpful\", \"Helpful\"]} │\n",
       "    │       ╰──────────────────────────────────────────────────────╯\n",
       "    ├── ╭─ user_message_0: _immediate20 ─╮\n",
       "    │   │ how can I help you?            │\n",
       "    │   ╰────────────────────────────────╯\n",
       "    ├── ╭─ assistant_message_0: _immediate21 ─╮\n",
       "    │   │ \"Helpful\"                           │\n",
       "    │   ╰─────────────────────────────────────╯\n",
       "    ├── ╭─ user_message_1: _immediate22 ─╮\n",
       "    │   │ Get out of my way.             │\n",
       "    │   ╰────────────────────────────────╯\n",
       "    └── ╭─ assistant_message_1: _immediate23 ─╮\n",
       "        │ \"Unhelpful\"                         │\n",
       "        ╰─────────────────────────────────────╯\n",
       "</pre>\n"
      ],
      "text/plain": [
       "\u001b[3m        _builtin_unary_check25        \u001b[0m\n",
       "┌────────────────┬───────────────────┐\n",
       "│ unaryCheckName │ CHECK_JSON_SYNTAX │\n",
       "└────────────────┴───────────────────┘\n",
       "└── input: _history_complete24\n",
       "    ├── ╭─ user_message: default:default:my_input ─╮\n",
       "    │   │ How are you today?                       │\n",
       "    │   ╰──────────────────────────────────────────╯\n",
       "    ├── system_prompt: _format16\n",
       "    │   ├── template: _format13\n",
       "    │   │   ├── ╭─ template: _immediate12 ─╮\n",
       "    │   │   │   │ {textref_0x139a4aa20}    │\n",
       "    │   │   │   ╰──────────────────────────╯\n",
       "    │   │   │   └── ...\n",
       "    │   │   └── {textref_0x139a4aa20}: _format11\n",
       "    │   │       └── ...\n",
       "    │   ├── ╭─ {pattern_desc}: _immediate14 ───────────────────────────────╮\n",
       "    │   │   │ Given text, state which of these cases most closely applies: │\n",
       "    │   │   │ \"Helpful\"                                                    │\n",
       "    │   │   │ \"Unhelpful\"                                                  │\n",
       "    │   │   │                                                              │\n",
       "    │   │   ╰──────────────────────────────────────────────────────────────╯\n",
       "    │   └── ╭─ {schema}: _immediate15 ─────────────────────────────╮\n",
       "    │       │ {\"type\": \"string\", \"enum\": [\"Unhelpful\", \"Helpful\"]} │\n",
       "    │       ╰──────────────────────────────────────────────────────╯\n",
       "    ├── ╭─ user_message_0: _immediate20 ─╮\n",
       "    │   │ how can I help you?            │\n",
       "    │   ╰────────────────────────────────╯\n",
       "    ├── ╭─ assistant_message_0: _immediate21 ─╮\n",
       "    │   │ \"Helpful\"                           │\n",
       "    │   ╰─────────────────────────────────────╯\n",
       "    ├── ╭─ user_message_1: _immediate22 ─╮\n",
       "    │   │ Get out of my way.             │\n",
       "    │   ╰────────────────────────────────╯\n",
       "    └── ╭─ assistant_message_1: _immediate23 ─╮\n",
       "        │ \"Unhelpful\"                         │\n",
       "        ╰─────────────────────────────────────╯\n"
      ]
     },
     "metadata": {},
     "output_type": "display_data"
    },
    {
     "data": {
      "text/html": [
       "<pre style=\"white-space:pre;overflow-x:auto;line-height:normal;font-family:Menlo,'DejaVu Sans Mono',consolas,'Courier New',monospace\">_boolean_gate26\n",
       "├── value: _history_complete24\n",
       "│   ├── ╭─ user_message: default:default:my_input ─╮\n",
       "│   │   │ How are you today?                       │\n",
       "│   │   ╰──────────────────────────────────────────╯\n",
       "│   ├── system_prompt: _format16\n",
       "│   │   ├── template: _format13\n",
       "│   │   │   ├── ╭─ template: _immediate12 ─╮\n",
       "│   │   │   │   │ {textref_0x139a4aa20}    │\n",
       "│   │   │   │   ╰──────────────────────────╯\n",
       "│   │   │   │   └── ...\n",
       "│   │   │   └── {textref_0x139a4aa20}: _format11\n",
       "│   │   │       └── ...\n",
       "│   │   ├── ╭─ {pattern_desc}: _immediate14 ───────────────────────────────╮\n",
       "│   │   │   │ Given text, state which of these cases most closely applies: │\n",
       "│   │   │   │ \"Helpful\"                                                    │\n",
       "│   │   │   │ \"Unhelpful\"                                                  │\n",
       "│   │   │   │                                                              │\n",
       "│   │   │   ╰──────────────────────────────────────────────────────────────╯\n",
       "│   │   └── ╭─ {schema}: _immediate15 ─────────────────────────────╮\n",
       "│   │       │ {\"type\": \"string\", \"enum\": [\"Unhelpful\", \"Helpful\"]} │\n",
       "│   │       ╰──────────────────────────────────────────────────────╯\n",
       "│   ├── ╭─ user_message_0: _immediate20 ─╮\n",
       "│   │   │ how can I help you?            │\n",
       "│   │   ╰────────────────────────────────╯\n",
       "│   ├── ╭─ assistant_message_0: _immediate21 ─╮\n",
       "│   │   │ \"Helpful\"                           │\n",
       "│   │   ╰─────────────────────────────────────╯\n",
       "│   ├── ╭─ user_message_1: _immediate22 ─╮\n",
       "│   │   │ Get out of my way.             │\n",
       "│   │   ╰────────────────────────────────╯\n",
       "│   └── ╭─ assistant_message_1: _immediate23 ─╮\n",
       "│       │ \"Unhelpful\"                         │\n",
       "│       ╰─────────────────────────────────────╯\n",
       "└── gating: _builtin_unary_check25\n",
       "    └── input: _history_complete24\n",
       "        ├── ╭─ user_message: default:default:my_input ─╮\n",
       "        │   │ How are you today?                       │\n",
       "        │   ╰──────────────────────────────────────────╯\n",
       "        ├── system_prompt: _format16\n",
       "        │   ├── template: _format13\n",
       "        │   │   └── ...\n",
       "        │   ├── ╭─ {pattern_desc}: _immediate14 ───────────────────────────────╮\n",
       "        │   │   │ Given text, state which of these cases most closely applies: │\n",
       "        │   │   │ \"Helpful\"                                                    │\n",
       "        │   │   │ \"Unhelpful\"                                                  │\n",
       "        │   │   │                                                              │\n",
       "        │   │   ╰──────────────────────────────────────────────────────────────╯\n",
       "        │   │   └── ...\n",
       "        │   └── ╭─ {schema}: _immediate15 ─────────────────────────────╮\n",
       "        │       │ {\"type\": \"string\", \"enum\": [\"Unhelpful\", \"Helpful\"]} │\n",
       "        │       ╰──────────────────────────────────────────────────────╯\n",
       "        │       └── ...\n",
       "        ├── ╭─ user_message_0: _immediate20 ─╮\n",
       "        │   │ how can I help you?            │\n",
       "        │   ╰────────────────────────────────╯\n",
       "        ├── ╭─ assistant_message_0: _immediate21 ─╮\n",
       "        │   │ \"Helpful\"                           │\n",
       "        │   ╰─────────────────────────────────────╯\n",
       "        ├── ╭─ user_message_1: _immediate22 ─╮\n",
       "        │   │ Get out of my way.             │\n",
       "        │   ╰────────────────────────────────╯\n",
       "        └── ╭─ assistant_message_1: _immediate23 ─╮\n",
       "            │ \"Unhelpful\"                         │\n",
       "            ╰─────────────────────────────────────╯\n",
       "</pre>\n"
      ],
      "text/plain": [
       "_boolean_gate26\n",
       "├── value: _history_complete24\n",
       "│   ├── ╭─ user_message: default:default:my_input ─╮\n",
       "│   │   │ How are you today?                       │\n",
       "│   │   ╰──────────────────────────────────────────╯\n",
       "│   ├── system_prompt: _format16\n",
       "│   │   ├── template: _format13\n",
       "│   │   │   ├── ╭─ template: _immediate12 ─╮\n",
       "│   │   │   │   │ {textref_0x139a4aa20}    │\n",
       "│   │   │   │   ╰──────────────────────────╯\n",
       "│   │   │   │   └── ...\n",
       "│   │   │   └── {textref_0x139a4aa20}: _format11\n",
       "│   │   │       └── ...\n",
       "│   │   ├── ╭─ {pattern_desc}: _immediate14 ───────────────────────────────╮\n",
       "│   │   │   │ Given text, state which of these cases most closely applies: │\n",
       "│   │   │   │ \"Helpful\"                                                    │\n",
       "│   │   │   │ \"Unhelpful\"                                                  │\n",
       "│   │   │   │                                                              │\n",
       "│   │   │   ╰──────────────────────────────────────────────────────────────╯\n",
       "│   │   └── ╭─ {schema}: _immediate15 ─────────────────────────────╮\n",
       "│   │       │ {\"type\": \"string\", \"enum\": [\"Unhelpful\", \"Helpful\"]} │\n",
       "│   │       ╰──────────────────────────────────────────────────────╯\n",
       "│   ├── ╭─ user_message_0: _immediate20 ─╮\n",
       "│   │   │ how can I help you?            │\n",
       "│   │   ╰────────────────────────────────╯\n",
       "│   ├── ╭─ assistant_message_0: _immediate21 ─╮\n",
       "│   │   │ \"Helpful\"                           │\n",
       "│   │   ╰─────────────────────────────────────╯\n",
       "│   ├── ╭─ user_message_1: _immediate22 ─╮\n",
       "│   │   │ Get out of my way.             │\n",
       "│   │   ╰────────────────────────────────╯\n",
       "│   └── ╭─ assistant_message_1: _immediate23 ─╮\n",
       "│       │ \"Unhelpful\"                         │\n",
       "│       ╰─────────────────────────────────────╯\n",
       "└── gating: _builtin_unary_check25\n",
       "    └── input: _history_complete24\n",
       "        ├── ╭─ user_message: default:default:my_input ─╮\n",
       "        │   │ How are you today?                       │\n",
       "        │   ╰──────────────────────────────────────────╯\n",
       "        ├── system_prompt: _format16\n",
       "        │   ├── template: _format13\n",
       "        │   │   └── ...\n",
       "        │   ├── ╭─ {pattern_desc}: _immediate14 ───────────────────────────────╮\n",
       "        │   │   │ Given text, state which of these cases most closely applies: │\n",
       "        │   │   │ \"Helpful\"                                                    │\n",
       "        │   │   │ \"Unhelpful\"                                                  │\n",
       "        │   │   │                                                              │\n",
       "        │   │   ╰──────────────────────────────────────────────────────────────╯\n",
       "        │   │   └── ...\n",
       "        │   └── ╭─ {schema}: _immediate15 ─────────────────────────────╮\n",
       "        │       │ {\"type\": \"string\", \"enum\": [\"Unhelpful\", \"Helpful\"]} │\n",
       "        │       ╰──────────────────────────────────────────────────────╯\n",
       "        │       └── ...\n",
       "        ├── ╭─ user_message_0: _immediate20 ─╮\n",
       "        │   │ how can I help you?            │\n",
       "        │   ╰────────────────────────────────╯\n",
       "        ├── ╭─ assistant_message_0: _immediate21 ─╮\n",
       "        │   │ \"Helpful\"                           │\n",
       "        │   ╰─────────────────────────────────────╯\n",
       "        ├── ╭─ user_message_1: _immediate22 ─╮\n",
       "        │   │ Get out of my way.             │\n",
       "        │   ╰────────────────────────────────╯\n",
       "        └── ╭─ assistant_message_1: _immediate23 ─╮\n",
       "            │ \"Unhelpful\"                         │\n",
       "            ╰─────────────────────────────────────╯\n"
      ]
     },
     "metadata": {},
     "output_type": "display_data"
    },
    {
     "data": {
      "text/html": [
       "<pre style=\"white-space:pre;overflow-x:auto;line-height:normal;font-family:Menlo,'DejaVu Sans Mono',consolas,'Courier New',monospace\"><span style=\"font-style: italic\">                          _immediate27                          </span>\n",
       "┌───────┬──────────────────────────────────────────────────────┐\n",
       "│ value │ {\"type\": \"string\", \"enum\": [\"Unhelpful\", \"Helpful\"]} │\n",
       "└───────┴──────────────────────────────────────────────────────┘\n",
       "</pre>\n"
      ],
      "text/plain": [
       "\u001b[3m                          _immediate27                          \u001b[0m\n",
       "┌───────┬──────────────────────────────────────────────────────┐\n",
       "│ value │ {\"type\": \"string\", \"enum\": [\"Unhelpful\", \"Helpful\"]} │\n",
       "└───────┴──────────────────────────────────────────────────────┘\n"
      ]
     },
     "metadata": {},
     "output_type": "display_data"
    },
    {
     "data": {
      "text/html": [
       "<pre style=\"white-space:pre;overflow-x:auto;line-height:normal;font-family:Menlo,'DejaVu Sans Mono',consolas,'Courier New',monospace\"><span style=\"font-style: italic\">       _builtin_binary_check28        </span>\n",
       "┌─────────────────┬──────────────────┐\n",
       "│ binaryCheckName │ CHECK_JSONSCHEMA │\n",
       "└─────────────────┴──────────────────┘\n",
       "├── input_main: _boolean_gate26\n",
       "│   ├── value: _history_complete24\n",
       "│   │   ├── ╭─ user_message: default:default:my_input ─╮\n",
       "│   │   │   │ How are you today?                       │\n",
       "│   │   │   ╰──────────────────────────────────────────╯\n",
       "│   │   ├── system_prompt: _format16\n",
       "│   │   │   ├── template: _format13\n",
       "│   │   │   │   └── ...\n",
       "│   │   │   ├── ╭─ {pattern_desc}: _immediate14 ───────────────────────────────╮\n",
       "│   │   │   │   │ Given text, state which of these cases most closely applies: │\n",
       "│   │   │   │   │ \"Helpful\"                                                    │\n",
       "│   │   │   │   │ \"Unhelpful\"                                                  │\n",
       "│   │   │   │   │                                                              │\n",
       "│   │   │   │   ╰──────────────────────────────────────────────────────────────╯\n",
       "│   │   │   │   └── ...\n",
       "│   │   │   └── ╭─ {schema}: _immediate15 ─────────────────────────────╮\n",
       "│   │   │       │ {\"type\": \"string\", \"enum\": [\"Unhelpful\", \"Helpful\"]} │\n",
       "│   │   │       ╰──────────────────────────────────────────────────────╯\n",
       "│   │   │       └── ...\n",
       "│   │   ├── ╭─ user_message_0: _immediate20 ─╮\n",
       "│   │   │   │ how can I help you?            │\n",
       "│   │   │   ╰────────────────────────────────╯\n",
       "│   │   ├── ╭─ assistant_message_0: _immediate21 ─╮\n",
       "│   │   │   │ \"Helpful\"                           │\n",
       "│   │   │   ╰─────────────────────────────────────╯\n",
       "│   │   ├── ╭─ user_message_1: _immediate22 ─╮\n",
       "│   │   │   │ Get out of my way.             │\n",
       "│   │   │   ╰────────────────────────────────╯\n",
       "│   │   └── ╭─ assistant_message_1: _immediate23 ─╮\n",
       "│   │       │ \"Unhelpful\"                         │\n",
       "│   │       ╰─────────────────────────────────────╯\n",
       "│   └── gating: _builtin_unary_check25\n",
       "│       └── input: _history_complete24\n",
       "│           ├── ╭─ user_message: default:default:my_input ─╮\n",
       "│           │   │ How are you today?                       │\n",
       "│           │   ╰──────────────────────────────────────────╯\n",
       "│           │   └── ...\n",
       "│           ├── system_prompt: _format16\n",
       "│           │   └── ...\n",
       "│           ├── ╭─ user_message_0: _immediate20 ─╮\n",
       "│           │   │ how can I help you?            │\n",
       "│           │   ╰────────────────────────────────╯\n",
       "│           │   └── ...\n",
       "│           ├── ╭─ assistant_message_0: _immediate21 ─╮\n",
       "│           │   │ \"Helpful\"                           │\n",
       "│           │   ╰─────────────────────────────────────╯\n",
       "│           │   └── ...\n",
       "│           ├── ╭─ user_message_1: _immediate22 ─╮\n",
       "│           │   │ Get out of my way.             │\n",
       "│           │   ╰────────────────────────────────╯\n",
       "│           │   └── ...\n",
       "│           └── ╭─ assistant_message_1: _immediate23 ─╮\n",
       "│               │ \"Unhelpful\"                         │\n",
       "│               ╰─────────────────────────────────────╯\n",
       "│               └── ...\n",
       "└── ╭─ input_secondary: _immediate27 ──────────────────────╮\n",
       "    │ {\"type\": \"string\", \"enum\": [\"Unhelpful\", \"Helpful\"]} │\n",
       "    ╰──────────────────────────────────────────────────────╯\n",
       "</pre>\n"
      ],
      "text/plain": [
       "\u001b[3m       _builtin_binary_check28        \u001b[0m\n",
       "┌─────────────────┬──────────────────┐\n",
       "│ binaryCheckName │ CHECK_JSONSCHEMA │\n",
       "└─────────────────┴──────────────────┘\n",
       "├── input_main: _boolean_gate26\n",
       "│   ├── value: _history_complete24\n",
       "│   │   ├── ╭─ user_message: default:default:my_input ─╮\n",
       "│   │   │   │ How are you today?                       │\n",
       "│   │   │   ╰──────────────────────────────────────────╯\n",
       "│   │   ├── system_prompt: _format16\n",
       "│   │   │   ├── template: _format13\n",
       "│   │   │   │   └── ...\n",
       "│   │   │   ├── ╭─ {pattern_desc}: _immediate14 ───────────────────────────────╮\n",
       "│   │   │   │   │ Given text, state which of these cases most closely applies: │\n",
       "│   │   │   │   │ \"Helpful\"                                                    │\n",
       "│   │   │   │   │ \"Unhelpful\"                                                  │\n",
       "│   │   │   │   │                                                              │\n",
       "│   │   │   │   ╰──────────────────────────────────────────────────────────────╯\n",
       "│   │   │   │   └── ...\n",
       "│   │   │   └── ╭─ {schema}: _immediate15 ─────────────────────────────╮\n",
       "│   │   │       │ {\"type\": \"string\", \"enum\": [\"Unhelpful\", \"Helpful\"]} │\n",
       "│   │   │       ╰──────────────────────────────────────────────────────╯\n",
       "│   │   │       └── ...\n",
       "│   │   ├── ╭─ user_message_0: _immediate20 ─╮\n",
       "│   │   │   │ how can I help you?            │\n",
       "│   │   │   ╰────────────────────────────────╯\n",
       "│   │   ├── ╭─ assistant_message_0: _immediate21 ─╮\n",
       "│   │   │   │ \"Helpful\"                           │\n",
       "│   │   │   ╰─────────────────────────────────────╯\n",
       "│   │   ├── ╭─ user_message_1: _immediate22 ─╮\n",
       "│   │   │   │ Get out of my way.             │\n",
       "│   │   │   ╰────────────────────────────────╯\n",
       "│   │   └── ╭─ assistant_message_1: _immediate23 ─╮\n",
       "│   │       │ \"Unhelpful\"                         │\n",
       "│   │       ╰─────────────────────────────────────╯\n",
       "│   └── gating: _builtin_unary_check25\n",
       "│       └── input: _history_complete24\n",
       "│           ├── ╭─ user_message: default:default:my_input ─╮\n",
       "│           │   │ How are you today?                       │\n",
       "│           │   ╰──────────────────────────────────────────╯\n",
       "│           │   └── ...\n",
       "│           ├── system_prompt: _format16\n",
       "│           │   └── ...\n",
       "│           ├── ╭─ user_message_0: _immediate20 ─╮\n",
       "│           │   │ how can I help you?            │\n",
       "│           │   ╰────────────────────────────────╯\n",
       "│           │   └── ...\n",
       "│           ├── ╭─ assistant_message_0: _immediate21 ─╮\n",
       "│           │   │ \"Helpful\"                           │\n",
       "│           │   ╰─────────────────────────────────────╯\n",
       "│           │   └── ...\n",
       "│           ├── ╭─ user_message_1: _immediate22 ─╮\n",
       "│           │   │ Get out of my way.             │\n",
       "│           │   ╰────────────────────────────────╯\n",
       "│           │   └── ...\n",
       "│           └── ╭─ assistant_message_1: _immediate23 ─╮\n",
       "│               │ \"Unhelpful\"                         │\n",
       "│               ╰─────────────────────────────────────╯\n",
       "│               └── ...\n",
       "└── ╭─ input_secondary: _immediate27 ──────────────────────╮\n",
       "    │ {\"type\": \"string\", \"enum\": [\"Unhelpful\", \"Helpful\"]} │\n",
       "    ╰──────────────────────────────────────────────────────╯\n"
      ]
     },
     "metadata": {},
     "output_type": "display_data"
    },
    {
     "data": {
      "text/html": [
       "<pre style=\"white-space:pre;overflow-x:auto;line-height:normal;font-family:Menlo,'DejaVu Sans Mono',consolas,'Courier New',monospace\">_boolean_gate29\n",
       "├── value: _boolean_gate26\n",
       "│   ├── value: _history_complete24\n",
       "│   │   ├── ╭─ user_message: default:default:my_input ─╮\n",
       "│   │   │   │ How are you today?                       │\n",
       "│   │   │   ╰──────────────────────────────────────────╯\n",
       "│   │   ├── system_prompt: _format16\n",
       "│   │   │   ├── template: _format13\n",
       "│   │   │   │   └── ...\n",
       "│   │   │   ├── ╭─ {pattern_desc}: _immediate14 ───────────────────────────────╮\n",
       "│   │   │   │   │ Given text, state which of these cases most closely applies: │\n",
       "│   │   │   │   │ \"Helpful\"                                                    │\n",
       "│   │   │   │   │ \"Unhelpful\"                                                  │\n",
       "│   │   │   │   │                                                              │\n",
       "│   │   │   │   ╰──────────────────────────────────────────────────────────────╯\n",
       "│   │   │   │   └── ...\n",
       "│   │   │   └── ╭─ {schema}: _immediate15 ─────────────────────────────╮\n",
       "│   │   │       │ {\"type\": \"string\", \"enum\": [\"Unhelpful\", \"Helpful\"]} │\n",
       "│   │   │       ╰──────────────────────────────────────────────────────╯\n",
       "│   │   │       └── ...\n",
       "│   │   ├── ╭─ user_message_0: _immediate20 ─╮\n",
       "│   │   │   │ how can I help you?            │\n",
       "│   │   │   ╰────────────────────────────────╯\n",
       "│   │   ├── ╭─ assistant_message_0: _immediate21 ─╮\n",
       "│   │   │   │ \"Helpful\"                           │\n",
       "│   │   │   ╰─────────────────────────────────────╯\n",
       "│   │   ├── ╭─ user_message_1: _immediate22 ─╮\n",
       "│   │   │   │ Get out of my way.             │\n",
       "│   │   │   ╰────────────────────────────────╯\n",
       "│   │   └── ╭─ assistant_message_1: _immediate23 ─╮\n",
       "│   │       │ \"Unhelpful\"                         │\n",
       "│   │       ╰─────────────────────────────────────╯\n",
       "│   └── gating: _builtin_unary_check25\n",
       "│       └── input: _history_complete24\n",
       "│           ├── ╭─ user_message: default:default:my_input ─╮\n",
       "│           │   │ How are you today?                       │\n",
       "│           │   ╰──────────────────────────────────────────╯\n",
       "│           │   └── ...\n",
       "│           ├── system_prompt: _format16\n",
       "│           │   └── ...\n",
       "│           ├── ╭─ user_message_0: _immediate20 ─╮\n",
       "│           │   │ how can I help you?            │\n",
       "│           │   ╰────────────────────────────────╯\n",
       "│           │   └── ...\n",
       "│           ├── ╭─ assistant_message_0: _immediate21 ─╮\n",
       "│           │   │ \"Helpful\"                           │\n",
       "│           │   ╰─────────────────────────────────────╯\n",
       "│           │   └── ...\n",
       "│           ├── ╭─ user_message_1: _immediate22 ─╮\n",
       "│           │   │ Get out of my way.             │\n",
       "│           │   ╰────────────────────────────────╯\n",
       "│           │   └── ...\n",
       "│           └── ╭─ assistant_message_1: _immediate23 ─╮\n",
       "│               │ \"Unhelpful\"                         │\n",
       "│               ╰─────────────────────────────────────╯\n",
       "│               └── ...\n",
       "└── gating: _builtin_binary_check28\n",
       "    ├── input_main: _boolean_gate26\n",
       "    │   ├── value: _history_complete24\n",
       "    │   │   ├── ╭─ user_message: default:default:my_input ─╮\n",
       "    │   │   │   │ How are you today?                       │\n",
       "    │   │   │   ╰──────────────────────────────────────────╯\n",
       "    │   │   │   └── ...\n",
       "    │   │   ├── system_prompt: _format16\n",
       "    │   │   │   └── ...\n",
       "    │   │   ├── ╭─ user_message_0: _immediate20 ─╮\n",
       "    │   │   │   │ how can I help you?            │\n",
       "    │   │   │   ╰────────────────────────────────╯\n",
       "    │   │   │   └── ...\n",
       "    │   │   ├── ╭─ assistant_message_0: _immediate21 ─╮\n",
       "    │   │   │   │ \"Helpful\"                           │\n",
       "    │   │   │   ╰─────────────────────────────────────╯\n",
       "    │   │   │   └── ...\n",
       "    │   │   ├── ╭─ user_message_1: _immediate22 ─╮\n",
       "    │   │   │   │ Get out of my way.             │\n",
       "    │   │   │   ╰────────────────────────────────╯\n",
       "    │   │   │   └── ...\n",
       "    │   │   └── ╭─ assistant_message_1: _immediate23 ─╮\n",
       "    │   │       │ \"Unhelpful\"                         │\n",
       "    │   │       ╰─────────────────────────────────────╯\n",
       "    │   │       └── ...\n",
       "    │   └── gating: _builtin_unary_check25\n",
       "    │       └── input: _history_complete24\n",
       "    │           └── ...\n",
       "    └── ╭─ input_secondary: _immediate27 ──────────────────────╮\n",
       "        │ {\"type\": \"string\", \"enum\": [\"Unhelpful\", \"Helpful\"]} │\n",
       "        ╰──────────────────────────────────────────────────────╯\n",
       "</pre>\n"
      ],
      "text/plain": [
       "_boolean_gate29\n",
       "├── value: _boolean_gate26\n",
       "│   ├── value: _history_complete24\n",
       "│   │   ├── ╭─ user_message: default:default:my_input ─╮\n",
       "│   │   │   │ How are you today?                       │\n",
       "│   │   │   ╰──────────────────────────────────────────╯\n",
       "│   │   ├── system_prompt: _format16\n",
       "│   │   │   ├── template: _format13\n",
       "│   │   │   │   └── ...\n",
       "│   │   │   ├── ╭─ {pattern_desc}: _immediate14 ───────────────────────────────╮\n",
       "│   │   │   │   │ Given text, state which of these cases most closely applies: │\n",
       "│   │   │   │   │ \"Helpful\"                                                    │\n",
       "│   │   │   │   │ \"Unhelpful\"                                                  │\n",
       "│   │   │   │   │                                                              │\n",
       "│   │   │   │   ╰──────────────────────────────────────────────────────────────╯\n",
       "│   │   │   │   └── ...\n",
       "│   │   │   └── ╭─ {schema}: _immediate15 ─────────────────────────────╮\n",
       "│   │   │       │ {\"type\": \"string\", \"enum\": [\"Unhelpful\", \"Helpful\"]} │\n",
       "│   │   │       ╰──────────────────────────────────────────────────────╯\n",
       "│   │   │       └── ...\n",
       "│   │   ├── ╭─ user_message_0: _immediate20 ─╮\n",
       "│   │   │   │ how can I help you?            │\n",
       "│   │   │   ╰────────────────────────────────╯\n",
       "│   │   ├── ╭─ assistant_message_0: _immediate21 ─╮\n",
       "│   │   │   │ \"Helpful\"                           │\n",
       "│   │   │   ╰─────────────────────────────────────╯\n",
       "│   │   ├── ╭─ user_message_1: _immediate22 ─╮\n",
       "│   │   │   │ Get out of my way.             │\n",
       "│   │   │   ╰────────────────────────────────╯\n",
       "│   │   └── ╭─ assistant_message_1: _immediate23 ─╮\n",
       "│   │       │ \"Unhelpful\"                         │\n",
       "│   │       ╰─────────────────────────────────────╯\n",
       "│   └── gating: _builtin_unary_check25\n",
       "│       └── input: _history_complete24\n",
       "│           ├── ╭─ user_message: default:default:my_input ─╮\n",
       "│           │   │ How are you today?                       │\n",
       "│           │   ╰──────────────────────────────────────────╯\n",
       "│           │   └── ...\n",
       "│           ├── system_prompt: _format16\n",
       "│           │   └── ...\n",
       "│           ├── ╭─ user_message_0: _immediate20 ─╮\n",
       "│           │   │ how can I help you?            │\n",
       "│           │   ╰────────────────────────────────╯\n",
       "│           │   └── ...\n",
       "│           ├── ╭─ assistant_message_0: _immediate21 ─╮\n",
       "│           │   │ \"Helpful\"                           │\n",
       "│           │   ╰─────────────────────────────────────╯\n",
       "│           │   └── ...\n",
       "│           ├── ╭─ user_message_1: _immediate22 ─╮\n",
       "│           │   │ Get out of my way.             │\n",
       "│           │   ╰────────────────────────────────╯\n",
       "│           │   └── ...\n",
       "│           └── ╭─ assistant_message_1: _immediate23 ─╮\n",
       "│               │ \"Unhelpful\"                         │\n",
       "│               ╰─────────────────────────────────────╯\n",
       "│               └── ...\n",
       "└── gating: _builtin_binary_check28\n",
       "    ├── input_main: _boolean_gate26\n",
       "    │   ├── value: _history_complete24\n",
       "    │   │   ├── ╭─ user_message: default:default:my_input ─╮\n",
       "    │   │   │   │ How are you today?                       │\n",
       "    │   │   │   ╰──────────────────────────────────────────╯\n",
       "    │   │   │   └── ...\n",
       "    │   │   ├── system_prompt: _format16\n",
       "    │   │   │   └── ...\n",
       "    │   │   ├── ╭─ user_message_0: _immediate20 ─╮\n",
       "    │   │   │   │ how can I help you?            │\n",
       "    │   │   │   ╰────────────────────────────────╯\n",
       "    │   │   │   └── ...\n",
       "    │   │   ├── ╭─ assistant_message_0: _immediate21 ─╮\n",
       "    │   │   │   │ \"Helpful\"                           │\n",
       "    │   │   │   ╰─────────────────────────────────────╯\n",
       "    │   │   │   └── ...\n",
       "    │   │   ├── ╭─ user_message_1: _immediate22 ─╮\n",
       "    │   │   │   │ Get out of my way.             │\n",
       "    │   │   │   ╰────────────────────────────────╯\n",
       "    │   │   │   └── ...\n",
       "    │   │   └── ╭─ assistant_message_1: _immediate23 ─╮\n",
       "    │   │       │ \"Unhelpful\"                         │\n",
       "    │   │       ╰─────────────────────────────────────╯\n",
       "    │   │       └── ...\n",
       "    │   └── gating: _builtin_unary_check25\n",
       "    │       └── input: _history_complete24\n",
       "    │           └── ...\n",
       "    └── ╭─ input_secondary: _immediate27 ──────────────────────╮\n",
       "        │ {\"type\": \"string\", \"enum\": [\"Unhelpful\", \"Helpful\"]} │\n",
       "        ╰──────────────────────────────────────────────────────╯\n"
      ]
     },
     "metadata": {},
     "output_type": "display_data"
    }
   ],
   "source": [
    "import axiomic.core.modules as modules\n",
    "\n",
    "\n",
    "cases = [\n",
    "    ('how can I help you?', '\"Helpful\"'),\n",
    "    ('Get out of my way.', '\"Unhelpful\"')\n",
    "]\n",
    "\n",
    "switch = modules.Switch(cases)\n",
    "\n",
    "w = ax.Text('How are you today?', name='my_input')\n",
    "\n",
    "case = switch.infer(w)\n",
    "\n",
    "case.print_graph()"
   ]
  }
 ],
 "metadata": {
  "kernelspec": {
   "display_name": "Python 3 (ipykernel)",
   "language": "python",
   "name": "python3"
  },
  "language_info": {
   "codemirror_mode": {
    "name": "ipython",
    "version": 3
   },
   "file_extension": ".py",
   "mimetype": "text/x-python",
   "name": "python",
   "nbconvert_exporter": "python",
   "pygments_lexer": "ipython3",
   "version": "3.12.3"
  },
  "widgets": {
   "application/vnd.jupyter.widget-state+json": {
    "state": {
     "1435e5f134204b4f919380951d6ef9cf": {
      "model_module": "@jupyter-widgets/base",
      "model_module_version": "2.0.0",
      "model_name": "LayoutModel",
      "state": {
       "_model_module": "@jupyter-widgets/base",
       "_model_module_version": "2.0.0",
       "_model_name": "LayoutModel",
       "_view_count": null,
       "_view_module": "@jupyter-widgets/base",
       "_view_module_version": "2.0.0",
       "_view_name": "LayoutView",
       "align_content": null,
       "align_items": null,
       "align_self": null,
       "border_bottom": null,
       "border_left": null,
       "border_right": null,
       "border_top": null,
       "bottom": null,
       "display": null,
       "flex": null,
       "flex_flow": null,
       "grid_area": null,
       "grid_auto_columns": null,
       "grid_auto_flow": null,
       "grid_auto_rows": null,
       "grid_column": null,
       "grid_gap": null,
       "grid_row": null,
       "grid_template_areas": null,
       "grid_template_columns": null,
       "grid_template_rows": null,
       "height": null,
       "justify_content": null,
       "justify_items": null,
       "left": null,
       "margin": null,
       "max_height": null,
       "max_width": null,
       "min_height": null,
       "min_width": null,
       "object_fit": null,
       "object_position": null,
       "order": null,
       "overflow": null,
       "padding": null,
       "right": null,
       "top": null,
       "visibility": null,
       "width": null
      }
     },
     "d1144abf5d754a839346d4454d5ea49f": {
      "model_module": "@jupyter-widgets/output",
      "model_module_version": "1.0.0",
      "model_name": "OutputModel",
      "state": {
       "_dom_classes": [],
       "_model_module": "@jupyter-widgets/output",
       "_model_module_version": "1.0.0",
       "_model_name": "OutputModel",
       "_view_count": null,
       "_view_module": "@jupyter-widgets/output",
       "_view_module_version": "1.0.0",
       "_view_name": "OutputView",
       "layout": "IPY_MODEL_1435e5f134204b4f919380951d6ef9cf",
       "msg_id": "",
       "outputs": [
        {
         "data": {
          "text/html": "<pre style=\"white-space:pre;overflow-x:auto;line-height:normal;font-family:Menlo,'DejaVu Sans Mono',consolas,'Courier New',monospace\"><span style=\"color: #008000; text-decoration-color: #008000\">▰▰▰▰▰▰▱</span> LLM Inference: together_llm meta-llama/Llama-3-8b-chat-hf\n</pre>\n",
          "text/plain": "\u001b[32m▰▰▰▰▰▰▱\u001b[0m LLM Inference: together_llm meta-llama/Llama-3-8b-chat-hf\n"
         },
         "metadata": {},
         "output_type": "display_data"
        }
       ],
       "tabbable": null,
       "tooltip": null
      }
     }
    },
    "version_major": 2,
    "version_minor": 0
   }
  }
 },
 "nbformat": 4,
 "nbformat_minor": 5
}
