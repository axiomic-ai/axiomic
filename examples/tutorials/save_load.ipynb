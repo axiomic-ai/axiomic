{
 "cells": [
  {
   "cell_type": "markdown",
   "id": "2a1484d5-e5c8-4037-9920-30ab509f7391",
   "metadata": {},
   "source": [
    "# Save & Load Agents - Experimental\n",
    "\n",
    "Sharing and distriubting agents is a key feature of Axiomic. Here is a walkthrough on how it works.\n",
    "\n",
    "Notice: this is an experimental feature, and the ability to configure and have parameters is coming soon."
   ]
  },
  {
   "cell_type": "code",
   "execution_count": 1,
   "id": "b925dc57-5d0c-4c3a-bcd0-6fe935928d10",
   "metadata": {},
   "outputs": [
    {
     "data": {
      "text/html": [
       "<pre style=\"white-space:pre;overflow-x:auto;line-height:normal;font-family:Menlo,'DejaVu Sans Mono',consolas,'Courier New',monospace\"><span style=\"color: #7f7f7f; text-decoration-color: #7f7f7f; font-weight: bold\">(</span><span style=\"color: #7f7f7f; text-decoration-color: #7f7f7f\">axiomic</span><span style=\"color: #7f7f7f; text-decoration-color: #7f7f7f; font-weight: bold\">)</span><span style=\"color: #7f7f7f; text-decoration-color: #7f7f7f\"> weave in helpful console mode </span><span style=\"color: #7f7f7f; text-decoration-color: #7f7f7f; font-weight: bold\">(</span><span style=\"color: #7f7f7f; text-decoration-color: #7f7f7f\">export </span><span style=\"color: #bfbf7f; text-decoration-color: #bfbf7f\">AXIOMIC_CONSOLE_ENABLE</span><span style=\"color: #7f7f7f; text-decoration-color: #7f7f7f\">=</span><span style=\"color: #ff7f7f; text-decoration-color: #ff7f7f; font-style: italic\">False</span><span style=\"color: #7f7f7f; text-decoration-color: #7f7f7f\"> to disable</span><span style=\"color: #7f7f7f; text-decoration-color: #7f7f7f; font-weight: bold\">)</span><span style=\"color: #7f7f7f; text-decoration-color: #7f7f7f\">.</span>\n",
       "</pre>\n"
      ],
      "text/plain": [
       "\u001b[1;2m(\u001b[0m\u001b[2maxiomic\u001b[0m\u001b[1;2m)\u001b[0m\u001b[2m weave in helpful console mode \u001b[0m\u001b[1;2m(\u001b[0m\u001b[2mexport \u001b[0m\u001b[2;33mAXIOMIC_CONSOLE_ENABLE\u001b[0m\u001b[2m=\u001b[0m\u001b[2;3;91mFalse\u001b[0m\u001b[2m to disable\u001b[0m\u001b[1;2m)\u001b[0m\u001b[2m.\u001b[0m\n"
      ]
     },
     "metadata": {},
     "output_type": "display_data"
    },
    {
     "data": {
      "text/html": [
       "<pre style=\"white-space:pre;overflow-x:auto;line-height:normal;font-family:Menlo,'DejaVu Sans Mono',consolas,'Courier New',monospace\"><span style=\"color: #7f7f7f; text-decoration-color: #7f7f7f; font-weight: bold\">(</span><span style=\"color: #7f7f7f; text-decoration-color: #7f7f7f\">axiomic</span><span style=\"color: #7f7f7f; text-decoration-color: #7f7f7f; font-weight: bold\">)</span><span style=\"color: #7f7f7f; text-decoration-color: #7f7f7f\"> discovered OPENAI_API_KEY, models available under models.OpenAI</span>\n",
       "</pre>\n"
      ],
      "text/plain": [
       "\u001b[1;2m(\u001b[0m\u001b[2maxiomic\u001b[0m\u001b[1;2m)\u001b[0m\u001b[2m discovered OPENAI_API_KEY, models available under models.OpenAI\u001b[0m\n"
      ]
     },
     "metadata": {},
     "output_type": "display_data"
    },
    {
     "data": {
      "text/html": [
       "<pre style=\"white-space:pre;overflow-x:auto;line-height:normal;font-family:Menlo,'DejaVu Sans Mono',consolas,'Courier New',monospace\"><span style=\"color: #7f7f7f; text-decoration-color: #7f7f7f; font-weight: bold\">(</span><span style=\"color: #7f7f7f; text-decoration-color: #7f7f7f\">axiomic</span><span style=\"color: #7f7f7f; text-decoration-color: #7f7f7f; font-weight: bold\">)</span><span style=\"color: #7f7f7f; text-decoration-color: #7f7f7f\"> discovered ANTHROPIC_API_KEY, models available under models.Anthropic</span>\n",
       "</pre>\n"
      ],
      "text/plain": [
       "\u001b[1;2m(\u001b[0m\u001b[2maxiomic\u001b[0m\u001b[1;2m)\u001b[0m\u001b[2m discovered ANTHROPIC_API_KEY, models available under models.Anthropic\u001b[0m\n"
      ]
     },
     "metadata": {},
     "output_type": "display_data"
    },
    {
     "data": {
      "text/html": [
       "<pre style=\"white-space:pre;overflow-x:auto;line-height:normal;font-family:Menlo,'DejaVu Sans Mono',consolas,'Courier New',monospace\"><span style=\"color: #7f7f7f; text-decoration-color: #7f7f7f; font-weight: bold\">(</span><span style=\"color: #7f7f7f; text-decoration-color: #7f7f7f\">axiomic</span><span style=\"color: #7f7f7f; text-decoration-color: #7f7f7f; font-weight: bold\">)</span><span style=\"color: #7f7f7f; text-decoration-color: #7f7f7f\"> discovered TOGETHER_API_KEY, models available under models.Together</span>\n",
       "</pre>\n"
      ],
      "text/plain": [
       "\u001b[1;2m(\u001b[0m\u001b[2maxiomic\u001b[0m\u001b[1;2m)\u001b[0m\u001b[2m discovered TOGETHER_API_KEY, models available under models.Together\u001b[0m\n"
      ]
     },
     "metadata": {},
     "output_type": "display_data"
    }
   ],
   "source": [
    "import axiomic as axi"
   ]
  },
  {
   "cell_type": "markdown",
   "id": "148c5255-1db7-4be6-9356-1ff1ede87f62",
   "metadata": {},
   "source": [
    "Here, we have a story prompt."
   ]
  },
  {
   "cell_type": "code",
   "execution_count": 2,
   "id": "f33d12fb-ae53-4e2f-a8d1-ddbb88531901",
   "metadata": {},
   "outputs": [
    {
     "data": {
      "application/vnd.jupyter.widget-view+json": {
       "model_id": "",
       "version_major": 2,
       "version_minor": 0
      },
      "text/plain": [
       "Output()"
      ]
     },
     "metadata": {},
     "output_type": "display_data"
    },
    {
     "data": {
      "text/html": [
       "<pre style=\"white-space:pre;overflow-x:auto;line-height:normal;font-family:Menlo,'DejaVu Sans Mono',consolas,'Courier New',monospace\"></pre>\n"
      ],
      "text/plain": []
     },
     "metadata": {},
     "output_type": "display_data"
    },
    {
     "data": {
      "text/html": [
       "<pre style=\"white-space:pre;overflow-x:auto;line-height:normal;font-family:Menlo,'DejaVu Sans Mono',consolas,'Courier New',monospace\"><span style=\"color: #000080; text-decoration-color: #000080; font-weight: bold\">together_text: </span><span style=\"color: #000080; text-decoration-color: #000080; font-weight: bold\">20</span><span style=\"color: #000080; text-decoration-color: #000080; font-weight: bold\"> toks -&gt; meta-llama/Llama-</span><span style=\"color: #000080; text-decoration-color: #000080; font-weight: bold\">3</span><span style=\"color: #000080; text-decoration-color: #000080; font-weight: bold\">-8b-chat-hf -&gt; </span><span style=\"color: #000080; text-decoration-color: #000080; font-weight: bold\">386</span><span style=\"color: #000080; text-decoration-color: #000080; font-weight: bold\"> toks (in </span><span style=\"color: #000080; text-decoration-color: #000080; font-weight: bold\">2.</span><span style=\"color: #000080; text-decoration-color: #000080; font-weight: bold\">25s)</span>\n",
       "</pre>\n"
      ],
      "text/plain": [
       "\u001b[1;34mtogether_text: \u001b[0m\u001b[1;34m20\u001b[0m\u001b[1;34m toks -> meta-llama/Llama-\u001b[0m\u001b[1;34m3\u001b[0m\u001b[1;34m-8b-chat-hf -> \u001b[0m\u001b[1;34m386\u001b[0m\u001b[1;34m toks \u001b[0m\u001b[1;34m(\u001b[0m\u001b[1;34min \u001b[0m\u001b[1;34m2.\u001b[0m\u001b[1;34m25s\u001b[0m\u001b[1;34m)\u001b[0m\n"
      ]
     },
     "metadata": {},
     "output_type": "display_data"
    },
    {
     "data": {
      "text/html": [
       "<pre style=\"white-space:pre;overflow-x:auto;line-height:normal;font-family:Menlo,'DejaVu Sans Mono',consolas,'Courier New',monospace\"><span style=\"color: #808080; text-decoration-color: #808080\">/var/folders/m0/21rq1gt53f9b88p14y6q8pfm0000gn/T/ipykernel_23167/1745772333.py:</span><span style=\"color: #808080; text-decoration-color: #808080; font-weight: bold\">2</span><span style=\"color: #808080; text-decoration-color: #808080\"> </span><span style=\"color: #808080; text-decoration-color: #808080; font-weight: bold\">(</span><span style=\"color: #808080; text-decoration-color: #808080\">printed</span><span style=\"color: #808080; text-decoration-color: #808080; font-weight: bold\">)</span>\n",
       "</pre>\n"
      ],
      "text/plain": [
       "\u001b[38;5;244m/var/folders/m0/21rq1gt53f9b88p14y6q8pfm0000gn/T/ipykernel_23167/\u001b[0m\u001b[38;5;244m1745772333.py\u001b[0m\u001b[38;5;244m:\u001b[0m\u001b[1;38;5;244m2\u001b[0m\u001b[38;5;244m \u001b[0m\u001b[1;38;5;244m(\u001b[0m\u001b[38;5;244mprinted\u001b[0m\u001b[1;38;5;244m)\u001b[0m\n"
      ]
     },
     "metadata": {},
     "output_type": "display_data"
    },
    {
     "data": {
      "text/html": [
       "<pre style=\"white-space:pre;overflow-x:auto;line-height:normal;font-family:Menlo,'DejaVu Sans Mono',consolas,'Courier New',monospace\"><span style=\"color: #808080; text-decoration-color: #808080\">╭─ Text ──────────────────────────────────────────────────────────────────────────────────────────────────────────╮</span>\n",
       "<span style=\"color: #808080; text-decoration-color: #808080\">│ Max, a curious and lovable golden retriever, was on the prowl for something exciting. He sniffed and snuffled   │</span>\n",
       "<span style=\"color: #808080; text-decoration-color: #808080\">│ around the kitchen, his tail wagging with anticipation. His human, a kind old lady named Mrs. Jenkins, was busy │</span>\n",
       "<span style=\"color: #808080; text-decoration-color: #808080\">│ baking cookies in the oven, and Max could smell the sweet aroma wafting through the air.                        │</span>\n",
       "<span style=\"color: #808080; text-decoration-color: #808080\">│                                                                                                                 │</span>\n",
       "<span style=\"color: #808080; text-decoration-color: #808080\">│ As he padded across the floor, his ears perked up at the sound of a faint rustling noise. He followed the sound │</span>\n",
       "<span style=\"color: #808080; text-decoration-color: #808080\">│ to a small crack in the kitchen counter, where a delicious-smelling cookie had fallen onto the floor.           │</span>\n",
       "<span style=\"color: #808080; text-decoration-color: #808080\">│                                                                                                                 │</span>\n",
       "<span style=\"color: #808080; text-decoration-color: #808080\">│ Max's eyes grew wide with excitement as he gazed at the cookie. It was a chocolate chip cookie, still warm from │</span>\n",
       "<span style=\"color: #808080; text-decoration-color: #808080\">│ the oven and slightly soft in the center. He couldn't resist the temptation and quickly pounced on the treat,   │</span>\n",
       "<span style=\"color: #808080; text-decoration-color: #808080\">│ his tongue licking his lips in anticipation.                                                                    │</span>\n",
       "<span style=\"color: #808080; text-decoration-color: #808080\">│                                                                                                                 │</span>\n",
       "<span style=\"color: #808080; text-decoration-color: #808080\">│ As he gobbled up the cookie, Max felt like he was in doggy heaven. The sweet, buttery flavor melted in his      │</span>\n",
       "<span style=\"color: #808080; text-decoration-color: #808080\">│ mouth, and he let out a contented sigh. He looked up at Mrs. Jenkins, who was laughing at the sight of her      │</span>\n",
       "<span style=\"color: #808080; text-decoration-color: #808080\">│ mischievous pup.                                                                                                │</span>\n",
       "<span style=\"color: #808080; text-decoration-color: #808080\">│                                                                                                                 │</span>\n",
       "<span style=\"color: #808080; text-decoration-color: #808080\">│ \"Max, you little scamp!\" she exclaimed, shaking her head in amusement. \"I guess I'll have to bake another one   │</span>\n",
       "<span style=\"color: #808080; text-decoration-color: #808080\">│ for you, huh?\"                                                                                                  │</span>\n",
       "<span style=\"color: #808080; text-decoration-color: #808080\">│                                                                                                                 │</span>\n",
       "<span style=\"color: #808080; text-decoration-color: #808080\">│ Max wagged his tail enthusiastically, as if to say, \"Yes, please! I'll take another one, thank you very much!\"  │</span>\n",
       "<span style=\"color: #808080; text-decoration-color: #808080\">│ Mrs. Jenkins chuckled and handed him another cookie, which he gobbled up just as quickly.                       │</span>\n",
       "<span style=\"color: #808080; text-decoration-color: #808080\">│                                                                                                                 │</span>\n",
       "<span style=\"color: #808080; text-decoration-color: #808080\">│ From that day on, Max was known as the cookie connoisseur of the Jenkins household. He would do just about      │</span>\n",
       "<span style=\"color: #808080; text-decoration-color: #808080\">│ anything to get his paws on one of Mrs. Jenkins' freshly baked treats. And Mrs. Jenkins, well, she loved        │</span>\n",
       "<span style=\"color: #808080; text-decoration-color: #808080\">│ watching her furry friend enjoy his favorite snack, and she made sure to always save a few cookies just for     │</span>\n",
       "<span style=\"color: #808080; text-decoration-color: #808080\">│ him.                                                                                                            │</span>\n",
       "<span style=\"color: #808080; text-decoration-color: #808080\">╰─────────────────────────────────────────────────────────────────────────────────────────────────────────────────╯</span>\n",
       "</pre>\n"
      ],
      "text/plain": [
       "\u001b[38;5;244m╭─\u001b[0m\u001b[38;5;244m Text \u001b[0m\u001b[38;5;244m─────────────────────────────────────────────────────────────────────────────────────────────────────────\u001b[0m\u001b[38;5;244m─╮\u001b[0m\n",
       "\u001b[38;5;244m│\u001b[0m\u001b[38;5;244m \u001b[0m\u001b[38;5;244mMax, a curious and lovable golden retriever, was on the prowl for something exciting. He sniffed and snuffled \u001b[0m\u001b[38;5;244m \u001b[0m\u001b[38;5;244m \u001b[0m\u001b[38;5;244m│\u001b[0m\n",
       "\u001b[38;5;244m│\u001b[0m\u001b[38;5;244m \u001b[0m\u001b[38;5;244maround the kitchen, his tail wagging with anticipation. His human, a kind old lady named Mrs. Jenkins, was busy\u001b[0m\u001b[38;5;244m \u001b[0m\u001b[38;5;244m│\u001b[0m\n",
       "\u001b[38;5;244m│\u001b[0m\u001b[38;5;244m \u001b[0m\u001b[38;5;244mbaking cookies in the oven, and Max could smell the sweet aroma wafting through the air.\u001b[0m\u001b[38;5;244m                       \u001b[0m\u001b[38;5;244m \u001b[0m\u001b[38;5;244m│\u001b[0m\n",
       "\u001b[38;5;244m│\u001b[0m\u001b[38;5;244m \u001b[0m\u001b[38;5;244m                                                                                                               \u001b[0m\u001b[38;5;244m \u001b[0m\u001b[38;5;244m│\u001b[0m\n",
       "\u001b[38;5;244m│\u001b[0m\u001b[38;5;244m \u001b[0m\u001b[38;5;244mAs he padded across the floor, his ears perked up at the sound of a faint rustling noise. He followed the sound\u001b[0m\u001b[38;5;244m \u001b[0m\u001b[38;5;244m│\u001b[0m\n",
       "\u001b[38;5;244m│\u001b[0m\u001b[38;5;244m \u001b[0m\u001b[38;5;244mto a small crack in the kitchen counter, where a delicious-smelling cookie had fallen onto the floor.\u001b[0m\u001b[38;5;244m          \u001b[0m\u001b[38;5;244m \u001b[0m\u001b[38;5;244m│\u001b[0m\n",
       "\u001b[38;5;244m│\u001b[0m\u001b[38;5;244m \u001b[0m\u001b[38;5;244m                                                                                                               \u001b[0m\u001b[38;5;244m \u001b[0m\u001b[38;5;244m│\u001b[0m\n",
       "\u001b[38;5;244m│\u001b[0m\u001b[38;5;244m \u001b[0m\u001b[38;5;244mMax's eyes grew wide with excitement as he gazed at the cookie. It was a chocolate chip cookie, still warm from\u001b[0m\u001b[38;5;244m \u001b[0m\u001b[38;5;244m│\u001b[0m\n",
       "\u001b[38;5;244m│\u001b[0m\u001b[38;5;244m \u001b[0m\u001b[38;5;244mthe oven and slightly soft in the center. He couldn't resist the temptation and quickly pounced on the treat, \u001b[0m\u001b[38;5;244m \u001b[0m\u001b[38;5;244m \u001b[0m\u001b[38;5;244m│\u001b[0m\n",
       "\u001b[38;5;244m│\u001b[0m\u001b[38;5;244m \u001b[0m\u001b[38;5;244mhis tongue licking his lips in anticipation.\u001b[0m\u001b[38;5;244m                                                                   \u001b[0m\u001b[38;5;244m \u001b[0m\u001b[38;5;244m│\u001b[0m\n",
       "\u001b[38;5;244m│\u001b[0m\u001b[38;5;244m \u001b[0m\u001b[38;5;244m                                                                                                               \u001b[0m\u001b[38;5;244m \u001b[0m\u001b[38;5;244m│\u001b[0m\n",
       "\u001b[38;5;244m│\u001b[0m\u001b[38;5;244m \u001b[0m\u001b[38;5;244mAs he gobbled up the cookie, Max felt like he was in doggy heaven. The sweet, buttery flavor melted in his \u001b[0m\u001b[38;5;244m    \u001b[0m\u001b[38;5;244m \u001b[0m\u001b[38;5;244m│\u001b[0m\n",
       "\u001b[38;5;244m│\u001b[0m\u001b[38;5;244m \u001b[0m\u001b[38;5;244mmouth, and he let out a contented sigh. He looked up at Mrs. Jenkins, who was laughing at the sight of her \u001b[0m\u001b[38;5;244m    \u001b[0m\u001b[38;5;244m \u001b[0m\u001b[38;5;244m│\u001b[0m\n",
       "\u001b[38;5;244m│\u001b[0m\u001b[38;5;244m \u001b[0m\u001b[38;5;244mmischievous pup.\u001b[0m\u001b[38;5;244m                                                                                               \u001b[0m\u001b[38;5;244m \u001b[0m\u001b[38;5;244m│\u001b[0m\n",
       "\u001b[38;5;244m│\u001b[0m\u001b[38;5;244m \u001b[0m\u001b[38;5;244m                                                                                                               \u001b[0m\u001b[38;5;244m \u001b[0m\u001b[38;5;244m│\u001b[0m\n",
       "\u001b[38;5;244m│\u001b[0m\u001b[38;5;244m \u001b[0m\u001b[38;5;244m\"Max, you little scamp!\" she exclaimed, shaking her head in amusement. \"I guess I'll have to bake another one \u001b[0m\u001b[38;5;244m \u001b[0m\u001b[38;5;244m \u001b[0m\u001b[38;5;244m│\u001b[0m\n",
       "\u001b[38;5;244m│\u001b[0m\u001b[38;5;244m \u001b[0m\u001b[38;5;244mfor you, huh?\"\u001b[0m\u001b[38;5;244m                                                                                                 \u001b[0m\u001b[38;5;244m \u001b[0m\u001b[38;5;244m│\u001b[0m\n",
       "\u001b[38;5;244m│\u001b[0m\u001b[38;5;244m \u001b[0m\u001b[38;5;244m                                                                                                               \u001b[0m\u001b[38;5;244m \u001b[0m\u001b[38;5;244m│\u001b[0m\n",
       "\u001b[38;5;244m│\u001b[0m\u001b[38;5;244m \u001b[0m\u001b[38;5;244mMax wagged his tail enthusiastically, as if to say, \"Yes, please! I'll take another one, thank you very much!\" \u001b[0m\u001b[38;5;244m \u001b[0m\u001b[38;5;244m│\u001b[0m\n",
       "\u001b[38;5;244m│\u001b[0m\u001b[38;5;244m \u001b[0m\u001b[38;5;244mMrs. Jenkins chuckled and handed him another cookie, which he gobbled up just as quickly.\u001b[0m\u001b[38;5;244m                      \u001b[0m\u001b[38;5;244m \u001b[0m\u001b[38;5;244m│\u001b[0m\n",
       "\u001b[38;5;244m│\u001b[0m\u001b[38;5;244m \u001b[0m\u001b[38;5;244m                                                                                                               \u001b[0m\u001b[38;5;244m \u001b[0m\u001b[38;5;244m│\u001b[0m\n",
       "\u001b[38;5;244m│\u001b[0m\u001b[38;5;244m \u001b[0m\u001b[38;5;244mFrom that day on, Max was known as the cookie connoisseur of the Jenkins household. He would do just about \u001b[0m\u001b[38;5;244m    \u001b[0m\u001b[38;5;244m \u001b[0m\u001b[38;5;244m│\u001b[0m\n",
       "\u001b[38;5;244m│\u001b[0m\u001b[38;5;244m \u001b[0m\u001b[38;5;244manything to get his paws on one of Mrs. Jenkins' freshly baked treats. And Mrs. Jenkins, well, she loved \u001b[0m\u001b[38;5;244m      \u001b[0m\u001b[38;5;244m \u001b[0m\u001b[38;5;244m│\u001b[0m\n",
       "\u001b[38;5;244m│\u001b[0m\u001b[38;5;244m \u001b[0m\u001b[38;5;244mwatching her furry friend enjoy his favorite snack, and she made sure to always save a few cookies just for \u001b[0m\u001b[38;5;244m   \u001b[0m\u001b[38;5;244m \u001b[0m\u001b[38;5;244m│\u001b[0m\n",
       "\u001b[38;5;244m│\u001b[0m\u001b[38;5;244m \u001b[0m\u001b[38;5;244mhim.\u001b[0m\u001b[38;5;244m                                                                                                           \u001b[0m\u001b[38;5;244m \u001b[0m\u001b[38;5;244m│\u001b[0m\n",
       "\u001b[38;5;244m╰─────────────────────────────────────────────────────────────────────────────────────────────────────────────────╯\u001b[0m\n"
      ]
     },
     "metadata": {},
     "output_type": "display_data"
    }
   ],
   "source": [
    "story_prompt = axi.Text('Write a story about a dog finding a cookie.')\n",
    "story = story_prompt.infer().print()"
   ]
  },
  {
   "cell_type": "markdown",
   "id": "d2bb9d7b-6c8b-4220-b09a-b00325f24e1e",
   "metadata": {},
   "source": [
    "We can save it to a file, which is sharable."
   ]
  },
  {
   "cell_type": "code",
   "execution_count": 3,
   "id": "0eb6404c-c59c-4196-91c6-bd395950c6e9",
   "metadata": {},
   "outputs": [],
   "source": [
    "axi.save(story_prompt, 'story_prompt.axi')"
   ]
  },
  {
   "cell_type": "markdown",
   "id": "1c850225-8884-4e2f-97e9-147c29df7b03",
   "metadata": {},
   "source": [
    "Then we can load the prompt back."
   ]
  },
  {
   "cell_type": "code",
   "execution_count": 4,
   "id": "e7ee5240-8d63-4f48-aeae-dfedadd575ae",
   "metadata": {},
   "outputs": [
    {
     "data": {
      "application/vnd.jupyter.widget-view+json": {
       "model_id": "",
       "version_major": 2,
       "version_minor": 0
      },
      "text/plain": [
       "Output()"
      ]
     },
     "metadata": {},
     "output_type": "display_data"
    },
    {
     "data": {
      "text/html": [
       "<pre style=\"white-space:pre;overflow-x:auto;line-height:normal;font-family:Menlo,'DejaVu Sans Mono',consolas,'Courier New',monospace\"></pre>\n"
      ],
      "text/plain": []
     },
     "metadata": {},
     "output_type": "display_data"
    },
    {
     "data": {
      "text/html": [
       "<pre style=\"white-space:pre;overflow-x:auto;line-height:normal;font-family:Menlo,'DejaVu Sans Mono',consolas,'Courier New',monospace\"><span style=\"color: #000080; text-decoration-color: #000080; font-weight: bold\">together_text: </span><span style=\"color: #000080; text-decoration-color: #000080; font-weight: bold\">20</span><span style=\"color: #000080; text-decoration-color: #000080; font-weight: bold\"> toks -&gt; meta-llama/Llama-</span><span style=\"color: #000080; text-decoration-color: #000080; font-weight: bold\">3</span><span style=\"color: #000080; text-decoration-color: #000080; font-weight: bold\">-8b-chat-hf -&gt; </span><span style=\"color: #000080; text-decoration-color: #000080; font-weight: bold\">426</span><span style=\"color: #000080; text-decoration-color: #000080; font-weight: bold\"> toks (in </span><span style=\"color: #000080; text-decoration-color: #000080; font-weight: bold\">2.</span><span style=\"color: #000080; text-decoration-color: #000080; font-weight: bold\">06s)</span>\n",
       "</pre>\n"
      ],
      "text/plain": [
       "\u001b[1;34mtogether_text: \u001b[0m\u001b[1;34m20\u001b[0m\u001b[1;34m toks -> meta-llama/Llama-\u001b[0m\u001b[1;34m3\u001b[0m\u001b[1;34m-8b-chat-hf -> \u001b[0m\u001b[1;34m426\u001b[0m\u001b[1;34m toks \u001b[0m\u001b[1;34m(\u001b[0m\u001b[1;34min \u001b[0m\u001b[1;34m2.\u001b[0m\u001b[1;34m06s\u001b[0m\u001b[1;34m)\u001b[0m\n"
      ]
     },
     "metadata": {},
     "output_type": "display_data"
    },
    {
     "data": {
      "text/html": [
       "<pre style=\"white-space:pre;overflow-x:auto;line-height:normal;font-family:Menlo,'DejaVu Sans Mono',consolas,'Courier New',monospace\"><span style=\"color: #808080; text-decoration-color: #808080\">/var/folders/m0/21rq1gt53f9b88p14y6q8pfm0000gn/T/ipykernel_23167/1562050635.py:</span><span style=\"color: #808080; text-decoration-color: #808080; font-weight: bold\">2</span><span style=\"color: #808080; text-decoration-color: #808080\"> </span><span style=\"color: #808080; text-decoration-color: #808080; font-weight: bold\">(</span><span style=\"color: #808080; text-decoration-color: #808080\">printed</span><span style=\"color: #808080; text-decoration-color: #808080; font-weight: bold\">)</span>\n",
       "</pre>\n"
      ],
      "text/plain": [
       "\u001b[38;5;244m/var/folders/m0/21rq1gt53f9b88p14y6q8pfm0000gn/T/ipykernel_23167/\u001b[0m\u001b[38;5;244m1562050635.py\u001b[0m\u001b[38;5;244m:\u001b[0m\u001b[1;38;5;244m2\u001b[0m\u001b[38;5;244m \u001b[0m\u001b[1;38;5;244m(\u001b[0m\u001b[38;5;244mprinted\u001b[0m\u001b[1;38;5;244m)\u001b[0m\n"
      ]
     },
     "metadata": {},
     "output_type": "display_data"
    },
    {
     "data": {
      "text/html": [
       "<pre style=\"white-space:pre;overflow-x:auto;line-height:normal;font-family:Menlo,'DejaVu Sans Mono',consolas,'Courier New',monospace\"><span style=\"color: #808080; text-decoration-color: #808080\">╭─ Text ──────────────────────────────────────────────────────────────────────────────────────────────────────────╮</span>\n",
       "<span style=\"color: #808080; text-decoration-color: #808080\">│ Max, a curious and lovable golden retriever, was on the prowl for something exciting. He sniffed and snuffled   │</span>\n",
       "<span style=\"color: #808080; text-decoration-color: #808080\">│ around the kitchen, his tail wagging with anticipation. His human, Sarah, was busy making lunch, and Max knew   │</span>\n",
       "<span style=\"color: #808080; text-decoration-color: #808080\">│ that meant there might be tasty treats lurking about.                                                           │</span>\n",
       "<span style=\"color: #808080; text-decoration-color: #808080\">│                                                                                                                 │</span>\n",
       "<span style=\"color: #808080; text-decoration-color: #808080\">│ As he padded across the tile floor, his nose twitched with excitement. He caught a whiff of something amazing - │</span>\n",
       "<span style=\"color: #808080; text-decoration-color: #808080\">│ the sweet, buttery aroma of fresh-baked cookies. Max's ears perked up, and he followed the scent to a spot near │</span>\n",
       "<span style=\"color: #808080; text-decoration-color: #808080\">│ the counter.                                                                                                    │</span>\n",
       "<span style=\"color: #808080; text-decoration-color: #808080\">│                                                                                                                 │</span>\n",
       "<span style=\"color: #808080; text-decoration-color: #808080\">│ There, nestled between a jar of flour and a bag of sugar, lay a single cookie. It was still warm from the oven, │</span>\n",
       "<span style=\"color: #808080; text-decoration-color: #808080\">│ and the aroma wafting from it was irresistible. Max's tail wagged furiously as he gazed up at the cookie, his   │</span>\n",
       "<span style=\"color: #808080; text-decoration-color: #808080\">│ eyes shining with longing.                                                                                      │</span>\n",
       "<span style=\"color: #808080; text-decoration-color: #808080\">│                                                                                                                 │</span>\n",
       "<span style=\"color: #808080; text-decoration-color: #808080\">│ Sarah, busy chopping vegetables, didn't notice Max's discovery. But Max didn't care. He knew he had found       │</span>\n",
       "<span style=\"color: #808080; text-decoration-color: #808080\">│ something special. He crept closer, his paws making barely a sound on the floor.                                │</span>\n",
       "<span style=\"color: #808080; text-decoration-color: #808080\">│                                                                                                                 │</span>\n",
       "<span style=\"color: #808080; text-decoration-color: #808080\">│ As he reached out a paw to claim the cookie, Sarah suddenly turned around. \"Max, what are you doing?\" she       │</span>\n",
       "<span style=\"color: #808080; text-decoration-color: #808080\">│ asked, laughing.                                                                                                │</span>\n",
       "<span style=\"color: #808080; text-decoration-color: #808080\">│                                                                                                                 │</span>\n",
       "<span style=\"color: #808080; text-decoration-color: #808080\">│ Max looked up at her with a guilty expression, the cookie clutched tightly in his jaws. Sarah couldn't help but │</span>\n",
       "<span style=\"color: #808080; text-decoration-color: #808080\">│ chuckle at the sight of her mischievous pup.                                                                    │</span>\n",
       "<span style=\"color: #808080; text-decoration-color: #808080\">│                                                                                                                 │</span>\n",
       "<span style=\"color: #808080; text-decoration-color: #808080\">│ \"Ah, I see you found the cookie,\" she said, shaking her head. \"Well, I suppose you deserve a reward for being   │</span>\n",
       "<span style=\"color: #808080; text-decoration-color: #808080\">│ such a good boy. But next time, ask permission before helping yourself, okay?\"                                  │</span>\n",
       "<span style=\"color: #808080; text-decoration-color: #808080\">│                                                                                                                 │</span>\n",
       "<span style=\"color: #808080; text-decoration-color: #808080\">│ Max wagged his tail, the cookie still clutched in his jaws. He knew he had gotten away with something, and he   │</span>\n",
       "<span style=\"color: #808080; text-decoration-color: #808080\">│ was thrilled. As Sarah handed him a piece of cheese as a substitute treat, Max couldn't help but think that     │</span>\n",
       "<span style=\"color: #808080; text-decoration-color: #808080\">│ sometimes, being a little bit naughty was worth it.                                                             │</span>\n",
       "<span style=\"color: #808080; text-decoration-color: #808080\">│                                                                                                                 │</span>\n",
       "<span style=\"color: #808080; text-decoration-color: #808080\">│ From that day on, Max kept a watchful eye on the cookie jar, knowing that sometimes, the best rewards come from │</span>\n",
       "<span style=\"color: #808080; text-decoration-color: #808080\">│ taking a chance and sniffing out something special.                                                             │</span>\n",
       "<span style=\"color: #808080; text-decoration-color: #808080\">╰─────────────────────────────────────────────────────────────────────────────────────────────────────────────────╯</span>\n",
       "</pre>\n"
      ],
      "text/plain": [
       "\u001b[38;5;244m╭─\u001b[0m\u001b[38;5;244m Text \u001b[0m\u001b[38;5;244m─────────────────────────────────────────────────────────────────────────────────────────────────────────\u001b[0m\u001b[38;5;244m─╮\u001b[0m\n",
       "\u001b[38;5;244m│\u001b[0m\u001b[38;5;244m \u001b[0m\u001b[38;5;244mMax, a curious and lovable golden retriever, was on the prowl for something exciting. He sniffed and snuffled \u001b[0m\u001b[38;5;244m \u001b[0m\u001b[38;5;244m \u001b[0m\u001b[38;5;244m│\u001b[0m\n",
       "\u001b[38;5;244m│\u001b[0m\u001b[38;5;244m \u001b[0m\u001b[38;5;244maround the kitchen, his tail wagging with anticipation. His human, Sarah, was busy making lunch, and Max knew \u001b[0m\u001b[38;5;244m \u001b[0m\u001b[38;5;244m \u001b[0m\u001b[38;5;244m│\u001b[0m\n",
       "\u001b[38;5;244m│\u001b[0m\u001b[38;5;244m \u001b[0m\u001b[38;5;244mthat meant there might be tasty treats lurking about.\u001b[0m\u001b[38;5;244m                                                          \u001b[0m\u001b[38;5;244m \u001b[0m\u001b[38;5;244m│\u001b[0m\n",
       "\u001b[38;5;244m│\u001b[0m\u001b[38;5;244m \u001b[0m\u001b[38;5;244m                                                                                                               \u001b[0m\u001b[38;5;244m \u001b[0m\u001b[38;5;244m│\u001b[0m\n",
       "\u001b[38;5;244m│\u001b[0m\u001b[38;5;244m \u001b[0m\u001b[38;5;244mAs he padded across the tile floor, his nose twitched with excitement. He caught a whiff of something amazing -\u001b[0m\u001b[38;5;244m \u001b[0m\u001b[38;5;244m│\u001b[0m\n",
       "\u001b[38;5;244m│\u001b[0m\u001b[38;5;244m \u001b[0m\u001b[38;5;244mthe sweet, buttery aroma of fresh-baked cookies. Max's ears perked up, and he followed the scent to a spot near\u001b[0m\u001b[38;5;244m \u001b[0m\u001b[38;5;244m│\u001b[0m\n",
       "\u001b[38;5;244m│\u001b[0m\u001b[38;5;244m \u001b[0m\u001b[38;5;244mthe counter.\u001b[0m\u001b[38;5;244m                                                                                                   \u001b[0m\u001b[38;5;244m \u001b[0m\u001b[38;5;244m│\u001b[0m\n",
       "\u001b[38;5;244m│\u001b[0m\u001b[38;5;244m \u001b[0m\u001b[38;5;244m                                                                                                               \u001b[0m\u001b[38;5;244m \u001b[0m\u001b[38;5;244m│\u001b[0m\n",
       "\u001b[38;5;244m│\u001b[0m\u001b[38;5;244m \u001b[0m\u001b[38;5;244mThere, nestled between a jar of flour and a bag of sugar, lay a single cookie. It was still warm from the oven,\u001b[0m\u001b[38;5;244m \u001b[0m\u001b[38;5;244m│\u001b[0m\n",
       "\u001b[38;5;244m│\u001b[0m\u001b[38;5;244m \u001b[0m\u001b[38;5;244mand the aroma wafting from it was irresistible. Max's tail wagged furiously as he gazed up at the cookie, his \u001b[0m\u001b[38;5;244m \u001b[0m\u001b[38;5;244m \u001b[0m\u001b[38;5;244m│\u001b[0m\n",
       "\u001b[38;5;244m│\u001b[0m\u001b[38;5;244m \u001b[0m\u001b[38;5;244meyes shining with longing.\u001b[0m\u001b[38;5;244m                                                                                     \u001b[0m\u001b[38;5;244m \u001b[0m\u001b[38;5;244m│\u001b[0m\n",
       "\u001b[38;5;244m│\u001b[0m\u001b[38;5;244m \u001b[0m\u001b[38;5;244m                                                                                                               \u001b[0m\u001b[38;5;244m \u001b[0m\u001b[38;5;244m│\u001b[0m\n",
       "\u001b[38;5;244m│\u001b[0m\u001b[38;5;244m \u001b[0m\u001b[38;5;244mSarah, busy chopping vegetables, didn't notice Max's discovery. But Max didn't care. He knew he had found \u001b[0m\u001b[38;5;244m     \u001b[0m\u001b[38;5;244m \u001b[0m\u001b[38;5;244m│\u001b[0m\n",
       "\u001b[38;5;244m│\u001b[0m\u001b[38;5;244m \u001b[0m\u001b[38;5;244msomething special. He crept closer, his paws making barely a sound on the floor.\u001b[0m\u001b[38;5;244m                               \u001b[0m\u001b[38;5;244m \u001b[0m\u001b[38;5;244m│\u001b[0m\n",
       "\u001b[38;5;244m│\u001b[0m\u001b[38;5;244m \u001b[0m\u001b[38;5;244m                                                                                                               \u001b[0m\u001b[38;5;244m \u001b[0m\u001b[38;5;244m│\u001b[0m\n",
       "\u001b[38;5;244m│\u001b[0m\u001b[38;5;244m \u001b[0m\u001b[38;5;244mAs he reached out a paw to claim the cookie, Sarah suddenly turned around. \"Max, what are you doing?\" she \u001b[0m\u001b[38;5;244m     \u001b[0m\u001b[38;5;244m \u001b[0m\u001b[38;5;244m│\u001b[0m\n",
       "\u001b[38;5;244m│\u001b[0m\u001b[38;5;244m \u001b[0m\u001b[38;5;244masked, laughing.\u001b[0m\u001b[38;5;244m                                                                                               \u001b[0m\u001b[38;5;244m \u001b[0m\u001b[38;5;244m│\u001b[0m\n",
       "\u001b[38;5;244m│\u001b[0m\u001b[38;5;244m \u001b[0m\u001b[38;5;244m                                                                                                               \u001b[0m\u001b[38;5;244m \u001b[0m\u001b[38;5;244m│\u001b[0m\n",
       "\u001b[38;5;244m│\u001b[0m\u001b[38;5;244m \u001b[0m\u001b[38;5;244mMax looked up at her with a guilty expression, the cookie clutched tightly in his jaws. Sarah couldn't help but\u001b[0m\u001b[38;5;244m \u001b[0m\u001b[38;5;244m│\u001b[0m\n",
       "\u001b[38;5;244m│\u001b[0m\u001b[38;5;244m \u001b[0m\u001b[38;5;244mchuckle at the sight of her mischievous pup.\u001b[0m\u001b[38;5;244m                                                                   \u001b[0m\u001b[38;5;244m \u001b[0m\u001b[38;5;244m│\u001b[0m\n",
       "\u001b[38;5;244m│\u001b[0m\u001b[38;5;244m \u001b[0m\u001b[38;5;244m                                                                                                               \u001b[0m\u001b[38;5;244m \u001b[0m\u001b[38;5;244m│\u001b[0m\n",
       "\u001b[38;5;244m│\u001b[0m\u001b[38;5;244m \u001b[0m\u001b[38;5;244m\"Ah, I see you found the cookie,\" she said, shaking her head. \"Well, I suppose you deserve a reward for being \u001b[0m\u001b[38;5;244m \u001b[0m\u001b[38;5;244m \u001b[0m\u001b[38;5;244m│\u001b[0m\n",
       "\u001b[38;5;244m│\u001b[0m\u001b[38;5;244m \u001b[0m\u001b[38;5;244msuch a good boy. But next time, ask permission before helping yourself, okay?\"\u001b[0m\u001b[38;5;244m                                 \u001b[0m\u001b[38;5;244m \u001b[0m\u001b[38;5;244m│\u001b[0m\n",
       "\u001b[38;5;244m│\u001b[0m\u001b[38;5;244m \u001b[0m\u001b[38;5;244m                                                                                                               \u001b[0m\u001b[38;5;244m \u001b[0m\u001b[38;5;244m│\u001b[0m\n",
       "\u001b[38;5;244m│\u001b[0m\u001b[38;5;244m \u001b[0m\u001b[38;5;244mMax wagged his tail, the cookie still clutched in his jaws. He knew he had gotten away with something, and he \u001b[0m\u001b[38;5;244m \u001b[0m\u001b[38;5;244m \u001b[0m\u001b[38;5;244m│\u001b[0m\n",
       "\u001b[38;5;244m│\u001b[0m\u001b[38;5;244m \u001b[0m\u001b[38;5;244mwas thrilled. As Sarah handed him a piece of cheese as a substitute treat, Max couldn't help but think that \u001b[0m\u001b[38;5;244m   \u001b[0m\u001b[38;5;244m \u001b[0m\u001b[38;5;244m│\u001b[0m\n",
       "\u001b[38;5;244m│\u001b[0m\u001b[38;5;244m \u001b[0m\u001b[38;5;244msometimes, being a little bit naughty was worth it.\u001b[0m\u001b[38;5;244m                                                            \u001b[0m\u001b[38;5;244m \u001b[0m\u001b[38;5;244m│\u001b[0m\n",
       "\u001b[38;5;244m│\u001b[0m\u001b[38;5;244m \u001b[0m\u001b[38;5;244m                                                                                                               \u001b[0m\u001b[38;5;244m \u001b[0m\u001b[38;5;244m│\u001b[0m\n",
       "\u001b[38;5;244m│\u001b[0m\u001b[38;5;244m \u001b[0m\u001b[38;5;244mFrom that day on, Max kept a watchful eye on the cookie jar, knowing that sometimes, the best rewards come from\u001b[0m\u001b[38;5;244m \u001b[0m\u001b[38;5;244m│\u001b[0m\n",
       "\u001b[38;5;244m│\u001b[0m\u001b[38;5;244m \u001b[0m\u001b[38;5;244mtaking a chance and sniffing out something special.\u001b[0m\u001b[38;5;244m                                                            \u001b[0m\u001b[38;5;244m \u001b[0m\u001b[38;5;244m│\u001b[0m\n",
       "\u001b[38;5;244m╰─────────────────────────────────────────────────────────────────────────────────────────────────────────────────╯\u001b[0m\n"
      ]
     },
     "metadata": {},
     "output_type": "display_data"
    }
   ],
   "source": [
    "reloaded = axi.load('story_prompt.axi')\n",
    "new_story = reloaded.infer().print()"
   ]
  },
  {
   "cell_type": "markdown",
   "id": "a2137e61-7923-4c49-a309-e9586839a091",
   "metadata": {},
   "source": [
    "Currently, you can save and re-load the graph. In the upcoming release, you'll be able to have variables to customize the behavior and store complex agents. Stay tuned for the next release."
   ]
  }
 ],
 "metadata": {
  "kernelspec": {
   "display_name": "Python 3 (ipykernel)",
   "language": "python",
   "name": "python3"
  },
  "language_info": {
   "codemirror_mode": {
    "name": "ipython",
    "version": 3
   },
   "file_extension": ".py",
   "mimetype": "text/x-python",
   "name": "python",
   "nbconvert_exporter": "python",
   "pygments_lexer": "ipython3",
   "version": "3.12.3"
  }
 },
 "nbformat": 4,
 "nbformat_minor": 5
}
